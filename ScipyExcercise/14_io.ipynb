{
 "cells": [
  {
   "cell_type": "code",
   "execution_count": 14,
   "metadata": {},
   "outputs": [
    {
     "name": "stdout",
     "output_type": "stream",
     "text": [
      "\n",
      "1. MATLAB Files (.mat):\n",
      "Loaded data: {'__header__': b'MATLAB 5.0 MAT-file Platform: posix, Created on: Sat Feb 15 13:57:05 2025', '__version__': '1.0', '__globals__': [], 'A': array([[1, 2],\n",
      "       [3, 4]]), 'B': array([[5, 6, 7]])}\n",
      "\n",
      "Conclusion (MATLAB):\n",
      "sio.savemat and sio.loadmat are used to save and load data in MATLAB's .mat file format.  It's useful for exchanging data with MATLAB.\n",
      "\n",
      "2. WAV Files (.wav):\n",
      "Loaded audio (first 10 values): [0.         0.03131104 0.0625     0.09347534 0.12405396 0.15414429\n",
      " 0.18365479 0.21243286 0.24035645 0.2673645 ]\n",
      "Loaded sample rate: 44100\n",
      "\n",
      "Conclusion (WAV):\n",
      "soundfile (sf.write and sf.read) is used to save and load audio data in WAV file format. It's important to use a library specifically designed for audio files for correct handling of sample rates, data types, etc.\n"
     ]
    }
   ],
   "source": [
    "import numpy as np\n",
    "import scipy.io as sio\n",
    "import soundfile as sf  # For WAV files (install with: pip install soundfile)\n",
    "# from arff import loadarff  # For ARFF files (install with: pip install liac-arff)\n",
    "\n",
    "# ================================================================\n",
    "# 1. MATLAB Files (.mat)\n",
    "# ================================================================\n",
    "print(\"\\n1. MATLAB Files (.mat):\")\n",
    "\n",
    "# Create sample data\n",
    "data = {'A': np.array([[1, 2], [3, 4]]), 'B': np.array([5, 6, 7])}\n",
    "\n",
    "# Save to .mat file\n",
    "sio.savemat('data.mat', data)\n",
    "\n",
    "# Load from .mat file\n",
    "loaded_data = sio.loadmat('data.mat')\n",
    "\n",
    "print(f\"Loaded data: {loaded_data}\")\n",
    "\n",
    "print(\"\\nConclusion (MATLAB):\")\n",
    "print(\"sio.savemat and sio.loadmat are used to save and load data in MATLAB's .mat file format.  It's useful for exchanging data with MATLAB.\")\n",
    "\n",
    "# Use Case: Importing/exporting data from/to MATLAB.\n",
    "\n",
    "\n",
    "# ================================================================\n",
    "# 2. WAV Files (.wav)\n",
    "# ================================================================\n",
    "print(\"\\n2. WAV Files (.wav):\")\n",
    "\n",
    "# Create sample audio data (replace with your audio data)\n",
    "fs = 44100  # Sample rate\n",
    "t = np.linspace(0, 1, fs, False)\n",
    "audio_data = 0.5 * np.sin(2*np.pi*440*t)  # 440 Hz sine wave\n",
    "\n",
    "# Save to .wav file\n",
    "sf.write('audio.wav', audio_data, fs)\n",
    "\n",
    "# Load from .wav file\n",
    "loaded_audio, loaded_fs = sf.read('audio.wav')\n",
    "\n",
    "print(f\"Loaded audio (first 10 values): {loaded_audio[:10]}\")\n",
    "print(f\"Loaded sample rate: {loaded_fs}\")\n",
    "\n",
    "print(\"\\nConclusion (WAV):\")\n",
    "print(\"soundfile (sf.write and sf.read) is used to save and load audio data in WAV file format. It's important to use a library specifically designed for audio files for correct handling of sample rates, data types, etc.\")\n",
    "\n",
    "# Use Case: Audio processing, music analysis, speech recognition.\n",
    "\n",
    "\n",
    "# ================================================================\n",
    "# 3. ARFF Files (.arff)\n",
    "# ================================================================\n",
    "# print(\"\\n3. ARFF Files (.arff):\")\n",
    "\n",
    "# # Load from .arff file\n",
    "# data, meta = loadarff('iris.arff')  # Replace 'iris.arff' with your file\n",
    "\n",
    "# print(f\"Loaded ARFF data (first 2 rows):\\n{data[:2]}\")\n",
    "# print(f\"ARFF metadata: {meta}\")\n",
    "\n",
    "# print(\"\\nConclusion (ARFF):\")\n",
    "# print(\"The `arff` module (specifically `loadarff` from the `liac-arff` package) is used to load data from ARFF files, a common format for machine learning datasets.  It handles the structure of ARFF files, including attributes and data types.\")\n",
    "\n",
    "# Use Case: Machine learning, data mining, working with Weka datasets."
   ]
  },
  {
   "cell_type": "code",
   "execution_count": null,
   "metadata": {},
   "outputs": [],
   "source": []
  }
 ],
 "metadata": {
  "kernelspec": {
   "display_name": "base",
   "language": "python",
   "name": "python3"
  },
  "language_info": {
   "codemirror_mode": {
    "name": "ipython",
    "version": 3
   },
   "file_extension": ".py",
   "mimetype": "text/x-python",
   "name": "python",
   "nbconvert_exporter": "python",
   "pygments_lexer": "ipython3",
   "version": "3.12.4"
  }
 },
 "nbformat": 4,
 "nbformat_minor": 2
}
