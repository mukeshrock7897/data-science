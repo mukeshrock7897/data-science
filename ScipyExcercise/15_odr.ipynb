{
 "cells": [
  {
   "cell_type": "code",
   "execution_count": 5,
   "metadata": {},
   "outputs": [],
   "source": [
    "# import numpy as np\n",
    "# import matplotlib.pyplot as plt\n",
    "# from scipy.odr import ODR, Model, Data, RealData\n",
    "\n",
    "# # ================================================================\n",
    "# # 1. Orthogonal Distance Regression (ODR)\n",
    "# # ================================================================\n",
    "# print(\"\\n1. Orthogonal Distance Regression (ODR):\")\n",
    "\n",
    "# # Sample data with errors in both x and y\n",
    "# x = np.array([1.0, 2.0, 3.0, 4.0, 5.0])\n",
    "# y = np.array([2.1, 4.1, 5.9, 8.1, 10.3])\n",
    "# x_err = np.array([0.1, 0.2, 0.15, 0.25, 0.1])  # Errors in x\n",
    "# y_err = np.array([0.2, 0.1, 0.2, 0.15, 0.25])  # Errors in y\n",
    "\n",
    "# # Define the model function (e.g., a linear function)\n",
    "# def linear_func(beta, x):\n",
    "#     return beta[0] + beta[1] * x\n",
    "\n",
    "# # Create RealData objects for x and y with errors\n",
    "# rx = RealData(x, x_err)\n",
    "# ry = RealData(y, y_err)\n",
    "\n",
    "# # Create a Data object using the RealData objects\n",
    "# data = Data(ry, rx)  # Note the order: y, x\n",
    "\n",
    "# # Create a Model object\n",
    "# model = Model(linear_func)\n",
    "\n",
    "# # Perform ODR\n",
    "# odr = ODR(data, model)\n",
    "# odr.run()\n",
    "\n",
    "# # Get the results\n",
    "# beta = odr.beta  # Fitted parameters\n",
    "# beta_sd = odr.sd  # Standard deviations of the parameters\n",
    "\n",
    "# print(f\"Fitted parameters (beta): {beta}\")\n",
    "# print(f\"Standard deviations of parameters: {beta_sd}\")\n",
    "\n",
    "# # Generate points for the fitted line\n",
    "# x_fit = np.linspace(x.min(), x.max(), 100)\n",
    "# y_fit = linear_func(beta, x_fit)\n",
    "\n",
    "# # Plot the data and the fitted line\n",
    "# plt.errorbar(x, y, xerr=x_err, yerr=y_err, fmt='o', label='Data with Errors')\n",
    "# plt.plot(x_fit, y_fit, 'r-', label='ODR Fit')\n",
    "# plt.xlabel('x')\n",
    "# plt.ylabel('y')\n",
    "# plt.title('Orthogonal Distance Regression')\n",
    "# plt.legend()\n",
    "# plt.show()\n",
    "\n",
    "# print(\"\\nConclusion (ODR):\")\n",
    "# print(\"ODR performs orthogonal distance regression, which is used when there are errors in *both* the independent (x) and dependent (y) variables.  It minimizes the orthogonal distances between the data points and the fitted model.\")\n",
    "\n",
    "# # Use Case: Linear regression when both x and y have measurement errors, sensor calibration, fitting relationships where both variables are subject to noise."
   ]
  },
  {
   "cell_type": "code",
   "execution_count": null,
   "metadata": {},
   "outputs": [],
   "source": []
  }
 ],
 "metadata": {
  "kernelspec": {
   "display_name": "base",
   "language": "python",
   "name": "python3"
  },
  "language_info": {
   "codemirror_mode": {
    "name": "ipython",
    "version": 3
   },
   "file_extension": ".py",
   "mimetype": "text/x-python",
   "name": "python",
   "nbconvert_exporter": "python",
   "pygments_lexer": "ipython3",
   "version": "3.12.4"
  }
 },
 "nbformat": 4,
 "nbformat_minor": 2
}
