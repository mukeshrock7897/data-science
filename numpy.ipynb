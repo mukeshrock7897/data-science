{
  "nbformat": 4,
  "nbformat_minor": 0,
  "metadata": {
    "colab": {
      "provenance": [],
      "authorship_tag": "ABX9TyNWB8NeHQ57iIKN9OFtsd4f",
      "include_colab_link": true
    },
    "kernelspec": {
      "name": "python3",
      "display_name": "Python 3"
    },
    "language_info": {
      "name": "python"
    }
  },
  "cells": [
    {
      "cell_type": "markdown",
      "metadata": {
        "id": "view-in-github",
        "colab_type": "text"
      },
      "source": [
        "<a href=\"https://colab.research.google.com/github/mukeshrock7897/Data-Analysis/blob/main/numpy.ipynb\" target=\"_parent\"><img src=\"https://colab.research.google.com/assets/colab-badge.svg\" alt=\"Open In Colab\"/></a>"
      ]
    },
    {
      "cell_type": "markdown",
      "source": [
        "# **1- install and import library**\n",
        "\n",
        "# **2- array creation**\n",
        "  I- Arrays with Predefined Values\n",
        "* np.array(): Creates an array from any sequence-like object (lists, tuples, etc.).\n",
        "* np.zeros(): Creates an array filled with zeros.\n",
        "* np.ones(): Creates an array filled with ones.\n",
        "* np.full(): Creates an array filled with a specified value.\n",
        "* np.empty(): Creates an array without initializing its values (faster but values are undefined).\n",
        "* np.eye(): Creates an identity matrix.\n",
        "* np.identity(): Same as np.eye(), but more explicit.\n",
        "* np.diag(): Creates a diagonal array.\n",
        "\n",
        "\n",
        "II- Arrays with Sequences\n",
        "* np.arange(): Creates an array with evenly spaced values within a given interval.\n",
        "* np.linspace(): Creates an array with evenly spaced values within a given interval (including endpoints).\n",
        "* np.logspace(): Creates an array with logarithmically spaced values.\n",
        "\n",
        "III- Arrays from Random Numbers\n",
        "* np.random.rand(): Creates an array of random samples from a uniform distribution over [0, 1).\n",
        "* np.random.randn(): Creates an array of random samples from a standard normal distribution.\n",
        "* np.random.randint(): Creates an array of random integers from a low (inclusive) to high (exclusive) integer.\n",
        "* np.random.uniform(): Creates an array of random samples from a uniform distribution over a specified interval.\n",
        "* np.random.normal(): Creates an array of random samples from a normal distribution with specified mean and standard deviation.\n",
        "\n",
        "IV-Additional Functions\n",
        "* np.frombuffer(): Creates an array from a buffer.\n",
        "* np.fromfile(): Creates an array from a file.\n",
        "* np.fromiter(): Creates an array from an iterator.\n",
        "\n",
        "# **3- NumPy Array Mathematical Functions**\n",
        "   I-Arithmetic Operations\n",
        "* Basic operations: +, -, *, /, //, %, **\n",
        "* np.add(), np.subtract(), np.multiply(), np.divide(), np.floor_divide(), np.mod(), np.power(): Equivalent to the corresponding operators.\n",
        "* np.absolute() or np.abs(): Calculates the absolute value of each element.\n",
        "   \n",
        "  II-Trigonometric Functions\n",
        "* np.sin(), np.cos(), np.tan(), np.arcsin(), np.arccos(), np.arctan(), np.hypot(), np.arctan2(), np.degrees(), np.radians()\n",
        "\n",
        "  III-Hyperbolic Functions\n",
        "* np.sinh(), np.cosh(), np.tanh(), np.arcsinh(), np.arccosh(), np.arctanh()\n",
        "\n",
        "  IV-Exponential and Logarithmic Functions\n",
        "* np.exp(), np.expm1(), np.exp2(), np.log(), np.log10(), np.log2(), np.log1p()\n",
        "\n",
        "  V-Rounding Functions\n",
        "* np.round(), np.around(), np.rint(), np.fix(), np.floor(), np.ceil(), np.trunc()\n",
        "\n",
        " VI-Statistical Functions\n",
        "* np.mean(), np.median(), np.std(), np.var(), np.min(), np.max(), np.argmin(), np.argmax(), np.sum(), np.prod(), np.cumsum(), np.cumprod(), np.percentile()\n",
        "\n",
        " VII-Linear Algebra Functions\n",
        "* np.dot(), np.matmul(), np.linalg.inv(), np.linalg.det(), np.linalg.eig(), np.linalg.svd(), np.linalg.norm()\n",
        "\n",
        "\n",
        "# **4- Array Manipulation Functions**\n",
        "  I-Changing Shape\n",
        "* reshape(): Reshapes an array without changing its data.\n",
        "* ravel(): Flattens an array into a one-dimensional array.\n",
        "* flatten(): Similar to ravel, but returns a copy.\n",
        "* transpose(): Transposes an array.\n",
        "* swapaxes(): Interchanges two axes of an array.\n",
        "* rollaxis(): Rolls an axis to a new location.\n",
        "\n",
        "  II-Joining Arrays\n",
        "* concatenate(): Joins arrays along an existing axis.\n",
        "* vstack(): Stacks arrays vertically (row-wise).\n",
        "* hstack(): Stacks arrays horizontally (column-wise).\n",
        "* dstack(): Stacks arrays depth-wise (along the third dimension).\n",
        "* column_stack(): Creates a 2-D array from 1-D arrays.\n",
        "\n",
        "  III-Splitting Arrays\n",
        "* split(): Splits an array into multiple sub-arrays along an axis.\n",
        "* array_split(): Splits an array into equal or near-equal sub-arrays.\n",
        "* hsplit(): Splits an array horizontally (column-wise).\n",
        "* vsplit(): Splits an array vertically (row-wise).\n",
        "\n",
        "  IV-Adding/Removing Elements\n",
        "* append(): Appends values to the end of an array.\n",
        "* insert(): Inserts values into an array at specified positions.\n",
        "* delete(): Deletes elements from an array.\n",
        "* resize(): Resizes an array to a new shape.\n",
        "\n",
        "  V-Other Useful Functions\n",
        "* copy(): Creates a copy of an array.\n",
        "* squeeze(): Removes single-dimensional entries from the shape of an array.\n",
        "* expand_dims(): Inserts a new axis into an array.\n",
        "* flip(), fliplr(), flipud(): Flips an array in different directions.\n",
        "* rot90(): Rotates an array by 90 degrees.\n",
        "\n",
        "\n",
        "# **5-Array Indexing and Slicing**\n",
        " I-Basic Slicing\n",
        "* Array Name with Indices: array_name[start:stop:step]\n",
        "    * start: Starting index (inclusive).\n",
        "    * stop: Ending index (exclusive).\n",
        "    * step: Step size.\n",
        "\n",
        "II-Advanced Indexing\n",
        "* Integer Indexing: Using integer arrays to index arrays.\n",
        "* Boolean Indexing: Using boolean arrays to select elements.\n",
        "\n",
        "# **5.1- Random Number Generation Functions**\n",
        "I-Basic Random Number Generation\n",
        "* np.random.rand(d0, d1, ..., dn): Returns an array of random floats in the half-open interval [0.0, 1.0).\n",
        "* np.random.randn(d0, d1, ..., dn): Returns an array of random samples from a standard normal distribution.\n",
        "* np.random.randint(low, high=None, size=None, dtype=int): Returns random integers from low (inclusive) to high (exclusive).\n",
        "* np.random.uniform(low=0.0, high=1.0, size=None): Returns random floats from a uniform distribution over the specified interval.\n",
        "\n",
        "II-Permutations\n",
        "* np.random.shuffle(x): Shuffles the elements of an array in place.\n",
        "* np.random.permutation(x): Returns a new array with the elements of x permuted.\n",
        "\n",
        "III- Distributions\n",
        "* Normal Distribution:\n",
        "    * np.random.normal(loc=0.0, scale=1.0, size=None)\n",
        "* Log Normal Distribution:\n",
        "    * np.random.lognormal(mean=0.0, sigma=1.0, size=None)\n",
        "* Exponential Distribution:\n",
        "    * np.random.exponential(scale=1.0, size=None)\n",
        "* Gamma Distribution:\n",
        "    * np.random.gamma(shape, scale=1.0, size=None)\n",
        "* Beta Distribution:\n",
        "    * np.random.beta(a, b, size=None)\n",
        "* Binomial Distribution:\n",
        "    * np.random.binomial(n, p, size=None)\n",
        "* Poisson Distribution:\n",
        "    * np.random.poisson(lam=1.0, size=None)\n",
        "IV- Random Seed\n",
        "* np.random.seed(seed=None): Sets the seed for the random number generator.\n",
        "\n",
        "\n",
        "# **6- Searching and Sorting Functions**\n",
        "\n",
        "I-Sorting Functions\n",
        "* np.sort(a, axis=-1, kind='quicksort', order=None): Returns a sorted copy of an array.\n",
        "* np.argsort(a, axis=-1, kind='quicksort', order=None): Returns the indices that would sort an array.\n",
        "* np.lexsort(keys, axis=-1): Performs an indirect stable sort using a sequence of keys.\n",
        "* a.sort(axis=-1, kind='quicksort', order=None): Sorts an array in-place.\n",
        "* np.partition(a, kth, axis=-1, kind='introselect', order=None): Partitions an array into sorted and unsorted regions.\n",
        "* np.argpartition(a, kth, axis=-1, kind='introselect', order=None): Returns the indices that would partition an array.\n",
        "II-Searching Functions\n",
        "* np.argmax(a, axis=None, out=None): Returns the indices of the maximum values along an axis.\n",
        "* np.argmin(a, axis=None, out=None): Returns the indices of the minimum values along an axis.\n",
        "* np.nanargmax(a, axis=None): Returns the indices of the maximum values ignoring NaNs.\n",
        "* np.nanargmin(a, axis=None): Returns the indices of the minimum values ignoring NaNs.\n",
        "* np.where(condition): Returns elements of an array that satisfy a given condition.\n",
        "* np.searchsorted(a, v, side='left', sorter=None): Finds indices where to insert new elements to maintain sorted order.\n",
        "\n",
        "# **7- Fourier Transform Functions**\n",
        "\n",
        "I-Standard FFTs\n",
        "* np.fft.fft(a, n=None, axis=-1, norm=None): Computes the one-dimensional discrete Fourier Transform.\n",
        "* np.fft.ifft(a, n=None, axis=-1, norm=None): Computes the one-dimensional inverse discrete Fourier Transform.\n",
        "* np.fft.fft2(a, s=None, axes=(-2, -1), norm=None): Computes the two-dimensional discrete Fourier Transform.\n",
        "* np.fft.ifft2(a, s=None, axes=(-2, -1), norm=None): Computes the two-dimensional inverse discrete Fourier Transform.\n",
        "* np.fft.fftn(a, s=None, axes=None, norm=None): Computes the N-dimensional discrete Fourier Transform.\n",
        "* np.fft.ifftn(a, s=None, axes=None, norm=None): Computes the N-dimensional inverse discrete Fourier Transform.\n",
        "\n",
        "II-Real-Valued FFTs\n",
        "* np.fft.rfft(a, n=None, axis=-1, norm=None): Computes the one-dimensional discrete Fourier Transform for real input.\n",
        "* np.fft.irfft(a, n=None, axis=-1, norm=None): Computes the inverse of the one-dimensional discrete Fourier Transform for real output.\n",
        "* np.fft.rfft2(a, s=None, axes=(-2, -1), norm=None): Computes the two-dimensional discrete Fourier Transform for real input.\n",
        "* np.fft.irfft2(a, s=None, axes=(-2, -1), norm=None): Computes the inverse of the two-dimensional discrete Fourier Transform for real output.\n",
        "* np.fft.rfftn(a, s=None, axes=None, norm=None): Computes the N-dimensional discrete Fourier Transform for real input.\n",
        "* np.fft.irfftn(a, s=None, axes=None, norm=None): Computes the inverse of the N-dimensional discrete Fourier Transform for real output.\n",
        "\n",
        "III-Other Useful Functions\n",
        "* np.fft.fftfreq(n, d=1.0): Returns the Discrete Fourier Transform sample frequencies.\n",
        "* np.fft.rfftfreq(n, d=1.0): Returns the Discrete Fourier Transform sample frequencies for real input.\n",
        "* np.fft.fftshift(x, axes=None): Shifts the zero-frequency component to the center of the spectrum.\n",
        "* np.fft.ifftshift(x, axes=None): The inverse of fftshift.\n",
        "\n",
        "# **8- NumPy Functions for Data Type Handling**\n",
        "\n",
        "I-Data Type Inspection\n",
        "* np.dtype(obj): Creates a data type object.\n",
        "* ndarray.dtype: Returns the data type of an array.\n",
        "* np.issubdtype(a, b): Checks if one data type is a subtype of another.\n",
        "\n",
        "II-Data Type Conversion\n",
        "* ndarray.astype(dtype): Casts an array to a specified data type.\n",
        "* np.array(obj, dtype=None): Creates an array with a specified data type.\n",
        "* np.cast[dtype](x): Casts an array to a specified data type.\n",
        "\n",
        "III-Data Type Information\n",
        "* np.sctypeDict: Dictionary mapping dtype chars to scalar types.\n",
        "* np.typeDict: Dictionary mapping dtype chars to type names.\n",
        "* np.find_common_type(arrays): Finds a common data type for multiple arrays.\n",
        "\n",
        "# **9- NumPy Functions for Padding and Trimming**\n",
        "\n",
        "I-Padding\n",
        "* np.pad(array, pad_width, mode='constant', **kwargs): Adds padding to the edges of an array.\n",
        "    * pad_width: Specifies the number of values to pad on each side of the array.\n",
        "    * mode: Determines the padding method (e.g., 'constant', 'edge', 'reflect', 'symmetric').\n",
        "    * kwargs: Additional arguments for specific padding modes.\n",
        "\n",
        "II-Trimming\n",
        "* np.trim_zeros(arr, trim='fb'): Removes leading and/or trailing zeros from an array.\n",
        "    * trim: Specifies which edges to trim ('f' for front, 'b' for back).\n",
        "\n",
        "# **10-NumPy Functions for Polynomial Operations**\n",
        "\n",
        "I-Core Polynomial Functions\n",
        "* np.poly1d(coeffs): Creates a polynomial object from a list of coefficients.\n",
        "* np.polyval(p, x): Evaluates a polynomial at specified values.\n",
        "* np.polyfit(x, y, deg, rcond=None, full=False, w=None, cov=False): Fits a polynomial to data, returning the coefficients.\n",
        "* np.polyder(p, m=1): Computes the derivative of a polynomial.\n",
        "* np.polyint(p, m=1, k=0): Computes the integral of a polynomial.\n",
        "* np.roots(p): Finds the roots of a polynomial.\n",
        "\n",
        "II-Additional Functions\n",
        "* np.polyadd(p1, p2): Adds two polynomials.\n",
        "* np.polysub(p1, p2): Subtracts one polynomial from another.\n",
        "* np.polymul(p1, p2): Multiplies two polynomials.\n",
        "* np.polydiv(p1, p2): Divides two polynomials.\n",
        "\n",
        "\n",
        "# **11- NumPy Functions for Interpolation and Extrapolation**\n",
        "I. np.interp(x, xp, fp, left=None, right=None, period=None):\n",
        "* Performs one-dimensional linear interpolation.\n",
        "* x: Points at which to interpolate.\n",
        "* xp: x-coordinates of the data points.\n",
        "* fp: y-coordinates of the data points.\n",
        "* left, right: Values to return for extrapolation.\n",
        "* period: Period of the data for periodic interpolation.\n",
        "II. np.polyfit(x, y, deg, rcond=None, full=False, w=None, cov=False):\n",
        "\n",
        "\n",
        "# **12- Numpy Functions for Financial Operations**\n",
        "NumPy-Financial: This library offers functions like npf.fv, npf.pv, npf.rate, npf.pmt, etc., which are similar to Excel's financial functions.\n",
        "\n",
        "\n",
        "# **13- NumPy Functions Useful for Signal Processing**\n",
        "I- np.convolve: Computes the discrete convolution of two one-dimensional sequences.\n",
        "II- np.correlate: Computes the correlation of two one-dimensional sequences.\n",
        "\n",
        "# **13- Sharing Memories**\n",
        "np.shares_memory() and np.may_share_memory()\n",
        "\n"
      ],
      "metadata": {
        "id": "YAwaMbiygBS7"
      }
    },
    {
      "cell_type": "code",
      "execution_count": 160,
      "metadata": {
        "id": "V9ovEpBgf8SF"
      },
      "outputs": [],
      "source": []
    },
    {
      "cell_type": "markdown",
      "source": [
        "# **1. Install and Import Library**\n",
        "\n",
        "**Installation**"
      ],
      "metadata": {
        "id": "KulJAmUJgMjJ"
      }
    },
    {
      "cell_type": "code",
      "source": [
        "!pip install numpy"
      ],
      "metadata": {
        "colab": {
          "base_uri": "https://localhost:8080/"
        },
        "id": "vHfalRv89XcP",
        "outputId": "df78921b-aba5-4283-9d5d-877bacd41cf6"
      },
      "execution_count": 161,
      "outputs": [
        {
          "output_type": "stream",
          "name": "stdout",
          "text": [
            "Requirement already satisfied: numpy in /usr/local/lib/python3.10/dist-packages (2.0.0)\n"
          ]
        }
      ]
    },
    {
      "cell_type": "markdown",
      "source": [
        "**Importing NumPy**"
      ],
      "metadata": {
        "id": "SM-UfmXSocQl"
      }
    },
    {
      "cell_type": "code",
      "source": [
        "import numpy as np\n",
        "\n",
        "# Creating a NumPy array\n",
        "arr = np.array([1, 2, 3, 4, 5])\n",
        "print(arr)"
      ],
      "metadata": {
        "colab": {
          "base_uri": "https://localhost:8080/"
        },
        "id": "2uyPS5oVofiX",
        "outputId": "70d6a6f2-9c32-4a6f-dad7-36524be3b364"
      },
      "execution_count": 162,
      "outputs": [
        {
          "output_type": "stream",
          "name": "stdout",
          "text": [
            "[1 2 3 4 5]\n"
          ]
        }
      ]
    },
    {
      "cell_type": "markdown",
      "source": [
        "# **2. Array Creation**\n",
        "**I-Arrays with Predefined Values**\n",
        "* **np.array():** Creates an array from any sequence-like object (lists, tuples, etc.)."
      ],
      "metadata": {
        "id": "j0WISLeUpKbI"
      }
    },
    {
      "cell_type": "code",
      "source": [
        "arr = np.array([1, 2, 3, 4, 5])\n",
        "print(arr)"
      ],
      "metadata": {
        "colab": {
          "base_uri": "https://localhost:8080/"
        },
        "id": "pnTCrxTYpSuL",
        "outputId": "6fccc454-57c6-4dad-b244-5c71c0403f59"
      },
      "execution_count": 163,
      "outputs": [
        {
          "output_type": "stream",
          "name": "stdout",
          "text": [
            "[1 2 3 4 5]\n"
          ]
        }
      ]
    },
    {
      "cell_type": "markdown",
      "source": [
        "* **np.zeros():** Creates an array filled with zeros."
      ],
      "metadata": {
        "id": "feTNn0LipUpz"
      }
    },
    {
      "cell_type": "code",
      "source": [
        "zeros = np.zeros((3, 3))\n",
        "print(zeros)"
      ],
      "metadata": {
        "colab": {
          "base_uri": "https://localhost:8080/"
        },
        "id": "1rDAolNgpYhj",
        "outputId": "4bad7755-1c4c-400b-9311-cda432ad5e58"
      },
      "execution_count": 164,
      "outputs": [
        {
          "output_type": "stream",
          "name": "stdout",
          "text": [
            "[[0. 0. 0.]\n",
            " [0. 0. 0.]\n",
            " [0. 0. 0.]]\n"
          ]
        }
      ]
    },
    {
      "cell_type": "markdown",
      "source": [
        "* **np.ones():** Creates an array filled with ones."
      ],
      "metadata": {
        "id": "ecI4_wFIpaLu"
      }
    },
    {
      "cell_type": "code",
      "source": [
        "ones = np.ones((2, 2))\n",
        "print(ones)"
      ],
      "metadata": {
        "colab": {
          "base_uri": "https://localhost:8080/"
        },
        "id": "YF-m7WNhpdKW",
        "outputId": "1455b665-4caf-49ec-bfee-252cedb9f901"
      },
      "execution_count": 165,
      "outputs": [
        {
          "output_type": "stream",
          "name": "stdout",
          "text": [
            "[[1. 1.]\n",
            " [1. 1.]]\n"
          ]
        }
      ]
    },
    {
      "cell_type": "markdown",
      "source": [
        "* **np.full():** Creates an array filled with a specified value."
      ],
      "metadata": {
        "id": "tI31g98CpjHc"
      }
    },
    {
      "cell_type": "code",
      "source": [
        "full = np.full((2, 3), 7)\n",
        "print(full)"
      ],
      "metadata": {
        "colab": {
          "base_uri": "https://localhost:8080/"
        },
        "id": "6lri8hZFpmeY",
        "outputId": "3aa66424-7f9c-4823-fc49-0eab3dccece9"
      },
      "execution_count": 166,
      "outputs": [
        {
          "output_type": "stream",
          "name": "stdout",
          "text": [
            "[[7 7 7]\n",
            " [7 7 7]]\n"
          ]
        }
      ]
    },
    {
      "cell_type": "markdown",
      "source": [
        "* **np.empty():** Creates an array without initializing its values (faster but values are undefined)."
      ],
      "metadata": {
        "id": "CAE0TQRspoyI"
      }
    },
    {
      "cell_type": "code",
      "source": [
        "empty = np.empty((3, 3))\n",
        "print(empty)"
      ],
      "metadata": {
        "colab": {
          "base_uri": "https://localhost:8080/"
        },
        "id": "T_UEtC9npr_S",
        "outputId": "6aaeaadc-e844-4ca0-cd7d-baf051f17651"
      },
      "execution_count": 167,
      "outputs": [
        {
          "output_type": "stream",
          "name": "stdout",
          "text": [
            "[[0. 0. 0.]\n",
            " [0. 0. 0.]\n",
            " [0. 0. 0.]]\n"
          ]
        }
      ]
    },
    {
      "cell_type": "markdown",
      "source": [
        "* **np.eye():** Creates an identity matrix."
      ],
      "metadata": {
        "id": "sIX42WRmpuhU"
      }
    },
    {
      "cell_type": "code",
      "source": [
        "eye = np.eye(3)\n",
        "print(eye)"
      ],
      "metadata": {
        "colab": {
          "base_uri": "https://localhost:8080/"
        },
        "id": "CGR2j3lipyJW",
        "outputId": "5e21f958-4de8-4501-851f-a8a104c44723"
      },
      "execution_count": 168,
      "outputs": [
        {
          "output_type": "stream",
          "name": "stdout",
          "text": [
            "[[1. 0. 0.]\n",
            " [0. 1. 0.]\n",
            " [0. 0. 1.]]\n"
          ]
        }
      ]
    },
    {
      "cell_type": "markdown",
      "source": [
        "* **np.identity():** Same as **np.eye()**, but more explicit."
      ],
      "metadata": {
        "id": "M2icScI7pz92"
      }
    },
    {
      "cell_type": "code",
      "source": [
        "identity = np.identity(3)\n",
        "print(identity)"
      ],
      "metadata": {
        "colab": {
          "base_uri": "https://localhost:8080/"
        },
        "id": "lyOjssBbp6Fe",
        "outputId": "c85b6f90-b069-4d28-a327-2b2d425c6b72"
      },
      "execution_count": 169,
      "outputs": [
        {
          "output_type": "stream",
          "name": "stdout",
          "text": [
            "[[1. 0. 0.]\n",
            " [0. 1. 0.]\n",
            " [0. 0. 1.]]\n"
          ]
        }
      ]
    },
    {
      "cell_type": "markdown",
      "source": [
        "* **np.diag():** Creates a diagonal array."
      ],
      "metadata": {
        "id": "_AlDBde0p77H"
      }
    },
    {
      "cell_type": "code",
      "source": [
        "diag = np.diag([1, 2, 3, 4])\n",
        "print(diag)"
      ],
      "metadata": {
        "colab": {
          "base_uri": "https://localhost:8080/"
        },
        "id": "C0Twn7sdp_op",
        "outputId": "fca00e70-23f4-4fb3-f841-34f3c3aff427"
      },
      "execution_count": 170,
      "outputs": [
        {
          "output_type": "stream",
          "name": "stdout",
          "text": [
            "[[1 0 0 0]\n",
            " [0 2 0 0]\n",
            " [0 0 3 0]\n",
            " [0 0 0 4]]\n"
          ]
        }
      ]
    },
    {
      "cell_type": "markdown",
      "source": [
        "**II. Arrays with Sequences**\n",
        "\n",
        "* **np.arange():** Creates an array with evenly spaced values within a given interval."
      ],
      "metadata": {
        "id": "D2g7xviw6F3-"
      }
    },
    {
      "cell_type": "code",
      "source": [
        "arange_arr = np.arange(0, 10, 2)\n",
        "print(arange_arr)"
      ],
      "metadata": {
        "colab": {
          "base_uri": "https://localhost:8080/"
        },
        "id": "bLA0YSww6_tk",
        "outputId": "9e2e1e79-f5c6-46b4-bb13-e500a04dd02d"
      },
      "execution_count": 171,
      "outputs": [
        {
          "output_type": "stream",
          "name": "stdout",
          "text": [
            "[0 2 4 6 8]\n"
          ]
        }
      ]
    },
    {
      "cell_type": "markdown",
      "source": [
        "* **np.linspace():** Creates an array with evenly spaced values within a given interval (including endpoints)."
      ],
      "metadata": {
        "id": "KU0REFm27qGU"
      }
    },
    {
      "cell_type": "code",
      "source": [
        "linspace_arr = np.linspace(0, 1, 5)\n",
        "print(linspace_arr)"
      ],
      "metadata": {
        "colab": {
          "base_uri": "https://localhost:8080/"
        },
        "id": "Dot-IQj57sP8",
        "outputId": "e359f3ce-5d4a-4b4c-8710-11b85afcae06"
      },
      "execution_count": 172,
      "outputs": [
        {
          "output_type": "stream",
          "name": "stdout",
          "text": [
            "[0.   0.25 0.5  0.75 1.  ]\n"
          ]
        }
      ]
    },
    {
      "cell_type": "markdown",
      "source": [
        "* **np.logspace():** Creates an array with logarithmically spaced values."
      ],
      "metadata": {
        "id": "vs4oBfHT7w-V"
      }
    },
    {
      "cell_type": "code",
      "source": [
        "logspace_arr = np.logspace(1, 3, 4)\n",
        "print(logspace_arr)"
      ],
      "metadata": {
        "colab": {
          "base_uri": "https://localhost:8080/"
        },
        "id": "5E8DKLNu791s",
        "outputId": "97d02ef6-8532-47cd-9966-aaf05dc84860"
      },
      "execution_count": 173,
      "outputs": [
        {
          "output_type": "stream",
          "name": "stdout",
          "text": [
            "[  10.           46.41588834  215.443469   1000.        ]\n"
          ]
        }
      ]
    },
    {
      "cell_type": "markdown",
      "source": [
        "**III. Arrays from Random Numbers**\n",
        "* **np.random.rand():** Creates an array of random samples from a uniform distribution over [0, 1)."
      ],
      "metadata": {
        "id": "GVr0Y6dP-d4P"
      }
    },
    {
      "cell_type": "code",
      "source": [
        "rand_uniform = np.random.rand(3, 3)\n",
        "print(rand_uniform)"
      ],
      "metadata": {
        "colab": {
          "base_uri": "https://localhost:8080/"
        },
        "id": "s_K9ZPmu-k48",
        "outputId": "038b3dc6-a510-4ba9-f9ed-d06dffcbffb2"
      },
      "execution_count": 174,
      "outputs": [
        {
          "output_type": "stream",
          "name": "stdout",
          "text": [
            "[[0.10864574 0.06019599 0.26985925]\n",
            " [0.99583958 0.39930632 0.40979801]\n",
            " [0.19020773 0.16001398 0.17153795]]\n"
          ]
        }
      ]
    },
    {
      "cell_type": "markdown",
      "source": [
        "* **np.random.randn():** Creates an array of random samples from a standard normal distribution."
      ],
      "metadata": {
        "id": "spQkJjuC-oPd"
      }
    },
    {
      "cell_type": "code",
      "source": [
        "rand_normal = np.random.randn(3, 3)\n",
        "print(rand_normal)"
      ],
      "metadata": {
        "colab": {
          "base_uri": "https://localhost:8080/"
        },
        "id": "BdMgfU-t-uIA",
        "outputId": "ee3374d1-d1dc-4fcb-fa15-fb6d2d874b1c"
      },
      "execution_count": 175,
      "outputs": [
        {
          "output_type": "stream",
          "name": "stdout",
          "text": [
            "[[ 0.39456347  1.49734751  1.69436014]\n",
            " [-0.21283751  0.10245038  1.59343286]\n",
            " [ 0.36274775  1.11227325  0.60074712]]\n"
          ]
        }
      ]
    },
    {
      "cell_type": "markdown",
      "source": [
        "* **np.random.randint():** Creates an array of random integers from a low (inclusive) to high (exclusive) integer."
      ],
      "metadata": {
        "id": "oNcA0Mbc-yWR"
      }
    },
    {
      "cell_type": "code",
      "source": [
        "rand_int = np.random.randint(0, 10, size=(3, 3))\n",
        "print(rand_int)"
      ],
      "metadata": {
        "colab": {
          "base_uri": "https://localhost:8080/"
        },
        "id": "AGHLY9lg-5Z7",
        "outputId": "cea37b97-30d8-44d7-8bc8-4ab4d41658d8"
      },
      "execution_count": 176,
      "outputs": [
        {
          "output_type": "stream",
          "name": "stdout",
          "text": [
            "[[4 8 2]\n",
            " [3 5 1]\n",
            " [1 1 5]]\n"
          ]
        }
      ]
    },
    {
      "cell_type": "markdown",
      "source": [
        "* **np.random.uniform():** Creates an array of random samples from a uniform distribution over a specified interval."
      ],
      "metadata": {
        "id": "g-pF-C_f-7dq"
      }
    },
    {
      "cell_type": "code",
      "source": [
        "rand_uniform_interval = np.random.uniform(1, 5, size=(3, 3))\n",
        "print(rand_uniform_interval)"
      ],
      "metadata": {
        "colab": {
          "base_uri": "https://localhost:8080/"
        },
        "id": "ftU9AMzr-_Lb",
        "outputId": "ad874f86-f4e1-4506-fd29-0ff9c68173ee"
      },
      "execution_count": 177,
      "outputs": [
        {
          "output_type": "stream",
          "name": "stdout",
          "text": [
            "[[1.50811895 2.30468966 4.28376725]\n",
            " [4.24741016 3.48357607 2.60764448]\n",
            " [2.98134296 2.60860723 1.31902228]]\n"
          ]
        }
      ]
    },
    {
      "cell_type": "markdown",
      "source": [
        "* **np.random.normal():** Creates an array of random samples from a normal distribution with specified mean and standard deviation."
      ],
      "metadata": {
        "id": "am62l2OQ_IM1"
      }
    },
    {
      "cell_type": "code",
      "source": [
        "rand_normal_dist = np.random.normal(loc=0.0, scale=1.0, size=(3, 3))\n",
        "print(rand_normal_dist)"
      ],
      "metadata": {
        "colab": {
          "base_uri": "https://localhost:8080/"
        },
        "id": "-tldBlO3_O8s",
        "outputId": "f50cd635-5e76-460d-d106-72c980aa4717"
      },
      "execution_count": 178,
      "outputs": [
        {
          "output_type": "stream",
          "name": "stdout",
          "text": [
            "[[ 0.24170607  0.42466595 -0.37202391]\n",
            " [ 0.7059552   0.25703186 -1.41647115]\n",
            " [-1.1684571   0.18353561 -0.00674324]]\n"
          ]
        }
      ]
    },
    {
      "cell_type": "markdown",
      "source": [
        "**IV. Additional Functions**\n",
        "\n",
        "* **np.frombuffer():** Creates an array from a buffer."
      ],
      "metadata": {
        "id": "JiIslIwa_Tam"
      }
    },
    {
      "cell_type": "code",
      "source": [
        "buffer = b'Hello World'\n",
        "buffer_arr = np.frombuffer(buffer, dtype='S1')\n",
        "print(buffer_arr)"
      ],
      "metadata": {
        "colab": {
          "base_uri": "https://localhost:8080/"
        },
        "id": "fkXSGl8w_Zbh",
        "outputId": "d40bf913-3a39-43f0-e205-6ea3b1de4f9b"
      },
      "execution_count": 179,
      "outputs": [
        {
          "output_type": "stream",
          "name": "stdout",
          "text": [
            "[b'H' b'e' b'l' b'l' b'o' b' ' b'W' b'o' b'r' b'l' b'd']\n"
          ]
        }
      ]
    },
    {
      "cell_type": "markdown",
      "source": [
        "* **np.fromfile():** Creates an array from a file."
      ],
      "metadata": {
        "id": "-TIyfP9d_bsU"
      }
    },
    {
      "cell_type": "code",
      "source": [
        "# Assuming 'data.bin' contains binary data, let's first create it:\n",
        "!echo \"Sample binary data\" > data.bin\n",
        "\n",
        "file_arr = np.fromfile('data.bin', dtype=np.int32)\n",
        "print(file_arr)\n"
      ],
      "metadata": {
        "colab": {
          "base_uri": "https://localhost:8080/"
        },
        "id": "ojz_IhTs_fpV",
        "outputId": "6ef6df3a-8ff4-4376-e6eb-4bdd8848d31f"
      },
      "execution_count": 180,
      "outputs": [
        {
          "output_type": "stream",
          "name": "stdout",
          "text": [
            "[1886216531 1646290284 1918987881 1633951865]\n"
          ]
        }
      ]
    },
    {
      "cell_type": "markdown",
      "source": [
        "* **np.fromiter():** Creates an array from an iterator."
      ],
      "metadata": {
        "id": "1UUq1E3h_ink"
      }
    },
    {
      "cell_type": "code",
      "source": [
        "iterable = (x*x for x in range(5))\n",
        "iter_arr = np.fromiter(iterable, dtype=int)\n",
        "print(iter_arr)"
      ],
      "metadata": {
        "colab": {
          "base_uri": "https://localhost:8080/"
        },
        "id": "3VDyttQ__nBH",
        "outputId": "a6e9113e-bd8e-4cd4-8cc2-2c7fbd62ea09"
      },
      "execution_count": 181,
      "outputs": [
        {
          "output_type": "stream",
          "name": "stdout",
          "text": [
            "[ 0  1  4  9 16]\n"
          ]
        }
      ]
    },
    {
      "cell_type": "markdown",
      "source": [
        "# **3. NumPy Array Mathematical Functions**\n",
        "\n",
        "**I. Arithmetic Operations**\n",
        "* Basic operations:` +, -, *, /, //, %, ** `"
      ],
      "metadata": {
        "id": "0EUYGOVSnktA"
      }
    },
    {
      "cell_type": "code",
      "source": [
        "arr1 = np.array([1, 2, 3])\n",
        "arr2 = np.array([4, 5, 6])\n",
        "add = arr1 + arr2\n",
        "subtract = arr1 - arr2\n",
        "multiply = arr1 * arr2\n",
        "divide = arr1 / arr2\n",
        "floor_divide = arr1 // arr2\n",
        "mod = arr1 % arr2\n",
        "power = arr1 ** arr2\n",
        "print(add, subtract, multiply, divide, floor_divide, mod, power)\n"
      ],
      "metadata": {
        "colab": {
          "base_uri": "https://localhost:8080/"
        },
        "id": "AfLL4MgBnuOr",
        "outputId": "8e4a50ff-5918-4782-9479-1bda18e4b68f"
      },
      "execution_count": 182,
      "outputs": [
        {
          "output_type": "stream",
          "name": "stdout",
          "text": [
            "[5 7 9] [-3 -3 -3] [ 4 10 18] [0.25 0.4  0.5 ] [0 0 0] [1 2 3] [  1  32 729]\n"
          ]
        }
      ]
    },
    {
      "cell_type": "markdown",
      "source": [
        "* **np.add():** Equivalent to +\n",
        "\n"
      ],
      "metadata": {
        "id": "SsefW6IAnwCG"
      }
    },
    {
      "cell_type": "code",
      "source": [
        "result = np.add(arr1, arr2)\n",
        "print(result)"
      ],
      "metadata": {
        "colab": {
          "base_uri": "https://localhost:8080/"
        },
        "id": "mLnjEtWNnzey",
        "outputId": "bed94ed5-0d79-4ba5-8896-3d1e7c9e8999"
      },
      "execution_count": 183,
      "outputs": [
        {
          "output_type": "stream",
          "name": "stdout",
          "text": [
            "[5 7 9]\n"
          ]
        }
      ]
    },
    {
      "cell_type": "markdown",
      "source": [
        "* **np.subtract():** Equivalent to `-`"
      ],
      "metadata": {
        "id": "UYdFIZSDn1M8"
      }
    },
    {
      "cell_type": "code",
      "source": [
        "result = np.subtract(arr1, arr2)\n",
        "print(result)"
      ],
      "metadata": {
        "colab": {
          "base_uri": "https://localhost:8080/"
        },
        "id": "NgJb-TMen3yv",
        "outputId": "1cf64e09-02c3-43b3-8fcf-a88489a1ad59"
      },
      "execution_count": 184,
      "outputs": [
        {
          "output_type": "stream",
          "name": "stdout",
          "text": [
            "[-3 -3 -3]\n"
          ]
        }
      ]
    },
    {
      "cell_type": "markdown",
      "source": [
        "* **np.multiply():** Equivalent to `*`"
      ],
      "metadata": {
        "id": "kQqU5rOzn5hx"
      }
    },
    {
      "cell_type": "code",
      "source": [
        "result = np.multiply(arr1, arr2)\n",
        "print(result)"
      ],
      "metadata": {
        "colab": {
          "base_uri": "https://localhost:8080/"
        },
        "id": "iL5hXTgJn8At",
        "outputId": "a8b29d78-4f77-4fd5-d313-0066c6169d88"
      },
      "execution_count": 185,
      "outputs": [
        {
          "output_type": "stream",
          "name": "stdout",
          "text": [
            "[ 4 10 18]\n"
          ]
        }
      ]
    },
    {
      "cell_type": "markdown",
      "source": [
        "* **np.divide():** Equivalent to `/`"
      ],
      "metadata": {
        "id": "6i85qgOnoHZZ"
      }
    },
    {
      "cell_type": "code",
      "source": [
        "result = np.divide(arr1, arr2)\n",
        "print(result)"
      ],
      "metadata": {
        "colab": {
          "base_uri": "https://localhost:8080/"
        },
        "id": "mVvvHv16oKM_",
        "outputId": "09baa209-6eb8-4571-8042-894fe91c5128"
      },
      "execution_count": 186,
      "outputs": [
        {
          "output_type": "stream",
          "name": "stdout",
          "text": [
            "[0.25 0.4  0.5 ]\n"
          ]
        }
      ]
    },
    {
      "cell_type": "markdown",
      "source": [
        "* **np.floor_divide():** Equivalent to `//`"
      ],
      "metadata": {
        "id": "eXZ0yQ4FoLtx"
      }
    },
    {
      "cell_type": "code",
      "source": [
        "result = np.floor_divide(arr1, arr2)\n",
        "print(result)"
      ],
      "metadata": {
        "colab": {
          "base_uri": "https://localhost:8080/"
        },
        "id": "Q3R9KeI9oPkF",
        "outputId": "e1cc3df1-c2b6-44e0-9190-317eeafced99"
      },
      "execution_count": 187,
      "outputs": [
        {
          "output_type": "stream",
          "name": "stdout",
          "text": [
            "[0 0 0]\n"
          ]
        }
      ]
    },
    {
      "cell_type": "markdown",
      "source": [
        "* **np.mod():** Equivalent to `%`"
      ],
      "metadata": {
        "id": "-3zGgQLQoRWe"
      }
    },
    {
      "cell_type": "code",
      "source": [
        "result = np.mod(arr1, arr2)\n",
        "print(result)"
      ],
      "metadata": {
        "colab": {
          "base_uri": "https://localhost:8080/"
        },
        "id": "grLRVWwgoVQZ",
        "outputId": "51aedc41-bbc3-49d5-969d-4340640d436a"
      },
      "execution_count": 188,
      "outputs": [
        {
          "output_type": "stream",
          "name": "stdout",
          "text": [
            "[1 2 3]\n"
          ]
        }
      ]
    },
    {
      "cell_type": "markdown",
      "source": [
        "* **np.power():** Equivalent to `**`"
      ],
      "metadata": {
        "id": "aa4BRJMEoXBw"
      }
    },
    {
      "cell_type": "code",
      "source": [
        "result = np.power(arr1, arr2)\n",
        "print(result)"
      ],
      "metadata": {
        "colab": {
          "base_uri": "https://localhost:8080/"
        },
        "id": "URPiLb_roa9g",
        "outputId": "46ba6742-af02-4a1c-feed-578a9b5938de"
      },
      "execution_count": 189,
      "outputs": [
        {
          "output_type": "stream",
          "name": "stdout",
          "text": [
            "[  1  32 729]\n"
          ]
        }
      ]
    },
    {
      "cell_type": "markdown",
      "source": [
        "* **np.absolute() or np.abs():** Calculates the absolute value of each element."
      ],
      "metadata": {
        "id": "js4RqiSNocie"
      }
    },
    {
      "cell_type": "code",
      "source": [
        "arr = np.array([-1, -2, -3])\n",
        "result = np.abs(arr)\n",
        "print(result)"
      ],
      "metadata": {
        "colab": {
          "base_uri": "https://localhost:8080/"
        },
        "id": "kaYvyk0fof-p",
        "outputId": "82369975-08db-4b4d-e6a9-bda3fec6e396"
      },
      "execution_count": 190,
      "outputs": [
        {
          "output_type": "stream",
          "name": "stdout",
          "text": [
            "[1 2 3]\n"
          ]
        }
      ]
    },
    {
      "cell_type": "markdown",
      "source": [
        "**II. Trigonometric Functions**\n",
        "* **np.sin(), np.cos(), np.tan():** Compute trigonometric sine, cosine, and tangent."
      ],
      "metadata": {
        "id": "Gp2gU50xohj-"
      }
    },
    {
      "cell_type": "code",
      "source": [
        "angles = np.array([0, np.pi/2, np.pi])\n",
        "sine = np.sin(angles)\n",
        "cosine = np.cos(angles)\n",
        "tangent = np.tan(angles)\n",
        "print(sine, cosine, tangent)"
      ],
      "metadata": {
        "colab": {
          "base_uri": "https://localhost:8080/"
        },
        "id": "IO9PvrTyokLn",
        "outputId": "a02aa575-4498-4e44-d3c6-b9ba98caf48c"
      },
      "execution_count": 191,
      "outputs": [
        {
          "output_type": "stream",
          "name": "stdout",
          "text": [
            "[0.0000000e+00 1.0000000e+00 1.2246468e-16] [ 1.000000e+00  6.123234e-17 -1.000000e+00] [ 0.00000000e+00  1.63312394e+16 -1.22464680e-16]\n"
          ]
        }
      ]
    },
    {
      "cell_type": "markdown",
      "source": [
        "* **np.arcsin(), np.arccos(), np.arctan():** Inverse trigonometric functions."
      ],
      "metadata": {
        "id": "lsYPmXf5oqH9"
      }
    },
    {
      "cell_type": "code",
      "source": [
        "sine_values = np.array([0, 1, -1])\n",
        "arcsine = np.arcsin(sine_values)\n",
        "arccosine = np.arccos(sine_values)\n",
        "arctangent = np.arctan(sine_values)\n",
        "print(arcsine, arccosine, arctangent)"
      ],
      "metadata": {
        "colab": {
          "base_uri": "https://localhost:8080/"
        },
        "id": "vxNDObZKot19",
        "outputId": "00b54cc8-f76d-402b-8549-99ecbf61e3eb"
      },
      "execution_count": 192,
      "outputs": [
        {
          "output_type": "stream",
          "name": "stdout",
          "text": [
            "[ 0.          1.57079633 -1.57079633] [1.57079633 0.         3.14159265] [ 0.          0.78539816 -0.78539816]\n"
          ]
        }
      ]
    },
    {
      "cell_type": "markdown",
      "source": [
        "* **np.hypot():** Calculate the hypotenuse."
      ],
      "metadata": {
        "id": "7fWgZ9SCovbZ"
      }
    },
    {
      "cell_type": "code",
      "source": [
        "hypot = np.hypot(3, 4)\n",
        "print(hypot)"
      ],
      "metadata": {
        "colab": {
          "base_uri": "https://localhost:8080/"
        },
        "id": "yaquawp9oyzT",
        "outputId": "c819235a-7986-4fbe-fdbd-013aff6f6ac2"
      },
      "execution_count": 193,
      "outputs": [
        {
          "output_type": "stream",
          "name": "stdout",
          "text": [
            "5.0\n"
          ]
        }
      ]
    },
    {
      "cell_type": "markdown",
      "source": [
        "* **np.arctan2():** Compute arctangent of two variables."
      ],
      "metadata": {
        "id": "95yh_XK1o0WW"
      }
    },
    {
      "cell_type": "code",
      "source": [
        "arctan2 = np.arctan2(1, 1)\n",
        "print(arctan2)"
      ],
      "metadata": {
        "colab": {
          "base_uri": "https://localhost:8080/"
        },
        "id": "_B0KFfmEo3Q-",
        "outputId": "02c0016d-4978-4a79-b523-9868f1fd11e0"
      },
      "execution_count": 194,
      "outputs": [
        {
          "output_type": "stream",
          "name": "stdout",
          "text": [
            "0.7853981633974483\n"
          ]
        }
      ]
    },
    {
      "cell_type": "markdown",
      "source": [
        "* **np.degrees():** Convert radians to degrees."
      ],
      "metadata": {
        "id": "rFWGmDj1o4uu"
      }
    },
    {
      "cell_type": "code",
      "source": [
        "degrees = np.degrees(np.pi)\n",
        "print(degrees)"
      ],
      "metadata": {
        "colab": {
          "base_uri": "https://localhost:8080/"
        },
        "id": "GsLYwX6Yo7lQ",
        "outputId": "5f1712d8-3f06-4715-cab0-6fc417ef8e8d"
      },
      "execution_count": 195,
      "outputs": [
        {
          "output_type": "stream",
          "name": "stdout",
          "text": [
            "180.0\n"
          ]
        }
      ]
    },
    {
      "cell_type": "markdown",
      "source": [
        "* **np.radians():** Convert degrees to radians."
      ],
      "metadata": {
        "id": "h-Tatchao9SB"
      }
    },
    {
      "cell_type": "code",
      "source": [
        "radians = np.radians(180)\n",
        "print(radians)"
      ],
      "metadata": {
        "colab": {
          "base_uri": "https://localhost:8080/"
        },
        "id": "JM33WBl2o_06",
        "outputId": "8253cd73-7b13-43b9-ab8c-8ebf8bc35ca7"
      },
      "execution_count": 196,
      "outputs": [
        {
          "output_type": "stream",
          "name": "stdout",
          "text": [
            "3.141592653589793\n"
          ]
        }
      ]
    },
    {
      "cell_type": "markdown",
      "source": [
        "**III. Hyperbolic Functions**\n",
        "* **np.sinh(), np.cosh(), np.tanh():** Compute hyperbolic sine, cosine, and tangent."
      ],
      "metadata": {
        "id": "BK29bB9DpBzR"
      }
    },
    {
      "cell_type": "code",
      "source": [
        "values = np.array([0, np.pi/2, np.pi])\n",
        "sinh = np.sinh(values)\n",
        "cosh = np.cosh(values)\n",
        "tanh = np.tanh(values)\n",
        "print(sinh, cosh, tanh)"
      ],
      "metadata": {
        "colab": {
          "base_uri": "https://localhost:8080/"
        },
        "id": "XfIrO1BapECt",
        "outputId": "150979e0-bd1d-4481-dc9d-2b32ffafa5b2"
      },
      "execution_count": 197,
      "outputs": [
        {
          "output_type": "stream",
          "name": "stdout",
          "text": [
            "[ 0.          2.3012989  11.54873936] [ 1.          2.50917848 11.59195328] [0.         0.91715234 0.99627208]\n"
          ]
        }
      ]
    },
    {
      "cell_type": "markdown",
      "source": [
        "* **np.arcsinh(), np.arccosh(), np.arctanh():** Inverse hyperbolic functions."
      ],
      "metadata": {
        "id": "duuoxe-spJfX"
      }
    },
    {
      "cell_type": "code",
      "source": [
        "sinh_values = np.array([0, 1, -1])\n",
        "arcsinh = np.arcsinh(sinh_values)\n",
        "arccosh = np.arccosh([1, 2])\n",
        "arctanh = np.arctanh([0.5, -0.5])\n",
        "print(arcsinh, arccosh, arctanh)"
      ],
      "metadata": {
        "colab": {
          "base_uri": "https://localhost:8080/"
        },
        "id": "0robbE85pMYp",
        "outputId": "70559b5e-aa7f-4167-e98f-e31b5ae5c93d"
      },
      "execution_count": 198,
      "outputs": [
        {
          "output_type": "stream",
          "name": "stdout",
          "text": [
            "[ 0.          0.88137359 -0.88137359] [0.        1.3169579] [ 0.54930614 -0.54930614]\n"
          ]
        }
      ]
    },
    {
      "cell_type": "markdown",
      "source": [
        "**IV. Exponential and Logarithmic Functions**\n",
        "* **np.exp():** Compute the exponential of all elements."
      ],
      "metadata": {
        "id": "dcn_aobipN3r"
      }
    },
    {
      "cell_type": "code",
      "source": [
        "arr = np.array([1, 2, 3])\n",
        "exp = np.exp(arr)\n",
        "print(exp)"
      ],
      "metadata": {
        "colab": {
          "base_uri": "https://localhost:8080/"
        },
        "id": "JrjDWimopSQN",
        "outputId": "40ebbdd8-567e-49b4-e20a-84d6752cce2e"
      },
      "execution_count": 199,
      "outputs": [
        {
          "output_type": "stream",
          "name": "stdout",
          "text": [
            "[ 2.71828183  7.3890561  20.08553692]\n"
          ]
        }
      ]
    },
    {
      "cell_type": "markdown",
      "source": [
        "* **np.expm1():** Compute `exp(x) - 1` for all elements."
      ],
      "metadata": {
        "id": "gIeMYfebpT-F"
      }
    },
    {
      "cell_type": "code",
      "source": [
        "expm1 = np.expm1(arr)\n",
        "print(expm1)"
      ],
      "metadata": {
        "colab": {
          "base_uri": "https://localhost:8080/"
        },
        "id": "7y4DezPdpZ3x",
        "outputId": "15fc00af-23ff-484a-805f-5518f377268b"
      },
      "execution_count": 200,
      "outputs": [
        {
          "output_type": "stream",
          "name": "stdout",
          "text": [
            "[ 1.71828183  6.3890561  19.08553692]\n"
          ]
        }
      ]
    },
    {
      "cell_type": "markdown",
      "source": [
        "* **np.exp2():** Compute `2**x` for all elements."
      ],
      "metadata": {
        "id": "BaNGncMnpbtt"
      }
    },
    {
      "cell_type": "code",
      "source": [
        "exp2 = np.exp2(arr)\n",
        "print(exp2)"
      ],
      "metadata": {
        "colab": {
          "base_uri": "https://localhost:8080/"
        },
        "id": "KJcrYhexpfXd",
        "outputId": "d24d8945-31cc-493e-a28e-64cf5db581e4"
      },
      "execution_count": 201,
      "outputs": [
        {
          "output_type": "stream",
          "name": "stdout",
          "text": [
            "[2. 4. 8.]\n"
          ]
        }
      ]
    },
    {
      "cell_type": "markdown",
      "source": [
        "* **np.log():** Compute the natural logarithm of all elements."
      ],
      "metadata": {
        "id": "ZDwgoT8WpheC"
      }
    },
    {
      "cell_type": "code",
      "source": [
        "log = np.log(arr)\n",
        "print(log)"
      ],
      "metadata": {
        "colab": {
          "base_uri": "https://localhost:8080/"
        },
        "id": "hFvYLxv3pjSY",
        "outputId": "34acc9b5-8f06-49a1-cafa-fc6d03d7b1be"
      },
      "execution_count": 202,
      "outputs": [
        {
          "output_type": "stream",
          "name": "stdout",
          "text": [
            "[0.         0.69314718 1.09861229]\n"
          ]
        }
      ]
    },
    {
      "cell_type": "markdown",
      "source": [
        "* **np.log10():** Compute the base-10 logarithm of all elements."
      ],
      "metadata": {
        "id": "Am9Gr-zMppmS"
      }
    },
    {
      "cell_type": "code",
      "source": [
        "log10 = np.log10(arr)\n",
        "print(log10)"
      ],
      "metadata": {
        "colab": {
          "base_uri": "https://localhost:8080/"
        },
        "id": "MuUjSnPXpsuJ",
        "outputId": "36e07800-4424-4bed-dc8e-38969b2015a5"
      },
      "execution_count": 203,
      "outputs": [
        {
          "output_type": "stream",
          "name": "stdout",
          "text": [
            "[0.         0.30103    0.47712125]\n"
          ]
        }
      ]
    },
    {
      "cell_type": "markdown",
      "source": [
        "* **np.log2():** Compute the base-2 logarithm of all elements."
      ],
      "metadata": {
        "id": "1R0MJdfzpvhs"
      }
    },
    {
      "cell_type": "code",
      "source": [
        "log2 = np.log2(arr)\n",
        "print(log2)"
      ],
      "metadata": {
        "colab": {
          "base_uri": "https://localhost:8080/"
        },
        "id": "ZDwn3kvfpyex",
        "outputId": "8c9fbe19-d97e-4108-955d-a8ba5b2d89da"
      },
      "execution_count": 204,
      "outputs": [
        {
          "output_type": "stream",
          "name": "stdout",
          "text": [
            "[0.        1.        1.5849625]\n"
          ]
        }
      ]
    },
    {
      "cell_type": "markdown",
      "source": [
        "* **np.log1p():** Compute `log(1 + x)` for all elements."
      ],
      "metadata": {
        "id": "fkoLNFLypz5g"
      }
    },
    {
      "cell_type": "code",
      "source": [
        "log1p = np.log1p(arr)\n",
        "print(log1p)"
      ],
      "metadata": {
        "colab": {
          "base_uri": "https://localhost:8080/"
        },
        "id": "UPUaa9Osp4LM",
        "outputId": "0c8d9428-ba8c-4f19-a8e6-081770ba672a"
      },
      "execution_count": 205,
      "outputs": [
        {
          "output_type": "stream",
          "name": "stdout",
          "text": [
            "[0.69314718 1.09861229 1.38629436]\n"
          ]
        }
      ]
    },
    {
      "cell_type": "markdown",
      "source": [
        "**V. Rounding Functions**\n",
        "* **np.round(), np.around():** Round elements to the nearest integer."
      ],
      "metadata": {
        "id": "CT9QfqYep52w"
      }
    },
    {
      "cell_type": "code",
      "source": [
        "arr = np.array([1.5, 2.7, 3.3])\n",
        "rounded = np.round(arr)\n",
        "print(rounded)"
      ],
      "metadata": {
        "colab": {
          "base_uri": "https://localhost:8080/"
        },
        "id": "iYTn8Scip-S9",
        "outputId": "87cab730-d346-4cc8-c8b2-ab51cc3d1aec"
      },
      "execution_count": 206,
      "outputs": [
        {
          "output_type": "stream",
          "name": "stdout",
          "text": [
            "[2. 3. 3.]\n"
          ]
        }
      ]
    },
    {
      "cell_type": "markdown",
      "source": [
        "* **np.rint():** Round elements to the nearest integer (ties rounded to even)."
      ],
      "metadata": {
        "id": "tbxRAXcZqAwF"
      }
    },
    {
      "cell_type": "code",
      "source": [
        "rint = np.rint(arr)\n",
        "print(rint)"
      ],
      "metadata": {
        "colab": {
          "base_uri": "https://localhost:8080/"
        },
        "id": "JMG4-botqEZ1",
        "outputId": "944b9bae-22d6-40bd-ff8f-a796e311ce6e"
      },
      "execution_count": 207,
      "outputs": [
        {
          "output_type": "stream",
          "name": "stdout",
          "text": [
            "[2. 3. 3.]\n"
          ]
        }
      ]
    },
    {
      "cell_type": "markdown",
      "source": [
        "* **np.fix():** Round elements towards zero."
      ],
      "metadata": {
        "id": "9IytayB8qGAk"
      }
    },
    {
      "cell_type": "code",
      "source": [
        "fix = np.fix(arr)\n",
        "print(fix)"
      ],
      "metadata": {
        "colab": {
          "base_uri": "https://localhost:8080/"
        },
        "id": "fnzzyoE8qI48",
        "outputId": "3e269682-6628-4612-8339-41f30522ffe3"
      },
      "execution_count": 208,
      "outputs": [
        {
          "output_type": "stream",
          "name": "stdout",
          "text": [
            "[1. 2. 3.]\n"
          ]
        }
      ]
    },
    {
      "cell_type": "markdown",
      "source": [
        "* **np.floor():** Compute the floor of each element."
      ],
      "metadata": {
        "id": "S0ZPQyl0qKp2"
      }
    },
    {
      "cell_type": "code",
      "source": [
        "floor = np.floor(arr)\n",
        "print(floor)"
      ],
      "metadata": {
        "colab": {
          "base_uri": "https://localhost:8080/"
        },
        "id": "RbwKJr7YqNl0",
        "outputId": "12c9ffaf-b429-49a3-b5e0-22b3890c1a02"
      },
      "execution_count": 209,
      "outputs": [
        {
          "output_type": "stream",
          "name": "stdout",
          "text": [
            "[1. 2. 3.]\n"
          ]
        }
      ]
    },
    {
      "cell_type": "markdown",
      "source": [
        "* **np.ceil():** Compute the ceiling of each element."
      ],
      "metadata": {
        "id": "FAwHV1eMqPlv"
      }
    },
    {
      "cell_type": "code",
      "source": [
        "ceil = np.ceil(arr)\n",
        "print(ceil)"
      ],
      "metadata": {
        "colab": {
          "base_uri": "https://localhost:8080/"
        },
        "id": "vnrhx2xfqSlx",
        "outputId": "ae673f0c-4950-41fa-eefc-33492d3214c4"
      },
      "execution_count": 210,
      "outputs": [
        {
          "output_type": "stream",
          "name": "stdout",
          "text": [
            "[2. 3. 4.]\n"
          ]
        }
      ]
    },
    {
      "cell_type": "markdown",
      "source": [
        "* **np.trunc():** Truncate each element (remove fractional part)."
      ],
      "metadata": {
        "id": "ihcaS0HJqVd5"
      }
    },
    {
      "cell_type": "code",
      "source": [
        "trunc = np.trunc(arr)\n",
        "print(trunc)"
      ],
      "metadata": {
        "colab": {
          "base_uri": "https://localhost:8080/"
        },
        "id": "HP0Ejbf1qYdE",
        "outputId": "9d3b9139-088e-4893-9bdf-d73c624622c2"
      },
      "execution_count": 211,
      "outputs": [
        {
          "output_type": "stream",
          "name": "stdout",
          "text": [
            "[1. 2. 3.]\n"
          ]
        }
      ]
    },
    {
      "cell_type": "markdown",
      "source": [
        "**VI. Statistical Functions**\n",
        "* **np.mean():** Compute the arithmetic mean."
      ],
      "metadata": {
        "id": "kadqZlDBqccP"
      }
    },
    {
      "cell_type": "code",
      "source": [
        "arr = np.array([1, 2, 3, 4, 5])\n",
        "mean = np.mean(arr)\n",
        "print(mean)"
      ],
      "metadata": {
        "colab": {
          "base_uri": "https://localhost:8080/"
        },
        "id": "D4qYqr7mqiV_",
        "outputId": "b653535c-ce24-47d2-ec54-83e2e263b577"
      },
      "execution_count": 212,
      "outputs": [
        {
          "output_type": "stream",
          "name": "stdout",
          "text": [
            "3.0\n"
          ]
        }
      ]
    },
    {
      "cell_type": "markdown",
      "source": [
        "* **np.median():** Compute the median.\n",
        "\n"
      ],
      "metadata": {
        "id": "-sCdpJd9qmgA"
      }
    },
    {
      "cell_type": "code",
      "source": [
        "median = np.median(arr)\n",
        "print(median)"
      ],
      "metadata": {
        "colab": {
          "base_uri": "https://localhost:8080/"
        },
        "id": "lQ_qaLM4qqzL",
        "outputId": "f94c1523-b05d-4bc1-be14-fa01b9eebdbf"
      },
      "execution_count": 213,
      "outputs": [
        {
          "output_type": "stream",
          "name": "stdout",
          "text": [
            "3.0\n"
          ]
        }
      ]
    },
    {
      "cell_type": "markdown",
      "source": [
        "* **np.std():** Compute the standard deviation."
      ],
      "metadata": {
        "id": "-OpEMlK9quK1"
      }
    },
    {
      "cell_type": "code",
      "source": [
        "std = np.std(arr)\n",
        "print(std)"
      ],
      "metadata": {
        "colab": {
          "base_uri": "https://localhost:8080/"
        },
        "id": "AcZ6sXs-qw2t",
        "outputId": "82faf104-d23e-4f0c-9917-85e1e35abd4f"
      },
      "execution_count": 214,
      "outputs": [
        {
          "output_type": "stream",
          "name": "stdout",
          "text": [
            "1.4142135623730951\n"
          ]
        }
      ]
    },
    {
      "cell_type": "markdown",
      "source": [
        "* **np.var():** Compute the variance."
      ],
      "metadata": {
        "id": "_u4hmgn-qyh2"
      }
    },
    {
      "cell_type": "code",
      "source": [
        "var = np.var(arr)\n",
        "print(var)"
      ],
      "metadata": {
        "colab": {
          "base_uri": "https://localhost:8080/"
        },
        "id": "yLDTtY0Eq1rM",
        "outputId": "5089871c-9d00-4a9d-ab06-3f018444c25c"
      },
      "execution_count": 215,
      "outputs": [
        {
          "output_type": "stream",
          "name": "stdout",
          "text": [
            "2.0\n"
          ]
        }
      ]
    },
    {
      "cell_type": "markdown",
      "source": [
        "* **np.min():** Find the minimum value."
      ],
      "metadata": {
        "id": "AFeVFUPEq3PU"
      }
    },
    {
      "cell_type": "code",
      "source": [
        "min_val = np.min(arr)\n",
        "print(min_val)"
      ],
      "metadata": {
        "colab": {
          "base_uri": "https://localhost:8080/"
        },
        "id": "TUSYCyf6q571",
        "outputId": "57358e13-de45-4982-cd12-c3b563aaefac"
      },
      "execution_count": 216,
      "outputs": [
        {
          "output_type": "stream",
          "name": "stdout",
          "text": [
            "1\n"
          ]
        }
      ]
    },
    {
      "cell_type": "markdown",
      "source": [
        "* **np.max():** Find the maximum value.\n",
        "\n"
      ],
      "metadata": {
        "id": "pgOvvEI0q7sB"
      }
    },
    {
      "cell_type": "code",
      "source": [
        "max_val = np.max(arr)\n",
        "print(max_val)"
      ],
      "metadata": {
        "colab": {
          "base_uri": "https://localhost:8080/"
        },
        "id": "T_fFLIVcq-qo",
        "outputId": "a24c25ee-3a2d-4929-cef8-2e0394c09803"
      },
      "execution_count": 217,
      "outputs": [
        {
          "output_type": "stream",
          "name": "stdout",
          "text": [
            "5\n"
          ]
        }
      ]
    },
    {
      "cell_type": "markdown",
      "source": [
        "* **np.argmin():** Find the index of the minimum value."
      ],
      "metadata": {
        "id": "A6qkF9YhrAhm"
      }
    },
    {
      "cell_type": "code",
      "source": [
        "argmin = np.argmin(arr)\n",
        "print(argmin)"
      ],
      "metadata": {
        "colab": {
          "base_uri": "https://localhost:8080/"
        },
        "id": "wKA4-G1KrDN-",
        "outputId": "7a921562-b9c2-4311-d838-61d528ff5439"
      },
      "execution_count": 218,
      "outputs": [
        {
          "output_type": "stream",
          "name": "stdout",
          "text": [
            "0\n"
          ]
        }
      ]
    },
    {
      "cell_type": "markdown",
      "source": [
        "* **np.argmax():** Find the index of the maximum value."
      ],
      "metadata": {
        "id": "Jr_Bk99VrE0V"
      }
    },
    {
      "cell_type": "code",
      "source": [
        "argmax = np.argmax(arr)\n",
        "print(argmax)"
      ],
      "metadata": {
        "colab": {
          "base_uri": "https://localhost:8080/"
        },
        "id": "CtzvQvcZrHgD",
        "outputId": "e2ab27dc-d854-4f47-d85d-ad0790b1d06f"
      },
      "execution_count": 219,
      "outputs": [
        {
          "output_type": "stream",
          "name": "stdout",
          "text": [
            "4\n"
          ]
        }
      ]
    },
    {
      "cell_type": "markdown",
      "source": [
        "* **np.sum():** Compute the sum of all elements."
      ],
      "metadata": {
        "id": "Mp6sG4wsrJ6l"
      }
    },
    {
      "cell_type": "code",
      "source": [
        "total_sum = np.sum(arr)\n",
        "print(total_sum)"
      ],
      "metadata": {
        "colab": {
          "base_uri": "https://localhost:8080/"
        },
        "id": "kgQiYFQJrMfx",
        "outputId": "e4dd2304-f07b-4fcb-99ec-395346921f85"
      },
      "execution_count": 220,
      "outputs": [
        {
          "output_type": "stream",
          "name": "stdout",
          "text": [
            "15\n"
          ]
        }
      ]
    },
    {
      "cell_type": "markdown",
      "source": [
        "* **np.prod():** Compute the product of all elements."
      ],
      "metadata": {
        "id": "S3HVC3u7rOTr"
      }
    },
    {
      "cell_type": "code",
      "source": [
        "total_prod = np.prod(arr)\n",
        "print(total_prod)"
      ],
      "metadata": {
        "colab": {
          "base_uri": "https://localhost:8080/"
        },
        "id": "KjqA6IJcrRET",
        "outputId": "467e0e04-4626-4ecf-b631-5c082f7d61f0"
      },
      "execution_count": 221,
      "outputs": [
        {
          "output_type": "stream",
          "name": "stdout",
          "text": [
            "120\n"
          ]
        }
      ]
    },
    {
      "cell_type": "markdown",
      "source": [
        "* **np.cumsum():** Compute the cumulative sum."
      ],
      "metadata": {
        "id": "CRnk7YEcrS_8"
      }
    },
    {
      "cell_type": "code",
      "source": [
        "cumsum = np.cumsum(arr)\n",
        "print(cumsum)"
      ],
      "metadata": {
        "colab": {
          "base_uri": "https://localhost:8080/"
        },
        "id": "0HyBYc38rVt6",
        "outputId": "05c03152-d9c3-4775-bb6c-07d6fbf4d4a4"
      },
      "execution_count": 222,
      "outputs": [
        {
          "output_type": "stream",
          "name": "stdout",
          "text": [
            "[ 1  3  6 10 15]\n"
          ]
        }
      ]
    },
    {
      "cell_type": "markdown",
      "source": [
        "* **np.cumprod():** Compute the cumulative product."
      ],
      "metadata": {
        "id": "JuJprTkIrXto"
      }
    },
    {
      "cell_type": "code",
      "source": [
        "cumprod = np.cumprod(arr)\n",
        "print(cumprod)"
      ],
      "metadata": {
        "colab": {
          "base_uri": "https://localhost:8080/"
        },
        "id": "d4RUFpGfrajt",
        "outputId": "ebbc88de-48c8-43ef-bd41-4391e7c6cb6a"
      },
      "execution_count": 223,
      "outputs": [
        {
          "output_type": "stream",
          "name": "stdout",
          "text": [
            "[  1   2   6  24 120]\n"
          ]
        }
      ]
    },
    {
      "cell_type": "markdown",
      "source": [
        "* **np.percentile():** Compute the percentile of the array elements."
      ],
      "metadata": {
        "id": "3NnrxmtNrcIY"
      }
    },
    {
      "cell_type": "code",
      "source": [
        "percentile = np.percentile(arr, 50)\n",
        "print(percentile)"
      ],
      "metadata": {
        "colab": {
          "base_uri": "https://localhost:8080/"
        },
        "id": "2BoEnqkmrer3",
        "outputId": "278c360c-4912-4c9e-d334-fce6d05e7320"
      },
      "execution_count": 224,
      "outputs": [
        {
          "output_type": "stream",
          "name": "stdout",
          "text": [
            "3.0\n"
          ]
        }
      ]
    },
    {
      "cell_type": "markdown",
      "source": [
        "# **4. Array Manipulation Functions**\n",
        "\n",
        "**I. Changing Shape**\n",
        "* **reshape():** Reshapes an array without changing its data."
      ],
      "metadata": {
        "id": "XSRXl38yr3mz"
      }
    },
    {
      "cell_type": "code",
      "source": [
        "arr = np.array([1, 2, 3, 4, 5, 6])\n",
        "reshaped = arr.reshape((2, 3))\n",
        "print(reshaped)"
      ],
      "metadata": {
        "colab": {
          "base_uri": "https://localhost:8080/"
        },
        "id": "EBXjOS8Sr8hB",
        "outputId": "a64bd1f5-bd95-42ba-bb8b-251fc673d1e3"
      },
      "execution_count": 225,
      "outputs": [
        {
          "output_type": "stream",
          "name": "stdout",
          "text": [
            "[[1 2 3]\n",
            " [4 5 6]]\n"
          ]
        }
      ]
    },
    {
      "cell_type": "markdown",
      "source": [
        "* **ravel():** Flattens an array into a one-dimensional array."
      ],
      "metadata": {
        "id": "QyW-S9iCr-U7"
      }
    },
    {
      "cell_type": "code",
      "source": [
        "raveled = reshaped.ravel()\n",
        "print(raveled)"
      ],
      "metadata": {
        "colab": {
          "base_uri": "https://localhost:8080/"
        },
        "id": "o52TQQ6RsBGK",
        "outputId": "c5aa3f8e-0a57-4839-ba5c-42431618b336"
      },
      "execution_count": 226,
      "outputs": [
        {
          "output_type": "stream",
          "name": "stdout",
          "text": [
            "[1 2 3 4 5 6]\n"
          ]
        }
      ]
    },
    {
      "cell_type": "markdown",
      "source": [
        "* **flatten():** Similar to ravel, but returns a copy."
      ],
      "metadata": {
        "id": "HsK1602QsC5P"
      }
    },
    {
      "cell_type": "code",
      "source": [
        "flattened = reshaped.flatten()\n",
        "print(flattened)"
      ],
      "metadata": {
        "colab": {
          "base_uri": "https://localhost:8080/"
        },
        "id": "KoaQWttSsFwT",
        "outputId": "b96f56ea-7117-49c9-8163-1bf89bbdc11f"
      },
      "execution_count": 227,
      "outputs": [
        {
          "output_type": "stream",
          "name": "stdout",
          "text": [
            "[1 2 3 4 5 6]\n"
          ]
        }
      ]
    },
    {
      "cell_type": "markdown",
      "source": [
        "* **transpose():** Transposes an array."
      ],
      "metadata": {
        "id": "QSdrEUDwsHfw"
      }
    },
    {
      "cell_type": "code",
      "source": [
        "transposed = reshaped.transpose()\n",
        "print(transposed)"
      ],
      "metadata": {
        "colab": {
          "base_uri": "https://localhost:8080/"
        },
        "id": "dB2ySYlbsKGi",
        "outputId": "de5e8aa1-4d98-47af-d995-7c306dee6554"
      },
      "execution_count": 228,
      "outputs": [
        {
          "output_type": "stream",
          "name": "stdout",
          "text": [
            "[[1 4]\n",
            " [2 5]\n",
            " [3 6]]\n"
          ]
        }
      ]
    },
    {
      "cell_type": "markdown",
      "source": [
        "* **swapaxes():** Interchanges two axes of an array."
      ],
      "metadata": {
        "id": "dNi68HeKsLkZ"
      }
    },
    {
      "cell_type": "code",
      "source": [
        "arr = np.array([[1, 2, 3]])\n",
        "swapped = np.swapaxes(arr, 0, 1)\n",
        "print(swapped)"
      ],
      "metadata": {
        "colab": {
          "base_uri": "https://localhost:8080/"
        },
        "id": "pSVBafyysOOg",
        "outputId": "f81921a5-63cc-48fb-a0d9-8fe5a0ba6293"
      },
      "execution_count": 229,
      "outputs": [
        {
          "output_type": "stream",
          "name": "stdout",
          "text": [
            "[[1]\n",
            " [2]\n",
            " [3]]\n"
          ]
        }
      ]
    },
    {
      "cell_type": "markdown",
      "source": [
        "* **rollaxis():** Rolls an axis to a new location."
      ],
      "metadata": {
        "id": "owGl7KRGsQTF"
      }
    },
    {
      "cell_type": "code",
      "source": [
        "arr = np.ones((3, 4, 5))\n",
        "rolled = np.rollaxis(arr, 2, 0)\n",
        "print(rolled.shape)"
      ],
      "metadata": {
        "colab": {
          "base_uri": "https://localhost:8080/"
        },
        "id": "Poju6n0LsTse",
        "outputId": "9eb97343-cb7c-477d-9e6d-eaf8653a3679"
      },
      "execution_count": 230,
      "outputs": [
        {
          "output_type": "stream",
          "name": "stdout",
          "text": [
            "(5, 3, 4)\n"
          ]
        }
      ]
    },
    {
      "cell_type": "markdown",
      "source": [
        "**II. Joining Arrays**\n",
        "* **concatenate():** Joins arrays along an existing axis."
      ],
      "metadata": {
        "id": "h5ysnuX6sVrm"
      }
    },
    {
      "cell_type": "code",
      "source": [
        "arr1 = np.array([[1, 2], [3, 4]])\n",
        "arr2 = np.array([[5, 6]])\n",
        "concatenated = np.concatenate((arr1, arr2), axis=0)\n",
        "print(concatenated)"
      ],
      "metadata": {
        "colab": {
          "base_uri": "https://localhost:8080/"
        },
        "id": "ex28aJpAsZmk",
        "outputId": "3b65fdfd-b249-4508-b1a5-13418164a23f"
      },
      "execution_count": 231,
      "outputs": [
        {
          "output_type": "stream",
          "name": "stdout",
          "text": [
            "[[1 2]\n",
            " [3 4]\n",
            " [5 6]]\n"
          ]
        }
      ]
    },
    {
      "cell_type": "markdown",
      "source": [
        "* **vstack():** Stacks arrays vertically (row-wise)."
      ],
      "metadata": {
        "id": "YDYBidoVsbbd"
      }
    },
    {
      "cell_type": "code",
      "source": [
        "vstacked = np.vstack((arr1, arr2))\n",
        "print(vstacked)"
      ],
      "metadata": {
        "colab": {
          "base_uri": "https://localhost:8080/"
        },
        "id": "W_0CfxpzseC6",
        "outputId": "0a6a49a4-26f6-4768-c767-784a76c1407d"
      },
      "execution_count": 232,
      "outputs": [
        {
          "output_type": "stream",
          "name": "stdout",
          "text": [
            "[[1 2]\n",
            " [3 4]\n",
            " [5 6]]\n"
          ]
        }
      ]
    },
    {
      "cell_type": "markdown",
      "source": [
        "* **hstack():** Stacks arrays horizontally (column-wise)."
      ],
      "metadata": {
        "id": "9hgaiukksgk2"
      }
    },
    {
      "cell_type": "code",
      "source": [
        "arr3 = np.array([[5], [6]])\n",
        "hstacked = np.hstack((arr1, arr3))\n",
        "print(hstacked)"
      ],
      "metadata": {
        "colab": {
          "base_uri": "https://localhost:8080/"
        },
        "id": "Ij-oedk3si7B",
        "outputId": "f27b7f08-8055-48f5-9f9d-0eb0b67af5e6"
      },
      "execution_count": 233,
      "outputs": [
        {
          "output_type": "stream",
          "name": "stdout",
          "text": [
            "[[1 2 5]\n",
            " [3 4 6]]\n"
          ]
        }
      ]
    },
    {
      "cell_type": "markdown",
      "source": [
        "* **dstack():** Stacks arrays depth-wise (along the third dimension)."
      ],
      "metadata": {
        "id": "z5UD6debskiJ"
      }
    },
    {
      "cell_type": "code",
      "source": [
        "arr4 = np.array([[7, 8], [9, 10]])\n",
        "dstacked = np.dstack((arr1, arr4))\n",
        "print(dstacked)"
      ],
      "metadata": {
        "colab": {
          "base_uri": "https://localhost:8080/"
        },
        "id": "yE5RS6PlsnxA",
        "outputId": "47b7bef7-d07e-4614-81aa-fa1ff3326027"
      },
      "execution_count": 234,
      "outputs": [
        {
          "output_type": "stream",
          "name": "stdout",
          "text": [
            "[[[ 1  7]\n",
            "  [ 2  8]]\n",
            "\n",
            " [[ 3  9]\n",
            "  [ 4 10]]]\n"
          ]
        }
      ]
    },
    {
      "cell_type": "markdown",
      "source": [
        "* **column_stack():** Creates a 2-D array from 1-D arrays."
      ],
      "metadata": {
        "id": "iZiphPVzspaq"
      }
    },
    {
      "cell_type": "code",
      "source": [
        "arr5 = np.array([1, 2, 3])\n",
        "arr6 = np.array([4, 5, 6])\n",
        "column_stacked = np.column_stack((arr5, arr6))\n",
        "print(column_stacked)"
      ],
      "metadata": {
        "colab": {
          "base_uri": "https://localhost:8080/"
        },
        "id": "BVwwI1zcssKV",
        "outputId": "cc0ec457-0298-4a4c-cabf-0d82af5078ad"
      },
      "execution_count": 235,
      "outputs": [
        {
          "output_type": "stream",
          "name": "stdout",
          "text": [
            "[[1 4]\n",
            " [2 5]\n",
            " [3 6]]\n"
          ]
        }
      ]
    },
    {
      "cell_type": "markdown",
      "source": [
        "**III. Splitting Arrays**\n",
        "* **split():** Splits an array into multiple sub-arrays along an axis."
      ],
      "metadata": {
        "id": "swvEaDqwstvs"
      }
    },
    {
      "cell_type": "code",
      "source": [
        "arr = np.array([1, 2, 3, 4, 5, 6])\n",
        "split_arr = np.split(arr, 3)\n",
        "print(split_arr)"
      ],
      "metadata": {
        "colab": {
          "base_uri": "https://localhost:8080/"
        },
        "id": "Y0cE3DC0syFI",
        "outputId": "76dabb0c-4129-47c7-8b43-436e49599799"
      },
      "execution_count": 236,
      "outputs": [
        {
          "output_type": "stream",
          "name": "stdout",
          "text": [
            "[array([1, 2]), array([3, 4]), array([5, 6])]\n"
          ]
        }
      ]
    },
    {
      "cell_type": "markdown",
      "source": [
        "* **array_split():** Splits an array into equal or near-equal sub-arrays."
      ],
      "metadata": {
        "id": "rg3MzMj1szoP"
      }
    },
    {
      "cell_type": "code",
      "source": [
        "split_arr = np.array_split(arr, 4)\n",
        "print(split_arr)"
      ],
      "metadata": {
        "colab": {
          "base_uri": "https://localhost:8080/"
        },
        "id": "CbINRV4WtD21",
        "outputId": "ecd74bb4-721b-42ce-901e-e6ee37b90e6d"
      },
      "execution_count": 237,
      "outputs": [
        {
          "output_type": "stream",
          "name": "stdout",
          "text": [
            "[array([1, 2]), array([3, 4]), array([5]), array([6])]\n"
          ]
        }
      ]
    },
    {
      "cell_type": "markdown",
      "source": [
        "* **hsplit():** Splits an array horizontally (column-wise)."
      ],
      "metadata": {
        "id": "HVv_VcNntHBv"
      }
    },
    {
      "cell_type": "code",
      "source": [
        "arr = np.array([[1, 2, 3], [4, 5, 6]])\n",
        "hsplit_arr = np.hsplit(arr, 3)\n",
        "print(hsplit_arr)"
      ],
      "metadata": {
        "colab": {
          "base_uri": "https://localhost:8080/"
        },
        "id": "jj4HdSSetJ1l",
        "outputId": "b19bec48-429e-475f-dd8f-aa044620d229"
      },
      "execution_count": 238,
      "outputs": [
        {
          "output_type": "stream",
          "name": "stdout",
          "text": [
            "[array([[1],\n",
            "       [4]]), array([[2],\n",
            "       [5]]), array([[3],\n",
            "       [6]])]\n"
          ]
        }
      ]
    },
    {
      "cell_type": "markdown",
      "source": [
        "* **vsplit():** Splits an array vertically (row-wise)."
      ],
      "metadata": {
        "id": "hhJbwhS3tLtd"
      }
    },
    {
      "cell_type": "code",
      "source": [
        "vsplit_arr = np.vsplit(arr, 2)\n",
        "print(vsplit_arr)"
      ],
      "metadata": {
        "colab": {
          "base_uri": "https://localhost:8080/"
        },
        "id": "DAOrnkp8tOKO",
        "outputId": "8fe55558-3fe2-442d-dfd9-529650d02275"
      },
      "execution_count": 239,
      "outputs": [
        {
          "output_type": "stream",
          "name": "stdout",
          "text": [
            "[array([[1, 2, 3]]), array([[4, 5, 6]])]\n"
          ]
        }
      ]
    },
    {
      "cell_type": "markdown",
      "source": [
        "**IV. Adding/Removing Elements**\n",
        "* **append():** Appends values to the end of an array."
      ],
      "metadata": {
        "id": "ec0x5bNjtQh1"
      }
    },
    {
      "cell_type": "code",
      "source": [
        "arr = np.array([1, 2, 3])\n",
        "appended = np.append(arr, [4, 5, 6])\n",
        "print(appended)"
      ],
      "metadata": {
        "colab": {
          "base_uri": "https://localhost:8080/"
        },
        "id": "xnNNyAAgtnlC",
        "outputId": "968aa4c9-20c3-43a5-9267-3dccc13fd830"
      },
      "execution_count": 240,
      "outputs": [
        {
          "output_type": "stream",
          "name": "stdout",
          "text": [
            "[1 2 3 4 5 6]\n"
          ]
        }
      ]
    },
    {
      "cell_type": "markdown",
      "source": [
        "* **insert():** Inserts values into an array at specified positions."
      ],
      "metadata": {
        "id": "MrOrmXaTtrtq"
      }
    },
    {
      "cell_type": "code",
      "source": [
        "inserted = np.insert(arr, 1, [7, 8])\n",
        "print(inserted)"
      ],
      "metadata": {
        "colab": {
          "base_uri": "https://localhost:8080/"
        },
        "id": "FzShshgAtuhf",
        "outputId": "cdb8a5c3-171a-4ebc-d8d7-86038a754749"
      },
      "execution_count": 241,
      "outputs": [
        {
          "output_type": "stream",
          "name": "stdout",
          "text": [
            "[1 7 8 2 3]\n"
          ]
        }
      ]
    },
    {
      "cell_type": "markdown",
      "source": [
        "* **delete():** Deletes elements from an array."
      ],
      "metadata": {
        "id": "AkOopekLtwHY"
      }
    },
    {
      "cell_type": "code",
      "source": [
        "deleted = np.delete(arr, [1])\n",
        "print(deleted)"
      ],
      "metadata": {
        "colab": {
          "base_uri": "https://localhost:8080/"
        },
        "id": "esvUHPH_tyZU",
        "outputId": "a242ff12-2ece-47ce-9673-ad77c88787bf"
      },
      "execution_count": 242,
      "outputs": [
        {
          "output_type": "stream",
          "name": "stdout",
          "text": [
            "[1 3]\n"
          ]
        }
      ]
    },
    {
      "cell_type": "markdown",
      "source": [
        "* **resize():** Resizes an array to a new shape."
      ],
      "metadata": {
        "id": "MyRTlwQGt0L0"
      }
    },
    {
      "cell_type": "code",
      "source": [
        "resized = np.resize(arr, (2, 3))\n",
        "print(resized)"
      ],
      "metadata": {
        "colab": {
          "base_uri": "https://localhost:8080/"
        },
        "id": "3U-lXsRgt27B",
        "outputId": "47ca6cbe-4d20-4e80-bd36-51a2796d80db"
      },
      "execution_count": 243,
      "outputs": [
        {
          "output_type": "stream",
          "name": "stdout",
          "text": [
            "[[1 2 3]\n",
            " [1 2 3]]\n"
          ]
        }
      ]
    },
    {
      "cell_type": "markdown",
      "source": [
        "**V. Other Useful Functions**\n",
        "* **copy():** Creates a copy of an array."
      ],
      "metadata": {
        "id": "CULzVGzgt4pM"
      }
    },
    {
      "cell_type": "code",
      "source": [
        "copied = arr.copy()\n",
        "print(copied)"
      ],
      "metadata": {
        "colab": {
          "base_uri": "https://localhost:8080/"
        },
        "id": "tjeKlEvKt817",
        "outputId": "4a1b00db-8264-47ed-988c-b6ec4640e653"
      },
      "execution_count": 244,
      "outputs": [
        {
          "output_type": "stream",
          "name": "stdout",
          "text": [
            "[1 2 3]\n"
          ]
        }
      ]
    },
    {
      "cell_type": "markdown",
      "source": [
        "* **squeeze():** Removes single-dimensional entries from the shape of an array."
      ],
      "metadata": {
        "id": "Z_LtZ4Mqt-ik"
      }
    },
    {
      "cell_type": "code",
      "source": [
        "arr = np.array([[[1, 2, 3]], [[4, 5, 6]]])\n",
        "squeezed = np.squeeze(arr)\n",
        "print(squeezed)"
      ],
      "metadata": {
        "colab": {
          "base_uri": "https://localhost:8080/"
        },
        "id": "yqSEd1u8uBTD",
        "outputId": "8f17de54-a93e-4e27-e136-69292e65a468"
      },
      "execution_count": 245,
      "outputs": [
        {
          "output_type": "stream",
          "name": "stdout",
          "text": [
            "[[1 2 3]\n",
            " [4 5 6]]\n"
          ]
        }
      ]
    },
    {
      "cell_type": "markdown",
      "source": [
        "* **expand_dims():** Inserts a new axis into an array."
      ],
      "metadata": {
        "id": "E_6U71lRuDP-"
      }
    },
    {
      "cell_type": "code",
      "source": [
        "expanded = np.expand_dims(arr, axis=1)\n",
        "print(expanded)"
      ],
      "metadata": {
        "colab": {
          "base_uri": "https://localhost:8080/"
        },
        "id": "tmvQVsk5uGBN",
        "outputId": "83c6c2fa-05a7-4e2f-8b5a-9b00cbaf96db"
      },
      "execution_count": 246,
      "outputs": [
        {
          "output_type": "stream",
          "name": "stdout",
          "text": [
            "[[[[1 2 3]]]\n",
            "\n",
            "\n",
            " [[[4 5 6]]]]\n"
          ]
        }
      ]
    },
    {
      "cell_type": "markdown",
      "source": [
        "* **flip(), fliplr(), flipud():** Flips an array in different directions."
      ],
      "metadata": {
        "id": "vnFzMrk1uHoO"
      }
    },
    {
      "cell_type": "code",
      "source": [
        "arr = np.array([[1, 2], [3, 4]])\n",
        "flipped = np.flip(arr)\n",
        "fliplr = np.fliplr(arr)\n",
        "flipud = np.flipud(arr)\n",
        "print(flipped, fliplr, flipud)"
      ],
      "metadata": {
        "colab": {
          "base_uri": "https://localhost:8080/"
        },
        "id": "XTWwMglbuKpt",
        "outputId": "8c291916-0404-45c9-84bc-e498a6c07fa0"
      },
      "execution_count": 247,
      "outputs": [
        {
          "output_type": "stream",
          "name": "stdout",
          "text": [
            "[[4 3]\n",
            " [2 1]] [[2 1]\n",
            " [4 3]] [[3 4]\n",
            " [1 2]]\n"
          ]
        }
      ]
    },
    {
      "cell_type": "markdown",
      "source": [
        "* **rot90():** Rotates an array by 90 degrees."
      ],
      "metadata": {
        "id": "sAlH019RuMT6"
      }
    },
    {
      "cell_type": "code",
      "source": [
        "rotated = np.rot90(arr)\n",
        "print(rotated)"
      ],
      "metadata": {
        "colab": {
          "base_uri": "https://localhost:8080/"
        },
        "id": "-YhXpqs0uO7g",
        "outputId": "deca9e19-3c3c-484e-939b-143009328174"
      },
      "execution_count": 248,
      "outputs": [
        {
          "output_type": "stream",
          "name": "stdout",
          "text": [
            "[[2 4]\n",
            " [1 3]]\n"
          ]
        }
      ]
    },
    {
      "cell_type": "markdown",
      "source": [
        "# **5. Array Indexing and Slicing**\n",
        "\n",
        "**I. Basic Slicing**\n",
        "\n",
        "Array Name with Indices: array_name[start:stop:step]\n",
        "\n",
        "* `start`: Starting index (inclusive).\n",
        "* `stop`: Ending index (exclusive).\n",
        "* `step`: Step size."
      ],
      "metadata": {
        "id": "DeKCYnCcuSI8"
      }
    },
    {
      "cell_type": "code",
      "source": [
        "arr = np.array([0, 1, 2, 3, 4, 5])\n",
        "sliced = arr[1:5:2]  # Output: [1, 3]\n",
        "print(sliced)"
      ],
      "metadata": {
        "colab": {
          "base_uri": "https://localhost:8080/"
        },
        "id": "IWKZRVHrvwpu",
        "outputId": "fb40e8cf-78fe-4658-df93-77e49884a1ea"
      },
      "execution_count": 249,
      "outputs": [
        {
          "output_type": "stream",
          "name": "stdout",
          "text": [
            "[1 3]\n"
          ]
        }
      ]
    },
    {
      "cell_type": "markdown",
      "source": [
        "**II. Advanced Indexing**\n",
        "* **Integer Indexing:** Using integer arrays to index arrays."
      ],
      "metadata": {
        "id": "FSW9crQIvyj6"
      }
    },
    {
      "cell_type": "code",
      "source": [
        "arr = np.array([[1, 2], [3, 4], [5, 6]])\n",
        "indexed = arr[[0, 1, 2], [0, 1, 0]]  # Output: [1, 4, 5]\n",
        "print(indexed)"
      ],
      "metadata": {
        "colab": {
          "base_uri": "https://localhost:8080/"
        },
        "id": "G2CVdOvfv20g",
        "outputId": "b894d2a2-d21e-44f7-a3af-ac54ed8e2613"
      },
      "execution_count": 250,
      "outputs": [
        {
          "output_type": "stream",
          "name": "stdout",
          "text": [
            "[1 4 5]\n"
          ]
        }
      ]
    },
    {
      "cell_type": "markdown",
      "source": [
        "* **Boolean Indexing:** Using boolean arrays to select elements."
      ],
      "metadata": {
        "id": "VzDrPAUTv4sr"
      }
    },
    {
      "cell_type": "code",
      "source": [
        "arr = np.array([0, 1, 2, 3, 4, 5])\n",
        "bool_idx = arr > 2  # Output: [False, False, False, True, True, True]\n",
        "filtered = arr[bool_idx]  # Output: [3, 4, 5]\n",
        "print(filtered)"
      ],
      "metadata": {
        "colab": {
          "base_uri": "https://localhost:8080/"
        },
        "id": "5uqt5nDWv7n7",
        "outputId": "e7c24ab8-64ce-494d-822e-3a7c2695581d"
      },
      "execution_count": 251,
      "outputs": [
        {
          "output_type": "stream",
          "name": "stdout",
          "text": [
            "[3 4 5]\n"
          ]
        }
      ]
    },
    {
      "cell_type": "markdown",
      "source": [
        "# **5.1 Random Number Generation Functions**\n",
        "\n",
        "**I. Basic Random Number Generation**\n",
        "* **np.random.rand(d0, d1, ..., dn):** Returns an array of random floats in the half-open interval [0.0, 1.0)."
      ],
      "metadata": {
        "id": "1vPgVQSWv9ej"
      }
    },
    {
      "cell_type": "code",
      "source": [
        "random_floats = np.random.rand(2, 3)\n",
        "print(random_floats)"
      ],
      "metadata": {
        "colab": {
          "base_uri": "https://localhost:8080/"
        },
        "id": "ws8tIxNtwD9r",
        "outputId": "655fb98e-9810-4682-ded3-1a949cd8ee21"
      },
      "execution_count": 252,
      "outputs": [
        {
          "output_type": "stream",
          "name": "stdout",
          "text": [
            "[[0.90418342 0.05817252 0.92806135]\n",
            " [0.65939015 0.11337911 0.25340411]]\n"
          ]
        }
      ]
    },
    {
      "cell_type": "markdown",
      "source": [
        "* **np.random.randn(d0, d1, ..., dn):** Returns an array of random samples from a standard normal distribution."
      ],
      "metadata": {
        "id": "b1x4NopJwFls"
      }
    },
    {
      "cell_type": "code",
      "source": [
        "random_normal = np.random.randn(2, 3)\n",
        "print(random_normal)"
      ],
      "metadata": {
        "colab": {
          "base_uri": "https://localhost:8080/"
        },
        "id": "2ppXpBAPwIGQ",
        "outputId": "280969c5-b170-4515-8d8d-ddacad97d399"
      },
      "execution_count": 253,
      "outputs": [
        {
          "output_type": "stream",
          "name": "stdout",
          "text": [
            "[[ 0.99251617 -1.80531887  0.04358461]\n",
            " [ 1.0459847  -0.87208058  0.7035664 ]]\n"
          ]
        }
      ]
    },
    {
      "cell_type": "markdown",
      "source": [
        "* **np.random.randint(low, high=None, size=None, dtype=int):** Returns random integers from low (inclusive) to high (exclusive).\n",
        "\n"
      ],
      "metadata": {
        "id": "T2tqqCy5wJ3k"
      }
    },
    {
      "cell_type": "code",
      "source": [
        "random_integers = np.random.randint(1, 10, size=(2, 3))\n",
        "print(random_integers)"
      ],
      "metadata": {
        "colab": {
          "base_uri": "https://localhost:8080/"
        },
        "id": "VVW7w53WwMtv",
        "outputId": "87a93308-3763-4f56-fdb8-5b9dffc54b83"
      },
      "execution_count": 254,
      "outputs": [
        {
          "output_type": "stream",
          "name": "stdout",
          "text": [
            "[[5 1 1]\n",
            " [6 9 4]]\n"
          ]
        }
      ]
    },
    {
      "cell_type": "markdown",
      "source": [
        "* **np.random.uniform(low=0.0, high=1.0, size=None):** Returns random floats from a uniform distribution over the specified interval."
      ],
      "metadata": {
        "id": "gpu_Yg24wOOG"
      }
    },
    {
      "cell_type": "code",
      "source": [
        "random_uniform = np.random.uniform(1.0, 3.0, size=(2, 3))\n",
        "print(random_uniform)"
      ],
      "metadata": {
        "colab": {
          "base_uri": "https://localhost:8080/"
        },
        "id": "e_eYQ-2ywSHF",
        "outputId": "211a0211-fd7d-477f-cc46-7acaceea723d"
      },
      "execution_count": 255,
      "outputs": [
        {
          "output_type": "stream",
          "name": "stdout",
          "text": [
            "[[2.60156745 1.81024739 1.32059722]\n",
            " [2.52376089 1.43792674 1.98963572]]\n"
          ]
        }
      ]
    },
    {
      "cell_type": "markdown",
      "source": [
        "**II. Permutations**\n",
        "* **np.random.shuffle(x):** Shuffles the elements of an array in place."
      ],
      "metadata": {
        "id": "sY0DU_BwwTvz"
      }
    },
    {
      "cell_type": "code",
      "source": [
        "arr = np.array([1, 2, 3, 4, 5])\n",
        "np.random.shuffle(arr)\n",
        "print(arr)"
      ],
      "metadata": {
        "colab": {
          "base_uri": "https://localhost:8080/"
        },
        "id": "HJ-wW-znwYXJ",
        "outputId": "c1755237-e51f-473d-f0df-1be382ebec8c"
      },
      "execution_count": 256,
      "outputs": [
        {
          "output_type": "stream",
          "name": "stdout",
          "text": [
            "[2 1 3 5 4]\n"
          ]
        }
      ]
    },
    {
      "cell_type": "markdown",
      "source": [
        "* **np.random.permutation(x):** Returns a new array with the elements of x permuted."
      ],
      "metadata": {
        "id": "fN4ulXXjwZ3O"
      }
    },
    {
      "cell_type": "code",
      "source": [
        "arr = np.array([1, 2, 3, 4, 5])\n",
        "permuted = np.random.permutation(arr)\n",
        "print(permuted)"
      ],
      "metadata": {
        "colab": {
          "base_uri": "https://localhost:8080/"
        },
        "id": "Jm49ZcXcwcb1",
        "outputId": "dd06d665-0b05-4710-f9e3-741af13bcb26"
      },
      "execution_count": 257,
      "outputs": [
        {
          "output_type": "stream",
          "name": "stdout",
          "text": [
            "[3 2 1 4 5]\n"
          ]
        }
      ]
    },
    {
      "cell_type": "markdown",
      "source": [
        "**III. Distributions**\n",
        "* **Normal Distribution:** np.random.normal(loc=0.0, scale=1.0, size=None)"
      ],
      "metadata": {
        "id": "0lmnth8EweE6"
      }
    },
    {
      "cell_type": "code",
      "source": [
        "normal_dist = np.random.normal(loc=0.0, scale=1.0, size=(2, 3))\n",
        "print(normal_dist)"
      ],
      "metadata": {
        "colab": {
          "base_uri": "https://localhost:8080/"
        },
        "id": "l3gr8m3pwiA2",
        "outputId": "3c1a7fb2-96c4-4d8e-94e0-10600a1a1a52"
      },
      "execution_count": 258,
      "outputs": [
        {
          "output_type": "stream",
          "name": "stdout",
          "text": [
            "[[ 0.19542302  1.15910964  0.82427986]\n",
            " [-1.2197194   1.19810555 -0.17890181]]\n"
          ]
        }
      ]
    },
    {
      "cell_type": "markdown",
      "source": [
        "* **Log Normal Distribution:** np.random.lognormal(mean=0.0, sigma=1.0, size=None)"
      ],
      "metadata": {
        "id": "GqZ--nV_wjgC"
      }
    },
    {
      "cell_type": "code",
      "source": [
        "lognormal_dist = np.random.lognormal(mean=0.0, sigma=1.0, size=(2, 3))\n",
        "print(lognormal_dist)"
      ],
      "metadata": {
        "colab": {
          "base_uri": "https://localhost:8080/"
        },
        "id": "M41AN7lUwmON",
        "outputId": "21e44670-9b96-49c6-b747-1001920a3248"
      },
      "execution_count": 259,
      "outputs": [
        {
          "output_type": "stream",
          "name": "stdout",
          "text": [
            "[[2.88549564 3.26163263 1.1488909 ]\n",
            " [7.54284927 1.5343703  0.14767958]]\n"
          ]
        }
      ]
    },
    {
      "cell_type": "markdown",
      "source": [
        "* **Exponential Distribution:** np.random.exponential(scale=1.0, size=None)"
      ],
      "metadata": {
        "id": "GXsiF1tGwoRD"
      }
    },
    {
      "cell_type": "code",
      "source": [
        "exponential_dist = np.random.exponential(scale=1.0, size=(2, 3))\n",
        "print(exponential_dist)"
      ],
      "metadata": {
        "colab": {
          "base_uri": "https://localhost:8080/"
        },
        "id": "ItXDdwdvwq81",
        "outputId": "9efcb7d7-704e-47fe-d41f-dd5304b59d7b"
      },
      "execution_count": 260,
      "outputs": [
        {
          "output_type": "stream",
          "name": "stdout",
          "text": [
            "[[0.70799383 1.78394339 1.97334795]\n",
            " [2.37295534 3.40938751 0.59972185]]\n"
          ]
        }
      ]
    },
    {
      "cell_type": "markdown",
      "source": [
        "* **Gamma Distribution:** np.random.gamma(shape, scale=1.0, size=None)"
      ],
      "metadata": {
        "id": "Wl5PFZCQwsp5"
      }
    },
    {
      "cell_type": "code",
      "source": [
        "gamma_dist = np.random.gamma(shape=2.0, scale=1.0, size=(2, 3))\n",
        "print(gamma_dist)"
      ],
      "metadata": {
        "colab": {
          "base_uri": "https://localhost:8080/"
        },
        "id": "L1P_Iomtwve2",
        "outputId": "be3b1cfa-c551-4656-fe2b-c9288a094c35"
      },
      "execution_count": 261,
      "outputs": [
        {
          "output_type": "stream",
          "name": "stdout",
          "text": [
            "[[0.89614104 1.05382678 0.54233943]\n",
            " [2.22727977 1.35057832 3.28960071]]\n"
          ]
        }
      ]
    },
    {
      "cell_type": "markdown",
      "source": [
        "* **Beta Distribution:** np.random.beta(a, b, size=None)"
      ],
      "metadata": {
        "id": "4N8VRGCwww9U"
      }
    },
    {
      "cell_type": "code",
      "source": [
        "beta_dist = np.random.beta(a=0.5, b=0.5, size=(2, 3))\n",
        "print(beta_dist)"
      ],
      "metadata": {
        "colab": {
          "base_uri": "https://localhost:8080/"
        },
        "id": "VB25WZkYwzZO",
        "outputId": "116c2b72-0b12-46aa-ac71-f2a660366531"
      },
      "execution_count": 262,
      "outputs": [
        {
          "output_type": "stream",
          "name": "stdout",
          "text": [
            "[[0.1899272  0.02738553 0.49229866]\n",
            " [0.80091866 0.00364589 0.72668908]]\n"
          ]
        }
      ]
    },
    {
      "cell_type": "markdown",
      "source": [
        "* **Binomial Distribution:** np.random.binomial(n, p, size=None)"
      ],
      "metadata": {
        "id": "ACDW0QWZw0_t"
      }
    },
    {
      "cell_type": "code",
      "source": [
        "binomial_dist = np.random.binomial(n=10, p=0.5, size=(2, 3))\n",
        "print(binomial_dist)"
      ],
      "metadata": {
        "colab": {
          "base_uri": "https://localhost:8080/"
        },
        "id": "lxcj_UXWw3m8",
        "outputId": "67cec1f3-4775-4367-cf02-6a1883f97a3d"
      },
      "execution_count": 263,
      "outputs": [
        {
          "output_type": "stream",
          "name": "stdout",
          "text": [
            "[[4 7 5]\n",
            " [5 5 6]]\n"
          ]
        }
      ]
    },
    {
      "cell_type": "markdown",
      "source": [
        "* **Poisson Distribution:** np.random.poisson(lam=1.0, size=None)"
      ],
      "metadata": {
        "id": "oh8yqkOWw5Kv"
      }
    },
    {
      "cell_type": "code",
      "source": [
        "poisson_dist = np.random.poisson(lam=3.0, size=(2, 3))\n",
        "print(poisson_dist)"
      ],
      "metadata": {
        "colab": {
          "base_uri": "https://localhost:8080/"
        },
        "id": "TsEQU1aaw7on",
        "outputId": "5947db2a-44d6-4f2d-bd45-132e77707f66"
      },
      "execution_count": 264,
      "outputs": [
        {
          "output_type": "stream",
          "name": "stdout",
          "text": [
            "[[2 2 1]\n",
            " [4 4 4]]\n"
          ]
        }
      ]
    },
    {
      "cell_type": "markdown",
      "source": [
        "**IV. Random Seed**\n",
        "* **np.random.seed(seed=None):** Sets the seed for the random number generator."
      ],
      "metadata": {
        "id": "l4xqEDg6w9Ma"
      }
    },
    {
      "cell_type": "code",
      "source": [],
      "metadata": {
        "id": "ZiRJvO6SxCpv"
      },
      "execution_count": 264,
      "outputs": []
    },
    {
      "cell_type": "markdown",
      "source": [
        "# **6. Searching and Sorting Functions**\n",
        "\n",
        "**I. Sorting Functions**\n",
        "* **np.sort(a, axis=-1, kind='quicksort', order=None):** Returns a sorted copy of an array."
      ],
      "metadata": {
        "id": "tHYmOjzLxFpl"
      }
    },
    {
      "cell_type": "code",
      "source": [
        "arr = np.array([[3, 2, 1], [6, 5, 4]])\n",
        "sorted_arr = np.sort(arr, axis=1)\n",
        "print(sorted_arr)"
      ],
      "metadata": {
        "colab": {
          "base_uri": "https://localhost:8080/"
        },
        "id": "5smxavzExLNd",
        "outputId": "64cccc07-a123-466b-f6fb-d33ebeebb56f"
      },
      "execution_count": 265,
      "outputs": [
        {
          "output_type": "stream",
          "name": "stdout",
          "text": [
            "[[1 2 3]\n",
            " [4 5 6]]\n"
          ]
        }
      ]
    },
    {
      "cell_type": "markdown",
      "source": [
        "* **np.argsort(a, axis=-1, kind='quicksort', order=None):** Returns the indices that would sort an array."
      ],
      "metadata": {
        "id": "ZWGQi-ZaxNAz"
      }
    },
    {
      "cell_type": "code",
      "source": [
        "arr = np.array([3, 2, 1])\n",
        "argsorted_indices = np.argsort(arr)\n",
        "print(argsorted_indices)"
      ],
      "metadata": {
        "colab": {
          "base_uri": "https://localhost:8080/"
        },
        "id": "lghJSucXxQCU",
        "outputId": "b93947e8-3a22-4762-d115-a5f8886107a4"
      },
      "execution_count": 266,
      "outputs": [
        {
          "output_type": "stream",
          "name": "stdout",
          "text": [
            "[2 1 0]\n"
          ]
        }
      ]
    },
    {
      "cell_type": "markdown",
      "source": [
        "* **np.lexsort(keys, axis=-1):** Performs an indirect stable sort using a sequence of keys."
      ],
      "metadata": {
        "id": "eWhmYLgXxRym"
      }
    },
    {
      "cell_type": "code",
      "source": [
        "keys = np.array([[1, 0, 3], [0, 2, 2]])\n",
        "lexsorted_indices = np.lexsort(keys)\n",
        "print(lexsorted_indices)"
      ],
      "metadata": {
        "colab": {
          "base_uri": "https://localhost:8080/"
        },
        "id": "EPDLllp9xUUx",
        "outputId": "4e02aa7e-1e7f-4d17-e1b3-8ac7db088378"
      },
      "execution_count": 267,
      "outputs": [
        {
          "output_type": "stream",
          "name": "stdout",
          "text": [
            "[0 1 2]\n"
          ]
        }
      ]
    },
    {
      "cell_type": "markdown",
      "source": [
        "* **a.sort(axis=-1, kind='quicksort', order=None):** Sorts an array in-place."
      ],
      "metadata": {
        "id": "NxuV-IzYxV3v"
      }
    },
    {
      "cell_type": "code",
      "source": [
        "arr = np.array([3, 2, 1])\n",
        "arr.sort()\n",
        "print(arr)"
      ],
      "metadata": {
        "colab": {
          "base_uri": "https://localhost:8080/"
        },
        "id": "hSgGVQuIxYZH",
        "outputId": "e9132246-17aa-4d08-fbcb-c5defd20e317"
      },
      "execution_count": 268,
      "outputs": [
        {
          "output_type": "stream",
          "name": "stdout",
          "text": [
            "[1 2 3]\n"
          ]
        }
      ]
    },
    {
      "cell_type": "markdown",
      "source": [
        "* **np.partition(a, kth, axis=-1, kind='introselect', order=None):** Partitions an array into sorted and unsorted regions."
      ],
      "metadata": {
        "id": "ROevsdn7xaBo"
      }
    },
    {
      "cell_type": "code",
      "source": [
        "arr = np.array([3, 4, 2, 1])\n",
        "partitioned = np.partition(arr, 2)\n",
        "print(partitioned)"
      ],
      "metadata": {
        "colab": {
          "base_uri": "https://localhost:8080/"
        },
        "id": "rV9YcnebxdA1",
        "outputId": "81e69d38-24dd-4cb1-fba1-562ad896ecf0"
      },
      "execution_count": 269,
      "outputs": [
        {
          "output_type": "stream",
          "name": "stdout",
          "text": [
            "[1 2 3 4]\n"
          ]
        }
      ]
    },
    {
      "cell_type": "markdown",
      "source": [
        "* **np.argpartition(a, kth, axis=-1, kind='introselect', order=None):** Returns the indices that would partition an array."
      ],
      "metadata": {
        "id": "x-R42F82xehB"
      }
    },
    {
      "cell_type": "code",
      "source": [
        "arr = np.array([3, 4, 2, 1])\n",
        "argpartitioned = np.argpartition(arr, 2)\n",
        "print(argpartitioned)"
      ],
      "metadata": {
        "colab": {
          "base_uri": "https://localhost:8080/"
        },
        "id": "xLPrwdwHxg_a",
        "outputId": "55ded392-ae84-4725-c830-5ebd595e1f4b"
      },
      "execution_count": 270,
      "outputs": [
        {
          "output_type": "stream",
          "name": "stdout",
          "text": [
            "[3 2 0 1]\n"
          ]
        }
      ]
    },
    {
      "cell_type": "markdown",
      "source": [
        "**II. Searching Functions**\n",
        "* **np.argmax(a, axis=None, out=None):** Returns the indices of the maximum values along an axis."
      ],
      "metadata": {
        "id": "_DNDvBWyxi1v"
      }
    },
    {
      "cell_type": "code",
      "source": [
        "arr = np.array([1, 3, 2])\n",
        "max_index = np.argmax(arr)\n",
        "print(max_index)"
      ],
      "metadata": {
        "colab": {
          "base_uri": "https://localhost:8080/"
        },
        "id": "PWPrhphZxm4M",
        "outputId": "82116c52-5dee-4996-e87d-d45045e1d5a0"
      },
      "execution_count": 271,
      "outputs": [
        {
          "output_type": "stream",
          "name": "stdout",
          "text": [
            "1\n"
          ]
        }
      ]
    },
    {
      "cell_type": "markdown",
      "source": [
        "* **np.argmin(a, axis=None, out=None):** Returns the indices of the minimum values along an axis."
      ],
      "metadata": {
        "id": "-s8XS-hSxoYr"
      }
    },
    {
      "cell_type": "code",
      "source": [
        "arr = np.array([1, 3, 2])\n",
        "min_index = np.argmin(arr)\n",
        "print(min_index)"
      ],
      "metadata": {
        "colab": {
          "base_uri": "https://localhost:8080/"
        },
        "id": "-t5tFvQHxrK0",
        "outputId": "f7685f63-3a2a-42c2-9f92-b3e543923423"
      },
      "execution_count": 272,
      "outputs": [
        {
          "output_type": "stream",
          "name": "stdout",
          "text": [
            "0\n"
          ]
        }
      ]
    },
    {
      "cell_type": "markdown",
      "source": [
        "* **np.nanargmax(a, axis=None):** Returns the indices of the maximum values ignoring NaNs."
      ],
      "metadata": {
        "id": "dMOD3emdxslN"
      }
    },
    {
      "cell_type": "code",
      "source": [
        "arr = np.array([np.nan, 2, 3, np.nan])\n",
        "max_index = np.nanargmax(arr)\n",
        "print(max_index)"
      ],
      "metadata": {
        "colab": {
          "base_uri": "https://localhost:8080/"
        },
        "id": "2IXPybVUxvbQ",
        "outputId": "94701a62-d793-4c4b-9a33-aeb511c5d4c1"
      },
      "execution_count": 273,
      "outputs": [
        {
          "output_type": "stream",
          "name": "stdout",
          "text": [
            "2\n"
          ]
        }
      ]
    },
    {
      "cell_type": "markdown",
      "source": [
        "* **np.nanargmin(a, axis=None):** Returns the indices of the minimum values ignoring NaNs"
      ],
      "metadata": {
        "id": "DPaPEyCnxx4V"
      }
    },
    {
      "cell_type": "code",
      "source": [
        "arr = np.array([np.nan, 2, 1, np.nan])\n",
        "min_index = np.nanargmin(arr)\n",
        "print(min_index)"
      ],
      "metadata": {
        "colab": {
          "base_uri": "https://localhost:8080/"
        },
        "id": "7lDPdBCXxzUa",
        "outputId": "b2aed722-8a35-476b-ee76-f983a0f149c6"
      },
      "execution_count": 274,
      "outputs": [
        {
          "output_type": "stream",
          "name": "stdout",
          "text": [
            "2\n"
          ]
        }
      ]
    },
    {
      "cell_type": "markdown",
      "source": [
        "* **np.where(condition):** Returns elements of an array that satisfy a given condition."
      ],
      "metadata": {
        "id": "Kds6ZZ-nx5o4"
      }
    },
    {
      "cell_type": "code",
      "source": [
        "arr = np.array([1, 2, 3, 4, 5])\n",
        "condition = arr > 3\n",
        "filtered_indices = np.where(condition)\n",
        "print(filtered_indices)"
      ],
      "metadata": {
        "colab": {
          "base_uri": "https://localhost:8080/"
        },
        "id": "sjx8ySTGx68f",
        "outputId": "6eb49314-fc2d-4349-b8f2-f3df4dbcb842"
      },
      "execution_count": 275,
      "outputs": [
        {
          "output_type": "stream",
          "name": "stdout",
          "text": [
            "(array([3, 4]),)\n"
          ]
        }
      ]
    },
    {
      "cell_type": "markdown",
      "source": [
        "* **np.searchsorted(a, v, side='left', sorter=None):** Finds indices where to insert new elements to maintain sorted order."
      ],
      "metadata": {
        "id": "sJg2fEklx8bs"
      }
    },
    {
      "cell_type": "code",
      "source": [
        "arr = np.array([1, 2, 4, 5])\n",
        "indices = np.searchsorted(arr, [3])\n",
        "print(indices)"
      ],
      "metadata": {
        "colab": {
          "base_uri": "https://localhost:8080/"
        },
        "id": "0xeJxfgPx_YI",
        "outputId": "067ddf42-bef4-4a6d-f8c4-47f582de8973"
      },
      "execution_count": 276,
      "outputs": [
        {
          "output_type": "stream",
          "name": "stdout",
          "text": [
            "[2]\n"
          ]
        }
      ]
    },
    {
      "cell_type": "markdown",
      "source": [
        "# **7. Fourier Transform Functions**\n",
        "\n",
        "**I. Standard FFTs**\n",
        "* **np.fft.fft(a, n=None, axis=-1, norm=None):** Computes the one-dimensional discrete Fourier Transform."
      ],
      "metadata": {
        "id": "NbI_kt39OV2k"
      }
    },
    {
      "cell_type": "code",
      "source": [
        "import numpy as np\n",
        "a = np.array([1, 2, 3, 4])\n",
        "fft = np.fft.fft(a)\n",
        "print(fft)  # Output: [10.+0.j -2.+2.j -2.+0.j -2.-2.j]"
      ],
      "metadata": {
        "colab": {
          "base_uri": "https://localhost:8080/"
        },
        "id": "7dA_FRJ0Oako",
        "outputId": "70666823-aff9-46a4-dfbc-44839069d09f"
      },
      "execution_count": 277,
      "outputs": [
        {
          "output_type": "stream",
          "name": "stdout",
          "text": [
            "[10.+0.j -2.+2.j -2.+0.j -2.-2.j]\n"
          ]
        }
      ]
    },
    {
      "cell_type": "markdown",
      "source": [
        "* **np.fft.ifft(a, n=None, axis=-1, norm=None):** Computes the one-dimensional inverse discrete Fourier Transform."
      ],
      "metadata": {
        "id": "EyGtnkrfOirq"
      }
    },
    {
      "cell_type": "code",
      "source": [
        "ifft = np.fft.ifft(fft)\n",
        "print(ifft)  # Output: [1.+0.j 2.+0.j 3.+0.j 4.+0.j]"
      ],
      "metadata": {
        "colab": {
          "base_uri": "https://localhost:8080/"
        },
        "id": "MoigqOuJOlKv",
        "outputId": "d7893dc8-6ed0-4af8-b664-2f07da38d72f"
      },
      "execution_count": 278,
      "outputs": [
        {
          "output_type": "stream",
          "name": "stdout",
          "text": [
            "[1.+0.j 2.+0.j 3.+0.j 4.+0.j]\n"
          ]
        }
      ]
    },
    {
      "cell_type": "markdown",
      "source": [
        "* **np.fft.fft2(a, s=None, axes=(-2, -1), norm=None):** Computes the two-dimensional discrete Fourier Transform."
      ],
      "metadata": {
        "id": "lm_Jwn8lOrCU"
      }
    },
    {
      "cell_type": "code",
      "source": [
        "a = np.array([[1, 2], [3, 4]])\n",
        "fft2 = np.fft.fft2(a)\n",
        "print(fft2)  # Output: [[10.+0.j -2.+0.j] [-4.+0.j  0.+0.j]]\n"
      ],
      "metadata": {
        "colab": {
          "base_uri": "https://localhost:8080/"
        },
        "id": "gL_3A6TgOncy",
        "outputId": "cabad30b-c3b9-4582-ff47-e408c4190a33"
      },
      "execution_count": 279,
      "outputs": [
        {
          "output_type": "stream",
          "name": "stdout",
          "text": [
            "[[10.+0.j -2.+0.j]\n",
            " [-4.+0.j  0.+0.j]]\n"
          ]
        }
      ]
    },
    {
      "cell_type": "markdown",
      "source": [
        "* **np.fft.ifft2(a, s=None, axes=(-2, -1), norm=None):** Computes the two-dimensional inverse discrete Fourier Transform."
      ],
      "metadata": {
        "id": "FqXDVtWmOxvb"
      }
    },
    {
      "cell_type": "code",
      "source": [
        "ifft2 = np.fft.ifft2(fft2)\n",
        "print(ifft2)  # Output: [[1.+0.j 2.+0.j] [3.+0.j 4.+0.j]]"
      ],
      "metadata": {
        "colab": {
          "base_uri": "https://localhost:8080/"
        },
        "id": "Hzv_8xrWOvgF",
        "outputId": "e62ae896-1b8b-4f12-f123-838f6a748ed0"
      },
      "execution_count": 280,
      "outputs": [
        {
          "output_type": "stream",
          "name": "stdout",
          "text": [
            "[[1.+0.j 2.+0.j]\n",
            " [3.+0.j 4.+0.j]]\n"
          ]
        }
      ]
    },
    {
      "cell_type": "markdown",
      "source": [
        "* **np.fft.fftn(a, s=None, axes=None, norm=None):** Computes the N-dimensional discrete Fourier Transform."
      ],
      "metadata": {
        "id": "_Ex6LIVUO2X_"
      }
    },
    {
      "cell_type": "code",
      "source": [
        "a = np.array([[1, 2], [3, 4]])\n",
        "fftn = np.fft.fftn(a)\n",
        "print(fftn)  # Output: [[10.+0.j -2.+0.j] [-4.+0.j  0.+0.j]]"
      ],
      "metadata": {
        "colab": {
          "base_uri": "https://localhost:8080/"
        },
        "id": "HGRWeqDFO7DV",
        "outputId": "c77b3566-c0e6-4427-82a1-d86ac7d69330"
      },
      "execution_count": 281,
      "outputs": [
        {
          "output_type": "stream",
          "name": "stdout",
          "text": [
            "[[10.+0.j -2.+0.j]\n",
            " [-4.+0.j  0.+0.j]]\n"
          ]
        }
      ]
    },
    {
      "cell_type": "markdown",
      "source": [
        "* **np.fft.ifftn(a, s=None, axes=None, norm=None):** Computes the N-dimensional inverse discrete Fourier Transform.\n",
        "\n"
      ],
      "metadata": {
        "id": "EsjNgGzeO8il"
      }
    },
    {
      "cell_type": "code",
      "source": [
        "ifftn = np.fft.ifftn(fftn)\n",
        "print(ifftn)  # Output: [[1.+0.j 2.+0.j] [3.+0.j 4.+0.j]]"
      ],
      "metadata": {
        "colab": {
          "base_uri": "https://localhost:8080/"
        },
        "id": "ppMKRLfpPGPm",
        "outputId": "b563574e-b88a-419f-999b-f0179fc53f82"
      },
      "execution_count": 282,
      "outputs": [
        {
          "output_type": "stream",
          "name": "stdout",
          "text": [
            "[[1.+0.j 2.+0.j]\n",
            " [3.+0.j 4.+0.j]]\n"
          ]
        }
      ]
    },
    {
      "cell_type": "markdown",
      "source": [
        "**II. Real-Valued FFTs**\n",
        "* **np.fft.rfft(a, n=None, axis=-1, norm=None):** Computes the one-dimensional discrete Fourier Transform for real input."
      ],
      "metadata": {
        "id": "QkaVlZf0PIUe"
      }
    },
    {
      "cell_type": "code",
      "source": [
        "a = np.array([1, 2, 3, 4])\n",
        "rfft = np.fft.rfft(a)\n",
        "print(rfft)  # Output: [10.+0.j -2.+2.j]"
      ],
      "metadata": {
        "colab": {
          "base_uri": "https://localhost:8080/"
        },
        "id": "XahUHMHiPMry",
        "outputId": "53816aa6-1c72-4ef9-abb2-fa481e2dcab7"
      },
      "execution_count": 283,
      "outputs": [
        {
          "output_type": "stream",
          "name": "stdout",
          "text": [
            "[10.+0.j -2.+2.j -2.+0.j]\n"
          ]
        }
      ]
    },
    {
      "cell_type": "markdown",
      "source": [
        "* **np.fft.irfft(a, n=None, axis=-1, norm=None):** Computes the inverse of the one-dimensional discrete Fourier Transform for real output."
      ],
      "metadata": {
        "id": "Rjg6TmnEPQav"
      }
    },
    {
      "cell_type": "code",
      "source": [
        "irfft = np.fft.irfft(rfft)\n",
        "print(irfft)  # Output: [1. 2. 3. 4.]"
      ],
      "metadata": {
        "colab": {
          "base_uri": "https://localhost:8080/"
        },
        "id": "2afx6AwBPSCG",
        "outputId": "e74a2826-d2db-48f4-e8da-b398a0b7ae60"
      },
      "execution_count": 284,
      "outputs": [
        {
          "output_type": "stream",
          "name": "stdout",
          "text": [
            "[1. 2. 3. 4.]\n"
          ]
        }
      ]
    },
    {
      "cell_type": "markdown",
      "source": [
        "* **np.fft.rfft2(a, s=None, axes=(-2, -1), norm=None):** Computes the two-dimensional discrete Fourier Transform for real input."
      ],
      "metadata": {
        "id": "A8Ubd7z6PVwl"
      }
    },
    {
      "cell_type": "code",
      "source": [
        "a = np.array([[1, 2], [3, 4]])\n",
        "rfft2 = np.fft.rfft2(a)\n",
        "print(rfft2)  # Output: [[10.+0.j -2.+0.j] [-4.+0.j  0.+0.j]]\n"
      ],
      "metadata": {
        "colab": {
          "base_uri": "https://localhost:8080/"
        },
        "id": "WWhsJY9wPZzA",
        "outputId": "d800bbc0-c397-40d6-9220-ebef2038922c"
      },
      "execution_count": 285,
      "outputs": [
        {
          "output_type": "stream",
          "name": "stdout",
          "text": [
            "[[10.+0.j -2.+0.j]\n",
            " [-4.+0.j  0.+0.j]]\n"
          ]
        }
      ]
    },
    {
      "cell_type": "markdown",
      "source": [
        "* **np.fft.rfft2(a, s=None, axes=(-2, -1), norm=None):** Computes the two-dimensional discrete Fourier Transform for real input."
      ],
      "metadata": {
        "id": "ovLZUnEnPb3O"
      }
    },
    {
      "cell_type": "code",
      "source": [
        "irfft2 = np.fft.irfft2(rfft2)\n",
        "print(irfft2)  # Output: [[1. 2.] [3. 4.]]"
      ],
      "metadata": {
        "colab": {
          "base_uri": "https://localhost:8080/"
        },
        "id": "zA_0Nq5tPgl-",
        "outputId": "c93a74b3-d782-45c1-ef99-1e6bd1681e79"
      },
      "execution_count": 286,
      "outputs": [
        {
          "output_type": "stream",
          "name": "stdout",
          "text": [
            "[[1. 2.]\n",
            " [3. 4.]]\n"
          ]
        }
      ]
    },
    {
      "cell_type": "markdown",
      "source": [
        "* **np.fft.rfftn(a, s=None, axes=None, norm=None):** Computes the N-dimensional discrete Fourier Transform for real input."
      ],
      "metadata": {
        "id": "whxmvaKePqam"
      }
    },
    {
      "cell_type": "code",
      "source": [
        "a = np.array([[1, 2], [3, 4]])\n",
        "rfftn = np.fft.rfftn(a)\n",
        "print(rfftn)  # Output: [[10.+0.j -2.+0.j] [-4.+0.j  0.+0.j]]"
      ],
      "metadata": {
        "colab": {
          "base_uri": "https://localhost:8080/"
        },
        "id": "-yFx0m2KPr51",
        "outputId": "9661fdf0-d0b2-431d-8ac5-51ab0ae86c7a"
      },
      "execution_count": 287,
      "outputs": [
        {
          "output_type": "stream",
          "name": "stdout",
          "text": [
            "[[10.+0.j -2.+0.j]\n",
            " [-4.+0.j  0.+0.j]]\n"
          ]
        }
      ]
    },
    {
      "cell_type": "markdown",
      "source": [
        "* **np.fft.irfftn(a, s=None, axes=None, norm=None):** Computes the inverse of the N-dimensional discrete Fourier Transform for real output."
      ],
      "metadata": {
        "id": "GQaehRjQPtpK"
      }
    },
    {
      "cell_type": "code",
      "source": [
        "irfftn = np.fft.irfftn(rfftn)\n",
        "print(irfftn)  # Output: [[1. 2.] [3. 4.]]"
      ],
      "metadata": {
        "colab": {
          "base_uri": "https://localhost:8080/"
        },
        "id": "1kKyF_waPweL",
        "outputId": "8a2a1f9b-07d4-4adf-e22e-dde56c8bd01e"
      },
      "execution_count": 288,
      "outputs": [
        {
          "output_type": "stream",
          "name": "stdout",
          "text": [
            "[[1. 2.]\n",
            " [3. 4.]]\n"
          ]
        }
      ]
    },
    {
      "cell_type": "markdown",
      "source": [
        "**III. Other Useful Functions**\n",
        "* **np.fft.fftfreq(n, d=1.0):** Returns the Discrete Fourier Transform sample frequencies."
      ],
      "metadata": {
        "id": "ZmZyUV8OPyQ_"
      }
    },
    {
      "cell_type": "code",
      "source": [
        "n = 4\n",
        "freqs = np.fft.fftfreq(n)\n",
        "print(freqs)  # Output: [ 0.    0.25 -0.5  -0.25]"
      ],
      "metadata": {
        "colab": {
          "base_uri": "https://localhost:8080/"
        },
        "id": "Auiav3nAP3Kg",
        "outputId": "4dd06c1f-9d54-45c1-9eb7-3018b3c216de"
      },
      "execution_count": 289,
      "outputs": [
        {
          "output_type": "stream",
          "name": "stdout",
          "text": [
            "[ 0.    0.25 -0.5  -0.25]\n"
          ]
        }
      ]
    },
    {
      "cell_type": "markdown",
      "source": [
        "* **np.fft.rfftfreq(n, d=1.0):** Returns the Discrete Fourier Transform sample frequencies for real input."
      ],
      "metadata": {
        "id": "eSareywLP8V8"
      }
    },
    {
      "cell_type": "code",
      "source": [
        "n = 4\n",
        "rfftfreqs = np.fft.rfftfreq(n)\n",
        "print(rfftfreqs)  # Output: [0.  0.25 0.5 ]"
      ],
      "metadata": {
        "colab": {
          "base_uri": "https://localhost:8080/"
        },
        "id": "Vk-amUA_P5WA",
        "outputId": "9a97dc53-1438-4796-91f4-807c0b4abec0"
      },
      "execution_count": 290,
      "outputs": [
        {
          "output_type": "stream",
          "name": "stdout",
          "text": [
            "[0.   0.25 0.5 ]\n"
          ]
        }
      ]
    },
    {
      "cell_type": "markdown",
      "source": [
        "* **np.fft.fftshift(x, axes=None):** Shifts the zero-frequency component to the center of the spectrum."
      ],
      "metadata": {
        "id": "frgIXKkZP_pZ"
      }
    },
    {
      "cell_type": "code",
      "source": [
        "x = np.array([1, 2, 3, 4])\n",
        "shifted = np.fft.fftshift(x)\n",
        "print(shifted)  # Output: [3 4 1 2]"
      ],
      "metadata": {
        "colab": {
          "base_uri": "https://localhost:8080/"
        },
        "id": "qW53D9l9QCf0",
        "outputId": "413b3d9c-962c-4b79-8eb0-02c0519c92c3"
      },
      "execution_count": 291,
      "outputs": [
        {
          "output_type": "stream",
          "name": "stdout",
          "text": [
            "[3 4 1 2]\n"
          ]
        }
      ]
    },
    {
      "cell_type": "markdown",
      "source": [
        "* **np.fft.ifftshift(x, axes=None):** The inverse of fftshift."
      ],
      "metadata": {
        "id": "gpnaNDBWQEIL"
      }
    },
    {
      "cell_type": "code",
      "source": [
        "x = np.array([3, 4, 1, 2])\n",
        "unshifted = np.fft.ifftshift(x)\n",
        "print(unshifted)  # Output: [1 2 3 4]"
      ],
      "metadata": {
        "colab": {
          "base_uri": "https://localhost:8080/"
        },
        "id": "t3q4wNBtQH22",
        "outputId": "81bfc8c0-0edf-4c52-c460-c24917859535"
      },
      "execution_count": 292,
      "outputs": [
        {
          "output_type": "stream",
          "name": "stdout",
          "text": [
            "[1 2 3 4]\n"
          ]
        }
      ]
    },
    {
      "cell_type": "markdown",
      "source": [
        "# **8. NumPy Functions for Data Type Handling**\n",
        "\n",
        "**I. Data Type Inspection**\n",
        "* **np.dtype(obj):** Creates a data type object."
      ],
      "metadata": {
        "id": "g-E0JzM9QN47"
      }
    },
    {
      "cell_type": "code",
      "source": [
        "dt = np.dtype('int32')\n",
        "print(dt)  # Output: int32"
      ],
      "metadata": {
        "colab": {
          "base_uri": "https://localhost:8080/"
        },
        "id": "DgALOZxhQR7V",
        "outputId": "840dec4d-c578-4508-f2f6-45e4c30bf847"
      },
      "execution_count": 293,
      "outputs": [
        {
          "output_type": "stream",
          "name": "stdout",
          "text": [
            "int32\n"
          ]
        }
      ]
    },
    {
      "cell_type": "markdown",
      "source": [
        "* **ndarray.dtype:** Returns the data type of an array."
      ],
      "metadata": {
        "id": "DYADmEE3QVNk"
      }
    },
    {
      "cell_type": "code",
      "source": [
        "arr = np.array([1, 2, 3])\n",
        "dtype = arr.dtype\n",
        "print(dtype)  # Output: int64"
      ],
      "metadata": {
        "colab": {
          "base_uri": "https://localhost:8080/"
        },
        "id": "Cmyp4zmEQX87",
        "outputId": "97d438f4-1bdc-49cf-d537-e0e9c124754d"
      },
      "execution_count": 294,
      "outputs": [
        {
          "output_type": "stream",
          "name": "stdout",
          "text": [
            "int64\n"
          ]
        }
      ]
    },
    {
      "cell_type": "markdown",
      "source": [
        "* **np.issubdtype(a, b):** Checks if one data type is a subtype of another."
      ],
      "metadata": {
        "id": "y1GhoNU8QZmd"
      }
    },
    {
      "cell_type": "code",
      "source": [
        "is_subtype = np.issubdtype(np.int32, np.integer)\n",
        "print(is_subtype)  # Output: True"
      ],
      "metadata": {
        "colab": {
          "base_uri": "https://localhost:8080/"
        },
        "id": "QZeAJGbRQcVR",
        "outputId": "fdd59e68-a0a3-4ba8-f121-65ef70fe6371"
      },
      "execution_count": 295,
      "outputs": [
        {
          "output_type": "stream",
          "name": "stdout",
          "text": [
            "True\n"
          ]
        }
      ]
    },
    {
      "cell_type": "markdown",
      "source": [
        "**II. Data Type Conversion**\n",
        "* **ndarray.astype(dtype):** Casts an array to a specified data type."
      ],
      "metadata": {
        "id": "Kbo0dJUOQdyq"
      }
    },
    {
      "cell_type": "code",
      "source": [
        "arr = np.array([1.1, 2.2, 3.3])\n",
        "int_arr = arr.astype(int)\n",
        "print(int_arr)  # Output: [1 2 3]"
      ],
      "metadata": {
        "colab": {
          "base_uri": "https://localhost:8080/"
        },
        "id": "O660wOIOQheV",
        "outputId": "b8d9c2fe-247a-4b2c-9054-5002f203aac9"
      },
      "execution_count": 296,
      "outputs": [
        {
          "output_type": "stream",
          "name": "stdout",
          "text": [
            "[1 2 3]\n"
          ]
        }
      ]
    },
    {
      "cell_type": "markdown",
      "source": [
        "* **np.array(obj, dtype=None):** Creates an array with a specified data type."
      ],
      "metadata": {
        "id": "NXX3M3VAQjKo"
      }
    },
    {
      "cell_type": "code",
      "source": [
        "arr = np.array([1, 2, 3], dtype=float)\n",
        "print(arr)  # Output: [1. 2. 3.]"
      ],
      "metadata": {
        "colab": {
          "base_uri": "https://localhost:8080/"
        },
        "id": "2aDWnoXxQmRr",
        "outputId": "c6efc3c0-1bb3-4964-e719-63a5a62f4891"
      },
      "execution_count": 297,
      "outputs": [
        {
          "output_type": "stream",
          "name": "stdout",
          "text": [
            "[1. 2. 3.]\n"
          ]
        }
      ]
    },
    {
      "cell_type": "markdown",
      "source": [
        "* **np.castdtype:** Casts an array to a specified data type."
      ],
      "metadata": {
        "id": "xdE5uTBfQo94"
      }
    },
    {
      "cell_type": "code",
      "source": [
        "arr = np.array([1, 2, 3])\n",
        "float_arr = np.cast[float](arr)\n",
        "print(float_arr)  # Output: [1. 2. 3.]"
      ],
      "metadata": {
        "colab": {
          "base_uri": "https://localhost:8080/"
        },
        "id": "vkAG0FvIQq1X",
        "outputId": "8ee4944c-01d3-4781-b121-47e32ed570ee"
      },
      "execution_count": 298,
      "outputs": [
        {
          "output_type": "stream",
          "name": "stdout",
          "text": [
            "[1. 2. 3.]\n"
          ]
        }
      ]
    },
    {
      "cell_type": "markdown",
      "source": [
        "**III. Data Type Information**\n",
        "* **np.sctypeDict:** Dictionary mapping dtype chars to scalar types."
      ],
      "metadata": {
        "id": "SIGoNn5wQsP7"
      }
    },
    {
      "cell_type": "code",
      "source": [
        "print(np.sctypeDict)"
      ],
      "metadata": {
        "colab": {
          "base_uri": "https://localhost:8080/"
        },
        "id": "dpwHv-W7Qvw8",
        "outputId": "f61a0807-cbd8-4c9a-ee84-d77d2c80ed5a"
      },
      "execution_count": 299,
      "outputs": [
        {
          "output_type": "stream",
          "name": "stdout",
          "text": [
            "{'?': <class 'numpy.bool_'>, 0: <class 'numpy.bool_'>, 'byte': <class 'numpy.int8'>, 'b': <class 'numpy.int8'>, 1: <class 'numpy.int8'>, 'ubyte': <class 'numpy.uint8'>, 'B': <class 'numpy.uint8'>, 2: <class 'numpy.uint8'>, 'short': <class 'numpy.int16'>, 'h': <class 'numpy.int16'>, 3: <class 'numpy.int16'>, 'ushort': <class 'numpy.uint16'>, 'H': <class 'numpy.uint16'>, 4: <class 'numpy.uint16'>, 'i': <class 'numpy.int32'>, 5: <class 'numpy.int32'>, 'uint': <class 'numpy.uint64'>, 'I': <class 'numpy.uint32'>, 6: <class 'numpy.uint32'>, 'intp': <class 'numpy.int64'>, 'p': <class 'numpy.int64'>, 7: <class 'numpy.int64'>, 'uintp': <class 'numpy.uint64'>, 'P': <class 'numpy.uint64'>, 8: <class 'numpy.uint64'>, 'long': <class 'numpy.int64'>, 'l': <class 'numpy.int64'>, 'ulong': <class 'numpy.uint64'>, 'L': <class 'numpy.uint64'>, 'longlong': <class 'numpy.longlong'>, 'q': <class 'numpy.longlong'>, 9: <class 'numpy.longlong'>, 'ulonglong': <class 'numpy.ulonglong'>, 'Q': <class 'numpy.ulonglong'>, 10: <class 'numpy.ulonglong'>, 'half': <class 'numpy.float16'>, 'e': <class 'numpy.float16'>, 23: <class 'numpy.float16'>, 'f': <class 'numpy.float32'>, 11: <class 'numpy.float32'>, 'double': <class 'numpy.float64'>, 'd': <class 'numpy.float64'>, 12: <class 'numpy.float64'>, 'longdouble': <class 'numpy.longdouble'>, 'g': <class 'numpy.longdouble'>, 13: <class 'numpy.longdouble'>, 'cfloat': <class 'numpy.complex128'>, 'F': <class 'numpy.complex64'>, 14: <class 'numpy.complex64'>, 'cdouble': <class 'numpy.complex128'>, 'D': <class 'numpy.complex128'>, 15: <class 'numpy.complex128'>, 'clongdouble': <class 'numpy.clongdouble'>, 'G': <class 'numpy.clongdouble'>, 16: <class 'numpy.clongdouble'>, 'O': <class 'numpy.object_'>, 17: <class 'numpy.object_'>, 'S': <class 'numpy.bytes_'>, 18: <class 'numpy.bytes_'>, 'unicode': <class 'numpy.str_'>, 'U': <class 'numpy.str_'>, 19: <class 'numpy.str_'>, 'void': <class 'numpy.void'>, 'V': <class 'numpy.void'>, 20: <class 'numpy.void'>, 'M': <class 'numpy.datetime64'>, 21: <class 'numpy.datetime64'>, 'm': <class 'numpy.timedelta64'>, 22: <class 'numpy.timedelta64'>, 'b1': <class 'numpy.bool_'>, 'bool8': <class 'numpy.bool_'>, 'i8': <class 'numpy.int64'>, 'int64': <class 'numpy.int64'>, 'u8': <class 'numpy.uint64'>, 'uint64': <class 'numpy.uint64'>, 'f2': <class 'numpy.float16'>, 'float16': <class 'numpy.float16'>, 'f4': <class 'numpy.float32'>, 'float32': <class 'numpy.float32'>, 'f8': <class 'numpy.float64'>, 'float64': <class 'numpy.float64'>, 'f16': <class 'numpy.longdouble'>, 'float128': <class 'numpy.longdouble'>, 'c8': <class 'numpy.complex64'>, 'complex64': <class 'numpy.complex64'>, 'c16': <class 'numpy.complex128'>, 'complex128': <class 'numpy.complex128'>, 'c32': <class 'numpy.clongdouble'>, 'complex256': <class 'numpy.clongdouble'>, 'object0': <class 'numpy.object_'>, 'bytes0': <class 'numpy.bytes_'>, 'str0': <class 'numpy.str_'>, 'void0': <class 'numpy.void'>, 'M8': <class 'numpy.datetime64'>, 'datetime64': <class 'numpy.datetime64'>, 'm8': <class 'numpy.timedelta64'>, 'timedelta64': <class 'numpy.timedelta64'>, 'int32': <class 'numpy.int32'>, 'i4': <class 'numpy.int32'>, 'uint32': <class 'numpy.uint32'>, 'u4': <class 'numpy.uint32'>, 'int16': <class 'numpy.int16'>, 'i2': <class 'numpy.int16'>, 'uint16': <class 'numpy.uint16'>, 'u2': <class 'numpy.uint16'>, 'int8': <class 'numpy.int8'>, 'i1': <class 'numpy.int8'>, 'uint8': <class 'numpy.uint8'>, 'u1': <class 'numpy.uint8'>, 'complex_': <class 'numpy.complex128'>, 'single': <class 'numpy.float32'>, 'csingle': <class 'numpy.complex64'>, 'singlecomplex': <class 'numpy.complex64'>, 'float_': <class 'numpy.float64'>, 'intc': <class 'numpy.int32'>, 'uintc': <class 'numpy.uint32'>, 'int_': <class 'numpy.int64'>, 'longfloat': <class 'numpy.longdouble'>, 'clongfloat': <class 'numpy.clongdouble'>, 'longcomplex': <class 'numpy.clongdouble'>, 'bool_': <class 'numpy.bool_'>, 'bytes_': <class 'numpy.bytes_'>, 'string_': <class 'numpy.bytes_'>, 'str_': <class 'numpy.str_'>, 'unicode_': <class 'numpy.str_'>, 'object_': <class 'numpy.object_'>, 'int': <class 'numpy.int64'>, 'float': <class 'numpy.float64'>, 'complex': <class 'numpy.complex128'>, 'bool': <class 'numpy.bool_'>, 'object': <class 'numpy.object_'>, 'str': <class 'numpy.str_'>, 'bytes': <class 'numpy.bytes_'>, 'a': <class 'numpy.bytes_'>, 'int0': <class 'numpy.int64'>, 'uint0': <class 'numpy.uint64'>}\n"
          ]
        }
      ]
    },
    {
      "cell_type": "markdown",
      "source": [
        "* **np.typeDict:** Dictionary mapping dtype chars to type names."
      ],
      "metadata": {
        "id": "9zsvU4n6QxVY"
      }
    },
    {
      "cell_type": "code",
      "source": [
        "\n",
        "import numpy as np\n",
        "\n",
        "# print(np.typeDict)"
      ],
      "metadata": {
        "id": "4-9kYstjQ0BN"
      },
      "execution_count": 300,
      "outputs": []
    },
    {
      "cell_type": "markdown",
      "source": [
        "* **np.find_common_type(arrays):** Finds a common data type for multiple arrays."
      ],
      "metadata": {
        "id": "D2ydrYymQ1db"
      }
    },
    {
      "cell_type": "code",
      "source": [
        "import numpy as np\n",
        "\n",
        "common_type = np.find_common_type([np.int32, np.float64], scalar_types=[]) # Pass dtype objects instead of arrays\n",
        "print(common_type)  # Output: float64"
      ],
      "metadata": {
        "colab": {
          "base_uri": "https://localhost:8080/"
        },
        "id": "FpBufu0DQ4L2",
        "outputId": "c1b333df-e0e6-4d6f-c26e-e2bf3ecf0f06"
      },
      "execution_count": 301,
      "outputs": [
        {
          "output_type": "stream",
          "name": "stdout",
          "text": [
            "float64\n"
          ]
        },
        {
          "output_type": "stream",
          "name": "stderr",
          "text": [
            "<ipython-input-301-54ae9ca2be35>:3: DeprecationWarning: np.find_common_type is deprecated.  Please use `np.result_type` or `np.promote_types`.\n",
            "See https://numpy.org/devdocs/release/1.25.0-notes.html and the docs for more information.  (Deprecated NumPy 1.25)\n",
            "  common_type = np.find_common_type([np.int32, np.float64], scalar_types=[]) # Pass dtype objects instead of arrays\n"
          ]
        }
      ]
    },
    {
      "cell_type": "markdown",
      "source": [
        "# **9. NumPy Functions for Padding and Trimming**\n",
        "\n",
        "**I. Padding**\n",
        "\n",
        "**np.pad(array, pad_width, mode='constant', kwargs):** Adds padding to the edges of an array.\n",
        "\n",
        "* `pad_width:` Specifies the number of values to pad on each side of the array.\n",
        "* `mode:` Determines the padding method (e.g., 'constant', 'edge', 'reflect', 'symmetric').\n",
        "* `kwargs:` Additional arguments for specific padding modes."
      ],
      "metadata": {
        "id": "p2s62jb8Rvvy"
      }
    },
    {
      "cell_type": "code",
      "source": [
        "arr = np.array([[1, 2], [3, 4]])\n",
        "padded = np.pad(arr, pad_width=1, mode='constant', constant_values=0)\n",
        "print(padded)\n",
        "# Output:\n",
        "# [[0 0 0 0]\n",
        "#  [0 1 2 0]\n",
        "#  [0 3 4 0]\n",
        "#  [0 0 0 0]]"
      ],
      "metadata": {
        "colab": {
          "base_uri": "https://localhost:8080/"
        },
        "id": "aokb8GsxSGzF",
        "outputId": "e433000d-7a72-47c8-aa2f-6989cf7b6790"
      },
      "execution_count": 302,
      "outputs": [
        {
          "output_type": "stream",
          "name": "stdout",
          "text": [
            "[[0 0 0 0]\n",
            " [0 1 2 0]\n",
            " [0 3 4 0]\n",
            " [0 0 0 0]]\n"
          ]
        }
      ]
    },
    {
      "cell_type": "markdown",
      "source": [
        "**II. Trimming**\n",
        "**np.trim_zeros(arr, trim='fb'):** Removes leading and/or trailing zeros from an array.\n",
        "\n",
        "* `trim:` Specifies which edges to trim ('f' for front, 'b' for back)."
      ],
      "metadata": {
        "id": "DK02jeWESJHP"
      }
    },
    {
      "cell_type": "code",
      "source": [
        "arr = np.array([0, 0, 1, 2, 0, 0])\n",
        "trimmed = np.trim_zeros(arr, trim='fb')\n",
        "print(trimmed)  # Output: [1 2]"
      ],
      "metadata": {
        "colab": {
          "base_uri": "https://localhost:8080/"
        },
        "id": "Q383ADHQSQ7p",
        "outputId": "9a4a7926-c64a-46e2-9f72-ad0dbc6103fb"
      },
      "execution_count": 303,
      "outputs": [
        {
          "output_type": "stream",
          "name": "stdout",
          "text": [
            "[1 2]\n"
          ]
        }
      ]
    },
    {
      "cell_type": "markdown",
      "source": [
        "# **10. NumPy Functions for Polynomial Operations**\n",
        "\n",
        "**I. Core Polynomial Functions**\n",
        "* **np.poly1d(coeffs):** Creates a polynomial object from a list of coefficients."
      ],
      "metadata": {
        "id": "4YGnv4VSTYvF"
      }
    },
    {
      "cell_type": "code",
      "source": [
        "p = np.poly1d([1, 2, 3])\n",
        "print(p)  # Output: 1 x^2 + 2 x + 3"
      ],
      "metadata": {
        "colab": {
          "base_uri": "https://localhost:8080/"
        },
        "id": "LXQ9024BTdAh",
        "outputId": "ef208711-ea0f-4626-c482-91e3862b8b37"
      },
      "execution_count": 304,
      "outputs": [
        {
          "output_type": "stream",
          "name": "stdout",
          "text": [
            "   2\n",
            "1 x + 2 x + 3\n"
          ]
        }
      ]
    },
    {
      "cell_type": "markdown",
      "source": [
        "* **np.polyval(p, x):** Evaluates a polynomial at specified values."
      ],
      "metadata": {
        "id": "awAzxXiETgli"
      }
    },
    {
      "cell_type": "code",
      "source": [
        "p = np.poly1d([1, 2, 3])\n",
        "value = np.polyval(p, 2)\n",
        "print(value)  # Output: 11"
      ],
      "metadata": {
        "colab": {
          "base_uri": "https://localhost:8080/"
        },
        "id": "gKH0FN0dUTgR",
        "outputId": "5ebdc352-acd1-4c66-d6cf-b2d485755fff"
      },
      "execution_count": 305,
      "outputs": [
        {
          "output_type": "stream",
          "name": "stdout",
          "text": [
            "11\n"
          ]
        }
      ]
    },
    {
      "cell_type": "markdown",
      "source": [
        "* **np.polyfit(x, y, deg, rcond=None, full=False, w=None, cov=False):** Fits a polynomial to data, returning the coefficients."
      ],
      "metadata": {
        "id": "wB0X84zsUVaa"
      }
    },
    {
      "cell_type": "code",
      "source": [
        "x = np.array([1, 2, 3, 4])\n",
        "y = np.array([1, 4, 9, 16])\n",
        "coeffs = np.polyfit(x, y, 2)\n",
        "print(coeffs)  # Output: [ 1.00000000e+00 -1.06581410e-14 -7.99360578e-15]"
      ],
      "metadata": {
        "colab": {
          "base_uri": "https://localhost:8080/"
        },
        "id": "XqE4n4glUZCq",
        "outputId": "91a47674-6429-4227-d4df-c6dd5579a59a"
      },
      "execution_count": 306,
      "outputs": [
        {
          "output_type": "stream",
          "name": "stdout",
          "text": [
            "[ 1.00000000e+00 -6.00566855e-15  9.41435428e-15]\n"
          ]
        }
      ]
    },
    {
      "cell_type": "markdown",
      "source": [
        "* **np.polyder(p, m=1):** Computes the derivative of a polynomial."
      ],
      "metadata": {
        "id": "nT12waI6UkVv"
      }
    },
    {
      "cell_type": "code",
      "source": [
        "p = np.poly1d([1, 2, 3])\n",
        "derivative = np.polyder(p)\n",
        "print(derivative)  # Output: 2 x + 2"
      ],
      "metadata": {
        "colab": {
          "base_uri": "https://localhost:8080/"
        },
        "id": "KeHKhivEUnyt",
        "outputId": "e8a60eaa-420b-4947-f9f9-2d31e1054e92"
      },
      "execution_count": 307,
      "outputs": [
        {
          "output_type": "stream",
          "name": "stdout",
          "text": [
            " \n",
            "2 x + 2\n"
          ]
        }
      ]
    },
    {
      "cell_type": "markdown",
      "source": [
        "* **np.polyint(p, m=1, k=0):** Computes the integral of a polynomial."
      ],
      "metadata": {
        "id": "IFFBkbGpUpjc"
      }
    },
    {
      "cell_type": "code",
      "source": [
        "p = np.poly1d([1, 2, 3])\n",
        "integral = np.polyint(p)\n",
        "print(integral)  # Output: 0.33333333 x^3 + x^2 + 3 x"
      ],
      "metadata": {
        "colab": {
          "base_uri": "https://localhost:8080/"
        },
        "id": "h_RUga-GU4yr",
        "outputId": "3bf8ecd8-da82-4f81-feee-f07a1631e1f3"
      },
      "execution_count": 308,
      "outputs": [
        {
          "output_type": "stream",
          "name": "stdout",
          "text": [
            "        3     2\n",
            "0.3333 x + 1 x + 3 x\n"
          ]
        }
      ]
    },
    {
      "cell_type": "markdown",
      "source": [
        "* **np.roots(p):** Finds the roots of a polynomial."
      ],
      "metadata": {
        "id": "OfvGpqb0U6hM"
      }
    },
    {
      "cell_type": "code",
      "source": [
        "p = np.poly1d([1, 0, -1])\n",
        "roots = np.roots(p)\n",
        "print(roots)  # Output: [ 1. -1.]"
      ],
      "metadata": {
        "colab": {
          "base_uri": "https://localhost:8080/"
        },
        "id": "-u0jaVGvU9Hb",
        "outputId": "b74bf48a-5f92-4a23-b06a-afd78b33b9ce"
      },
      "execution_count": 309,
      "outputs": [
        {
          "output_type": "stream",
          "name": "stdout",
          "text": [
            "[-1.  1.]\n"
          ]
        }
      ]
    },
    {
      "cell_type": "markdown",
      "source": [
        "**II. Additional Functions**\n",
        "* **np.polyadd(p1, p2):** Adds two polynomials."
      ],
      "metadata": {
        "id": "FcuMmfiXVC-e"
      }
    },
    {
      "cell_type": "code",
      "source": [
        "p1 = np.poly1d([1, 2])\n",
        "p2 = np.poly1d([3, 4])\n",
        "added = np.polyadd(p1, p2)\n",
        "print(added)  # Output: 1 x + 5"
      ],
      "metadata": {
        "colab": {
          "base_uri": "https://localhost:8080/"
        },
        "id": "1Wuw3Lc6VGcx",
        "outputId": "25352216-ee7d-46e6-cd00-5c33a6b6eb37"
      },
      "execution_count": 310,
      "outputs": [
        {
          "output_type": "stream",
          "name": "stdout",
          "text": [
            " \n",
            "4 x + 6\n"
          ]
        }
      ]
    },
    {
      "cell_type": "markdown",
      "source": [
        "* **np.polysub(p1, p2):** Subtracts one polynomial from another."
      ],
      "metadata": {
        "id": "We0qfzw4VIyq"
      }
    },
    {
      "cell_type": "code",
      "source": [
        "p1 = np.poly1d([1, 2])\n",
        "p2 = np.poly1d([3, 4])\n",
        "subtracted = np.polysub(p1, p2)\n",
        "print(subtracted)  # Output: -2 x - 2"
      ],
      "metadata": {
        "colab": {
          "base_uri": "https://localhost:8080/"
        },
        "id": "jvsPy1V6VMBe",
        "outputId": "b38da7eb-49d7-42db-d0f3-aaa11dfd2928"
      },
      "execution_count": 311,
      "outputs": [
        {
          "output_type": "stream",
          "name": "stdout",
          "text": [
            " \n",
            "-2 x - 2\n"
          ]
        }
      ]
    },
    {
      "cell_type": "markdown",
      "source": [
        "* **np.polymul(p1, p2):** Multiplies two polynomials."
      ],
      "metadata": {
        "id": "PqL2kZbrVNzj"
      }
    },
    {
      "cell_type": "code",
      "source": [
        "p1 = np.poly1d([1, 2])\n",
        "p2 = np.poly1d([3, 4])\n",
        "multiplied = np.polymul(p1, p2)\n",
        "print(multiplied)  # Output: 3 x^2 + 10 x + 8"
      ],
      "metadata": {
        "colab": {
          "base_uri": "https://localhost:8080/"
        },
        "id": "cgd__juXVQ9z",
        "outputId": "458feb1f-f2a1-4259-8257-dd68e296602a"
      },
      "execution_count": 312,
      "outputs": [
        {
          "output_type": "stream",
          "name": "stdout",
          "text": [
            "   2\n",
            "3 x + 10 x + 8\n"
          ]
        }
      ]
    },
    {
      "cell_type": "markdown",
      "source": [
        "* **np.polydiv(p1, p2):** Divides two polynomials."
      ],
      "metadata": {
        "id": "Yln3V6Q7VTbQ"
      }
    },
    {
      "cell_type": "code",
      "source": [
        "p1 = np.poly1d([1, 2])\n",
        "p2 = np.poly1d([3, 4])\n",
        "quotient, remainder = np.polydiv(p1, p2)\n",
        "print(quotient)  # Output: 0.33333333\n",
        "print(remainder)  # Output: 0.66666667"
      ],
      "metadata": {
        "colab": {
          "base_uri": "https://localhost:8080/"
        },
        "id": "ade2yjipV3XI",
        "outputId": "f45c465a-c327-48fb-b45c-3fdcd9814bb9"
      },
      "execution_count": 313,
      "outputs": [
        {
          "output_type": "stream",
          "name": "stdout",
          "text": [
            " \n",
            "0.3333\n",
            " \n",
            "0.6667\n"
          ]
        }
      ]
    },
    {
      "cell_type": "markdown",
      "source": [
        "# **11. NumPy Functions for Interpolation and Extrapolation**\n",
        "\n",
        "**I. np.interp(x, xp, fp, left=None, right=None, period=None): Performs one-dimensional linear interpolation.**\n",
        "\n",
        "* `x:` Points at which to interpolate.\n",
        "* `xp:` x-coordinates of the data points.\n",
        "* `fp:` y-coordinates of the data points.\n",
        "* `left, right:` Values to return for extrapolation.\n",
        "* `period:` Period of the data for periodic interpolation."
      ],
      "metadata": {
        "id": "dtnnwp6NV5qG"
      }
    },
    {
      "cell_type": "code",
      "source": [
        "xp = np.array([0, 1, 2])\n",
        "fp = np.array([0, 2, 4])\n",
        "x = np.array([0.5, 1.5])\n",
        "interp = np.interp(x, xp, fp)\n",
        "print(interp)  # Output: [1. 3.]"
      ],
      "metadata": {
        "colab": {
          "base_uri": "https://localhost:8080/"
        },
        "id": "b2eNqcvPXVLg",
        "outputId": "2d5154e5-a83c-4c73-b516-433ccac2108c"
      },
      "execution_count": 314,
      "outputs": [
        {
          "output_type": "stream",
          "name": "stdout",
          "text": [
            "[1. 3.]\n"
          ]
        }
      ]
    },
    {
      "cell_type": "markdown",
      "source": [
        "**II. np.polyfit(x, y, deg, rcond=None, full=False, w=None, cov=False):** Fits a polynomial to data, returning the coefficients."
      ],
      "metadata": {
        "id": "Hur3S7KnXiUX"
      }
    },
    {
      "cell_type": "code",
      "source": [
        "x = np.array([0, 1, 2])\n",
        "y = np.array([0, 1, 4])\n",
        "coeffs = np.polyfit(x, y, 2)\n",
        "print(coeffs)  # Output: [ 1.  0. -0.]"
      ],
      "metadata": {
        "colab": {
          "base_uri": "https://localhost:8080/"
        },
        "id": "4vAF214DXntG",
        "outputId": "9d7b30d8-459c-47c8-ea3f-ab1eb27779df"
      },
      "execution_count": 315,
      "outputs": [
        {
          "output_type": "stream",
          "name": "stdout",
          "text": [
            "[ 1.00000000e+00 -5.53155992e-16  8.39113006e-17]\n"
          ]
        }
      ]
    },
    {
      "cell_type": "markdown",
      "source": [
        "# **12. NumPy Functions for Financial Operations**\n",
        "\n",
        "**NumPy-Financial: This library offers functions like npf.fv, npf.pv, npf.rate, npf.pmt, etc., which are similar to Excel's financial functions.**"
      ],
      "metadata": {
        "id": "F5bwP90mXuh0"
      }
    },
    {
      "cell_type": "code",
      "source": [
        "!pip install numpy_financial\n",
        "import numpy_financial as npf\n",
        "\n",
        "# Future value\n",
        "fv = npf.fv(rate=0.05, nper=10, pmt=-1000, pv=-10000)\n",
        "print(fv)  # Output: 16288.946267774414\n",
        "\n",
        "# Present value\n",
        "pv = npf.pv(rate=0.05, nper=10, pmt=-1000, fv=0)\n",
        "print(pv)  # Output: 7721.734929184397\n",
        "\n",
        "# Rate\n",
        "rate = npf.rate(nper=10, pmt=-1000, pv=-10000, fv=16288.946267774414)\n",
        "print(rate)  # Output: 0.0500000000000001\n",
        "\n",
        "# Payment\n",
        "pmt = npf.pmt(rate=0.05, nper=10, pv=-10000, fv=0)\n",
        "print(pmt)  # Output: -1295.0242018389665"
      ],
      "metadata": {
        "colab": {
          "base_uri": "https://localhost:8080/"
        },
        "id": "eaQ0TDRQX_QB",
        "outputId": "578c9ff3-5259-4979-e230-df9c2b446062"
      },
      "execution_count": 317,
      "outputs": [
        {
          "output_type": "stream",
          "name": "stdout",
          "text": [
            "Collecting numpy_financial\n",
            "  Downloading numpy_financial-1.0.0-py3-none-any.whl (14 kB)\n",
            "Requirement already satisfied: numpy>=1.15 in /usr/local/lib/python3.10/dist-packages (from numpy_financial) (2.0.0)\n",
            "Installing collected packages: numpy_financial\n",
            "Successfully installed numpy_financial-1.0.0\n",
            "28866.83880332326\n",
            "7721.734929184817\n",
            "-0.028589869900990224\n",
            "1295.0457496545662\n"
          ]
        }
      ]
    },
    {
      "cell_type": "markdown",
      "source": [
        "# **13. NumPy Functions Useful for Signal Processing**\n",
        "\n",
        "**I. np.convolve: Computes the discrete convolution of two one-dimensional sequences.**"
      ],
      "metadata": {
        "id": "lGkt7W5pYCKz"
      }
    },
    {
      "cell_type": "code",
      "source": [
        "a = np.array([1, 2, 3])\n",
        "v = np.array([0, 1, 0.5])\n",
        "convolved = np.convolve(a, v, mode='full')\n",
        "print(convolved)  # Output: [0.  1.  2.5 4.  1.5]"
      ],
      "metadata": {
        "colab": {
          "base_uri": "https://localhost:8080/"
        },
        "id": "9WJjYFP_YIt7",
        "outputId": "81615970-f643-4dc3-acdb-1f5f3d97da35"
      },
      "execution_count": 318,
      "outputs": [
        {
          "output_type": "stream",
          "name": "stdout",
          "text": [
            "[0.  1.  2.5 4.  1.5]\n"
          ]
        }
      ]
    },
    {
      "cell_type": "markdown",
      "source": [
        "**II. np.correlate: Computes the correlation of two one-dimensional sequences.**"
      ],
      "metadata": {
        "id": "MLliz2G5YMVi"
      }
    },
    {
      "cell_type": "code",
      "source": [
        "a = np.array([1, 2, 3])\n",
        "v = np.array([0, 1, 0.5])\n",
        "correlated = np.correlate(a, v, mode='full')\n",
        "print(correlated)  # Output: [0.5 2.  2.5 1. ]"
      ],
      "metadata": {
        "colab": {
          "base_uri": "https://localhost:8080/"
        },
        "id": "dK-n829zY1K2",
        "outputId": "afada520-3a27-4fae-e7b0-951776048d1f"
      },
      "execution_count": 319,
      "outputs": [
        {
          "output_type": "stream",
          "name": "stdout",
          "text": [
            "[0.5 2.  3.5 3.  0. ]\n"
          ]
        }
      ]
    },
    {
      "cell_type": "markdown",
      "source": [
        "# **14. Sharing Memories**\n",
        "\n",
        "* **np.shares_memory():** Returns True if two arrays share memory."
      ],
      "metadata": {
        "id": "_6GMM7JyY21I"
      }
    },
    {
      "cell_type": "code",
      "source": [
        "a = np.array([1, 2, 3])\n",
        "b = a[:2]\n",
        "shares_memory = np.shares_memory(a, b)\n",
        "print(shares_memory)  # Output: True"
      ],
      "metadata": {
        "colab": {
          "base_uri": "https://localhost:8080/"
        },
        "id": "q8pqkOhxY8FY",
        "outputId": "431caa65-043c-40f5-8563-5018c3d5bd9b"
      },
      "execution_count": 320,
      "outputs": [
        {
          "output_type": "stream",
          "name": "stdout",
          "text": [
            "True\n"
          ]
        }
      ]
    },
    {
      "cell_type": "markdown",
      "source": [
        "* **np.may_share_memory():** Returns True if two arrays may share memory."
      ],
      "metadata": {
        "id": "JbmhEBD-ZRx0"
      }
    },
    {
      "cell_type": "code",
      "source": [
        "a = np.array([1, 2, 3])\n",
        "b = a[:2]\n",
        "may_share_memory = np.may_share_memory(a, b)\n",
        "print(may_share_memory)  # Output: True"
      ],
      "metadata": {
        "colab": {
          "base_uri": "https://localhost:8080/"
        },
        "id": "hgmzMgMsZT8f",
        "outputId": "2962119f-d44f-4c0f-8a06-ada5cc1e4957"
      },
      "execution_count": 321,
      "outputs": [
        {
          "output_type": "stream",
          "name": "stdout",
          "text": [
            "True\n"
          ]
        }
      ]
    }
  ]
}