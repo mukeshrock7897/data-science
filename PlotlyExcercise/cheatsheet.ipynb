{
 "cells": [
  {
   "cell_type": "markdown",
   "metadata": {},
   "source": [
    "---\n",
    "# **Plotly**\n",
    "---\n",
    "\n",
    "| **Topic** | **Code Example** | **Explanation** | **Use Case & Data Type** |\n",
    "|-----------|------------------|-----------------|--------------------------|\n",
    "| **Installation and Setup** | `pip install plotly; import plotly.express as px` | Installs Plotly and imports modules for plotting. | Setup for any Plotly visualization; used with any data type. |\n",
    "| **Scatter Plot (Express)** | `px.scatter(df, x=\"col_x\", y=\"col_y\", color=\"cat\")` | Creates a scatter plot for visualizing relationships between two variables. | Exploring correlations; numerical x/y data with optional categorical color/size. |\n",
    "| **Scatter Plot (GO)** | `go.Figure(data=go.Scatter(x=df[\"x\"], y=df[\"y\"], mode=\"markers\"))` | Low-level scatter plot with customizable markers. | Detailed customization; numerical x/y data. |\n",
    "| **Line Plot (Express)** | `px.line(df, x=\"col_x\", y=\"col_y\")` | Plots lines connecting data points to show trends. | Time series or sequential data; numerical x/y with ordered x-axis. |\n",
    "| **Line Plot (GO)** | `go.Figure(data=go.Scatter(x=df[\"x\"], y=df[\"y\"], mode=\"lines\"))` | Customizable line plot for precise control. | Trend analysis with customization; numerical x/y data. |\n",
    "| **Bar Plot (Express)** | `px.bar(df, x=\"col_x\", y=\"col_y\")` | Displays categorical data with bars representing values. | Comparing categories; categorical x and numerical y data. |\n",
    "| **Bar Plot (GO)** | `go.Figure(data=go.Bar(x=df[\"x\"], y=df[\"y\"]))` | Customizable bar plot for detailed styling. | Category comparisons with specific formatting; categorical x, numerical y. |\n",
    "| **Box Plot** | `px.box(df, x=\"cat\", y=\"values\")` | Shows distribution, quartiles, and outliers for groups. | Comparing distributions; categorical x, numerical y data. |\n",
    "| **Histogram** | `px.histogram(df, x=\"col\", nbins=30)` | Visualizes the distribution of a single variable. | Understanding data spread; numerical data for frequency counts. |\n",
    "| **Violin Plot** | `px.violin(df, x=\"cat\", y=\"values\", box=True)` | Combines density and box plot to show distribution shape. | Detailed distribution analysis; categorical x, numerical y data. |\n",
    "| **3D Scatter** | `px.scatter_3d(df, x=\"col1\", y=\"col2\", z=\"col3\")` | Plots points in 3D space for multi-dimensional data. | Exploring 3D relationships; three numerical columns with optional categorical color. |\n",
    "| **3D Surface** | `go.Figure(data=[go.Surface(z=df.values)])` | Visualizes 3D surfaces from matrix data. | Modeling functions or terrain; 2D numerical array (z-values). |\n",
    "| **Scatter Geo** | `px.scatter_geo(df, lat=\"lat\", lon=\"lon\")` | Plots points on a geographic map using latitude/longitude. | Geographic point data; lat/lon numerical data with optional size/color. |\n",
    "| **Choropleth** | `px.choropleth(df, locations=\"iso_alpha\", color=\"value\")` | Maps data values to geographic regions with color gradients. | Regional data analysis; categorical location codes with numerical values. |\n",
    "| **Layout Updates** | `fig.update_layout(title=\"Title\", template=\"plotly_dark\")` | Customizes overall figure appearance (title, theme, etc.). | Enhancing readability; any plot type with any data. |\n",
    "| **Axis Customization** | `fig.update_xaxes(title=\"X Axis\", showgrid=False)` | Modifies axis properties like labels, range, or grid. | Improving axis clarity; any plot with numerical/categorical axes. |\n",
    "| **Annotations** | `fig.add_annotation(x=0.5, y=0.5, text=\"Note\")` | Adds text or arrows to highlight specific points. | Emphasizing data points; any plot with numerical/categorical coordinates. |\n",
    "| **Subplots** | `make_subplots(rows=1, cols=2); fig.add_trace(...)` | Creates multiple plots in a grid layout. | Comparing multiple datasets; any data type in multiple plots. |\n",
    "| **Dropdown Menu** | `fig.update_layout(updatemenus=[dict(buttons=[...])])` | Adds interactive dropdowns to toggle data visibility. | Interactive data exploration; any plot with multiple data subsets. |\n",
    "| **Sliders** | `fig.update_layout(sliders=[dict(steps=[...])])` | Enables sliding through data states (e.g., time steps). | Visualizing dynamic data; numerical/categorical data with sequential steps. |\n",
    "| **Animation** | `px.scatter(..., animation_frame=\"time\")` | Animates data changes over a frame variable (e.g., time). | Showing temporal evolution; numerical x/y with time/categorical frames. |\n",
    "| **Saving as HTML** | `fig.write_html(\"plot.html\")` | Saves interactive plot as an HTML file. | Sharing interactive plots; any plot type. |\n",
    "| **Saving as Image** | `fig.write_image(\"plot.png\")` | Exports plot as a static image (PNG, JPEG, etc.). | Static reports; any plot type. |\n",
    "| **Saving as JSON** | `fig.write_json(\"plot.json\")` | Saves plot data and layout as JSON for reuse. | Data serialization; any plot type. |\n",
    "| **Templates** | `fig.update_layout(template=\"plotly_dark\")` | Applies predefined themes for consistent styling. | Consistent aesthetics; any plot type. |\n",
    "| **Error Bars** | `go.Scatter(..., error_y=dict(array=df[\"error\"]))` | Adds error bars to show uncertainty in data points. | Scientific data with uncertainty; numerical y with error values. |\n",
    "| **Faceting** | `px.scatter(..., facet_col=\"cat\")` | Creates subplots based on categorical variables. | Comparing groups; numerical x/y with categorical facets. |\n",
    "| **Plotly Express** | `px.scatter(df, x=\"x\", y=\"y\")` | High-level API for quick, simple plots. | Rapid prototyping; structured numerical/categorical data. |\n",
    "| **Graph Objects** | `go.Figure(data=go.Scatter(...))` | Low-level API for detailed plot customization. | Complex visualizations; any data requiring fine control. |\n",
    "| **Dash Integration** | `app = dash.Dash(); app.layout = [dcc.Graph(...)]` | Embeds Plotly figures in interactive web apps. | Building dashboards; any plot type for web applications. |\n",
    "\n",
    "---\n",
    "---"
   ]
  }
 ],
 "metadata": {
  "language_info": {
   "name": "python"
  }
 },
 "nbformat": 4,
 "nbformat_minor": 2
}
