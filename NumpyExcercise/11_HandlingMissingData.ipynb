{
 "cells": [
  {
   "cell_type": "markdown",
   "metadata": {},
   "source": [
    "### Handling Missing Data"
   ]
  },
  {
   "cell_type": "code",
   "execution_count": 1,
   "metadata": {},
   "outputs": [
    {
     "name": "stdout",
     "output_type": "stream",
     "text": [
      "Array with NaN values:\n",
      " [ 1.  2. nan  4. nan  6.]\n",
      "np.isnan(arr):\n",
      " [False False  True False  True False]\n",
      "np.nan_to_num(arr): \n",
      " [1. 2. 0. 4. 0. 6.]\n",
      "np.isnan(arr).any():\n",
      " True\n",
      "np.isnan(arr).sum():\n",
      " 2\n",
      "np.isnat(arr_datetime):\n",
      " [False  True]\n",
      "Cleaned array:\n",
      " [[4.]]\n",
      "Array after mean imputation (per column):\n",
      " [[1.  2.  7.5]\n",
      " [4.  5.  6. ]\n",
      " [7.  3.5 9. ]]\n",
      "Array after mean imputation (all elements):\n",
      " [[1. 2. 5.]\n",
      " [4. 5. 6.]\n",
      " [7. 5. 9.]]\n"
     ]
    }
   ],
   "source": [
    "import numpy as np\n",
    "\n",
    "# 1. Identifying Missing Values\n",
    "arr = np.array([1, 2, np.nan, 4, np.nan, 6])\n",
    "print(\"Array with NaN values:\\n\", arr)  # Output: [ 1.  2. nan  4. nan  6.]\n",
    "\n",
    "print(\"np.isnan(arr):\\n\", np.isnan(arr))  # Output: [False False  True False  True False]\n",
    "\n",
    "print(\"np.nan_to_num(arr): \\n\", np.nan_to_num(arr))  # Output: [1. 2. 0. 4. 0. 6.]\n",
    "\n",
    "print(\"np.isnan(arr).any():\\n\", np.isnan(arr).any())  # Output: True\n",
    "\n",
    "print(\"np.isnan(arr).sum():\\n\", np.isnan(arr).sum())  # Output: 2\n",
    "\n",
    "# Checking for NaT (Not a Time) values\n",
    "arr_datetime = np.array([np.datetime64('2024-01-01'), np.datetime64('NaT')])\n",
    "print(\"np.isnat(arr_datetime):\\n\", np.isnat(arr_datetime))  # Output: [False  True]\n",
    "\n",
    "# 2. Removing Missing Data\n",
    "arr2d = np.array([[1, 2, np.nan], [4, 5, 6], [7, np.nan, 9]])\n",
    "rows_to_keep = ~np.isnan(arr2d).any(axis=1)\n",
    "cols_to_keep = ~np.isnan(arr2d).any(axis=0)\n",
    "arr_cleaned = arr2d[np.ix_(rows_to_keep, cols_to_keep)]\n",
    "print(\"Cleaned array:\\n\", arr_cleaned)  # Output: [[4. 5.]]\n",
    "\n",
    "# 3. Imputing Missing Data\n",
    "arr = np.array([[1, 2, np.nan], [4, 5, 6], [7, np.nan, 9]])\n",
    "mean_of_each_column = np.nanmean(arr, axis=0)\n",
    "nan_mask = np.isnan(arr)\n",
    "arr[nan_mask] = np.take(mean_of_each_column, np.where(nan_mask)[1])\n",
    "print(\"Array after mean imputation (per column):\\n\", arr)  # Output: [[1.  2.  7.5] [4.  5.  6. ] [7.  3.5 9. ]]\n",
    "\n",
    "mean_of_all_elements = np.nanmean(arr)\n",
    "arr_all_mean = np.array([[1, 2, np.nan], [4, 5, 6], [7, np.nan, 9]])\n",
    "arr_all_mean[np.isnan(arr_all_mean)] = mean_of_all_elements\n",
    "print(\"Array after mean imputation (all elements):\\n\", arr_all_mean)  # Output: [[1.  2.  5.25] [4.  5.  6.  ] [7.  5.25 9.  ]]\n"
   ]
  }
 ],
 "metadata": {
  "kernelspec": {
   "display_name": "Python 3",
   "language": "python",
   "name": "python3"
  },
  "language_info": {
   "codemirror_mode": {
    "name": "ipython",
    "version": 3
   },
   "file_extension": ".py",
   "mimetype": "text/x-python",
   "name": "python",
   "nbconvert_exporter": "python",
   "pygments_lexer": "ipython3",
   "version": "3.11.11"
  }
 },
 "nbformat": 4,
 "nbformat_minor": 2
}
