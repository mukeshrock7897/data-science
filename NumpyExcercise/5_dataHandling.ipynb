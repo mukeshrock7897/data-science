{
 "cells": [
  {
   "cell_type": "code",
   "execution_count": 4,
   "metadata": {},
   "outputs": [
    {
     "name": "stdout",
     "output_type": "stream",
     "text": [
      "np.dtype(np.int32):  int32\n",
      "\n",
      "\n",
      "\n",
      "arr.dtype:  int16\n",
      "\n",
      "\n",
      "\n",
      "np.issubdtype(np.int32, np.integer):  True\n",
      "\n",
      "\n",
      "\n",
      "np.issubdtype(np.float64, np.integer):  False\n",
      "\n",
      "\n",
      "\n",
      "arr_float.dtype:  float64\n",
      "\n",
      "\n",
      "\n",
      "arr_new.dtype:  complex128\n",
      "\n",
      "\n",
      "\n",
      "np.sctypeDict['i']:  <class 'numpy.int32'>\n",
      "\n",
      "\n",
      "\n",
      "np.dtype('f').name:  float32\n",
      "\n",
      "\n",
      "\n",
      "np.find_common_type([np.int32, np.float64], [np.int32, np.float64]):  float64\n",
      "\n",
      "\n",
      "\n"
     ]
    },
    {
     "name": "stderr",
     "output_type": "stream",
     "text": [
      "/var/folders/5l/hhtzrw4n6kl1cymh7srrsy1c0000gn/T/ipykernel_84900/3267909102.py:50: DeprecationWarning: np.find_common_type is deprecated.  Please use `np.result_type` or `np.promote_types`.\n",
      "See https://numpy.org/devdocs/release/1.25.0-notes.html and the docs for more information.  (Deprecated NumPy 1.25)\n",
      "  print(\"np.find_common_type([np.int32, np.float64], [np.int32, np.float64]): \", np.find_common_type([np.int32, np.float64], [np.int32, np.float64]))\n"
     ]
    }
   ],
   "source": [
    "import numpy as np\n",
    "\n",
    "# I-Data Type Inspection\n",
    "\n",
    "print(\"np.dtype(np.int32): \", np.dtype(np.int32))  # Create a data type object\n",
    "# Output: np.dtype(np.int32):  int32\n",
    "print(\"\\n\\n\")\n",
    "\n",
    "arr = np.array([1, 2, 3], dtype=np.int16)\n",
    "print(\"arr.dtype: \", arr.dtype)  # Data type of the array\n",
    "# Output: arr.dtype:  int16\n",
    "print(\"\\n\\n\")\n",
    "\n",
    "print(\"np.issubdtype(np.int32, np.integer): \", np.issubdtype(np.int32, np.integer))  # Check for subtype\n",
    "# Output: np.issubdtype(np.int32, np.integer):  True\n",
    "print(\"\\n\\n\")\n",
    "\n",
    "print(\"np.issubdtype(np.float64, np.integer): \", np.issubdtype(np.float64, np.integer))\n",
    "# Output: np.issubdtype(np.float64, np.integer):  False\n",
    "print(\"\\n\\n\")\n",
    "\n",
    "\n",
    "# II-Data Type Conversion\n",
    "\n",
    "arr_float = arr.astype(np.float64)  # Cast to float64\n",
    "print(\"arr_float.dtype: \", arr_float.dtype)\n",
    "# Output: arr_float.dtype:  float64\n",
    "print(\"\\n\\n\")\n",
    "\n",
    "arr_new = np.array([4, 5, 6], dtype=np.complex128) # Create with complex128 dtype\n",
    "print(\"arr_new.dtype: \",arr_new.dtype)\n",
    "# Output: arr_new.dtype: complex128\n",
    "print(\"\\n\\n\")\n",
    "\n",
    "# III-Data Type Information\n",
    "\n",
    "print(\"np.sctypeDict['i']: \", np.sctypeDict['i'])  # Scalar type for 'i' (int)\n",
    "# Output: np.sctypeDict['i']:  <class 'numpy.int32'>\n",
    "print(\"\\n\\n\")\n",
    "\n",
    "# Correct way to get type name (using dtype attributes)\n",
    "print(\"np.dtype('f').name: \", np.dtype('f').name) # Name for 'f' (float)\n",
    "# Output: np.dtype('f').name:  float32\n",
    "print(\"\\n\\n\")\n",
    "\n",
    "arr1 = np.array([1, 2], dtype=np.int32)\n",
    "arr2 = np.array([3.14, 2.71], dtype=np.float64)\n",
    "\n",
    "# Correct usage of find_common_type (passing dtypes, not arrays)\n",
    "print(\"np.find_common_type([np.int32, np.float64], [np.int32, np.float64]): \", np.find_common_type([np.int32, np.float64], [np.int32, np.float64]))\n",
    "# Output: np.find_common_type([np.int32, np.float64], [np.int32, np.float64]):  float64\n",
    "print(\"\\n\\n\")"
   ]
  },
  {
   "cell_type": "code",
   "execution_count": null,
   "metadata": {},
   "outputs": [],
   "source": []
  }
 ],
 "metadata": {
  "kernelspec": {
   "display_name": "base",
   "language": "python",
   "name": "python3"
  },
  "language_info": {
   "codemirror_mode": {
    "name": "ipython",
    "version": 3
   },
   "file_extension": ".py",
   "mimetype": "text/x-python",
   "name": "python",
   "nbconvert_exporter": "python",
   "pygments_lexer": "ipython3",
   "version": "3.12.4"
  }
 },
 "nbformat": 4,
 "nbformat_minor": 2
}
