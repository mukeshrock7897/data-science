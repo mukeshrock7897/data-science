{
 "cells": [
  {
   "cell_type": "code",
   "execution_count": 7,
   "metadata": {},
   "outputs": [
    {
     "name": "stdout",
     "output_type": "stream",
     "text": [
      "<Response [403]>\n",
      "Error: \n"
     ]
    }
   ],
   "source": [
    "import requests\n",
    "\n",
    "# Sample data\n",
    "data = {\n",
    "    'name': 'John Doe',\n",
    "    'email': 'johndoe@example.com'\n",
    "}\n",
    "\n",
    "# Send a POST request to the API\n",
    "response = requests.post('http://127.0.0.1:5000/data', json=data)\n",
    "print(response)\n",
    "if response.status_code == 200:\n",
    "    print(response.json())\n",
    "else:\n",
    "    print('Error:', response.text)"
   ]
  },
  {
   "cell_type": "code",
   "execution_count": 8,
   "metadata": {},
   "outputs": [
    {
     "name": "stdout",
     "output_type": "stream",
     "text": [
      "0    1\n",
      "1    7\n",
      "2    2\n",
      "dtype: int64\n"
     ]
    }
   ],
   "source": [
    "import pandas as pd\n",
    "\n",
    "a = [1, 7, 2]\n",
    "\n",
    "myvar = pd.Series(a)\n",
    "\n",
    "print(myvar)\n"
   ]
  },
  {
   "cell_type": "code",
   "execution_count": 9,
   "metadata": {},
   "outputs": [
    {
     "name": "stdout",
     "output_type": "stream",
     "text": [
      "Alice\n",
      "Name              Bob\n",
      "Age                30\n",
      "City    San Francisco\n",
      "Name: B, dtype: object\n"
     ]
    }
   ],
   "source": [
    "import pandas as pd\n",
    "\n",
    "df = pd.DataFrame({\n",
    "    'Name': ['Alice', 'Bob', 'Charlie'],\n",
    "    'Age': [25, 30, 35],\n",
    "    'City': ['New York', 'San Francisco', 'Los Angeles']\n",
    "}, index=['A', 'B', 'C'])\n",
    "\n",
    "# Access data by label\n",
    "print(df.loc['A', 'Name'])  # Output: 'Alice'\n",
    "print(df.loc['B', :])       # Access all columns for row 'B'\n"
   ]
  },
  {
   "cell_type": "code",
   "execution_count": 10,
   "metadata": {},
   "outputs": [
    {
     "name": "stdout",
     "output_type": "stream",
     "text": [
      "Alice\n",
      "Name              Bob\n",
      "Age                30\n",
      "City    San Francisco\n",
      "Name: B, dtype: object\n"
     ]
    }
   ],
   "source": [
    "# Access data by integer position\n",
    "print(df.iloc[0, 0])  # Output: 'Alice' (First row, first column)\n",
    "print(df.iloc[1, :])  # All columns for the second row (Bob)\n"
   ]
  },
  {
   "cell_type": "code",
   "execution_count": 11,
   "metadata": {},
   "outputs": [
    {
     "name": "stdout",
     "output_type": "stream",
     "text": [
      "      First Name  Age           City\n",
      "Alpha      Alice   25       New York\n",
      "B            Bob   30  San Francisco\n",
      "C        Charlie   35    Los Angeles\n"
     ]
    }
   ],
   "source": [
    "# Rename row label 'A' to 'Alpha' and column 'Name' to 'First Name'\n",
    "df_renamed = df.rename(index={'A': 'Alpha'}, columns={'Name': 'First Name'})\n",
    "print(df_renamed)\n"
   ]
  },
  {
   "cell_type": "code",
   "execution_count": 12,
   "metadata": {},
   "outputs": [
    {
     "name": "stdout",
     "output_type": "stream",
     "text": [
      "         Age           City\n",
      "Name                       \n",
      "Alice     25       New York\n",
      "Bob       30  San Francisco\n",
      "Charlie   35    Los Angeles\n"
     ]
    }
   ],
   "source": [
    "# Set 'Name' as the index\n",
    "df_indexed = df.set_index('Name')\n",
    "print(df_indexed)\n"
   ]
  },
  {
   "cell_type": "code",
   "execution_count": 14,
   "metadata": {},
   "outputs": [
    {
     "name": "stdout",
     "output_type": "stream",
     "text": [
      "      Name  Age           City\n",
      "0    Alice   25       New York\n",
      "1      Bob   30  San Francisco\n",
      "2  Charlie   35    Los Angeles\n"
     ]
    }
   ],
   "source": [
    "# Reset index to default and keep the previous index as a column\n",
    "df_reset = df_indexed.reset_index(drop=False)\n",
    "print(df_reset)\n"
   ]
  },
  {
   "cell_type": "code",
   "execution_count": 15,
   "metadata": {},
   "outputs": [
    {
     "name": "stdout",
     "output_type": "stream",
     "text": [
      "                     Name  Age\n",
      "City          ID              \n",
      "New York      A     Alice   25\n",
      "San Francisco B       Bob   30\n",
      "Los Angeles   C   Charlie   35\n"
     ]
    }
   ],
   "source": [
    "# MultiIndex with two levels (Location, ID)\n",
    "index = pd.MultiIndex.from_tuples([('New York', 'A'), ('San Francisco', 'B'), ('Los Angeles', 'C')], names=['City', 'ID'])\n",
    "df_multi = pd.DataFrame({'Name': ['Alice', 'Bob', 'Charlie'], 'Age': [25, 30, 35]}, index=index)\n",
    "print(df_multi)\n"
   ]
  },
  {
   "cell_type": "code",
   "execution_count": 18,
   "metadata": {},
   "outputs": [
    {
     "name": "stdout",
     "output_type": "stream",
     "text": [
      "Name    Alice\n",
      "Age        25\n",
      "Name: (New York, A), dtype: object\n"
     ]
    }
   ],
   "source": [
    "# Access data for a specific location\n",
    "# print(df_multi.loc['New York'])\n",
    "# Access data for a specific (City, ID) combination\n",
    "print(df_multi.loc[('New York', 'A')])\n"
   ]
  },
  {
   "cell_type": "code",
   "execution_count": 19,
   "metadata": {},
   "outputs": [
    {
     "name": "stdout",
     "output_type": "stream",
     "text": [
      "      Name   Age           City\n",
      "A    Alice  25.0       New York\n",
      "B      Bob  30.0  San Francisco\n",
      "C  Charlie  35.0    Los Angeles\n",
      "D      NaN   NaN            NaN\n"
     ]
    }
   ],
   "source": [
    "# Reindexing rows, adding new labels with NaN values\n",
    "new_index = ['A', 'B', 'C', 'D']\n",
    "df_reindexed = df.reindex(new_index)\n",
    "print(df_reindexed)\n"
   ]
  },
  {
   "cell_type": "code",
   "execution_count": 20,
   "metadata": {},
   "outputs": [
    {
     "name": "stdout",
     "output_type": "stream",
     "text": [
      "      Name   Age           City\n",
      "A    Alice  25.0       New York\n",
      "B      Bob  30.0  San Francisco\n",
      "C  Charlie  35.0    Los Angeles\n",
      "D        0   0.0              0\n"
     ]
    }
   ],
   "source": [
    "# Fill NaN values with 0\n",
    "df_filled = df_reindexed.fillna(0)\n",
    "print(df_filled)\n"
   ]
  },
  {
   "cell_type": "code",
   "execution_count": 21,
   "metadata": {},
   "outputs": [
    {
     "name": "stdout",
     "output_type": "stream",
     "text": [
      "      Name  Age         City\n",
      "C  Charlie   35  Los Angeles\n"
     ]
    }
   ],
   "source": [
    "# Filter rows where the 'Age' column is greater than 30\n",
    "mask = df['Age'] > 30\n",
    "print(df[mask])\n"
   ]
  },
  {
   "cell_type": "code",
   "execution_count": 22,
   "metadata": {},
   "outputs": [
    {
     "name": "stdout",
     "output_type": "stream",
     "text": [
      "Alice\n",
      "Alice\n"
     ]
    }
   ],
   "source": [
    "# Access the element at row 'A' and column 'Name'\n",
    "print(df.at['A', 'Name'])  # Output: 'Alice'\n",
    "\n",
    "# Access the element at row 0 and column 0\n",
    "print(df.iat[0, 0])        # Output: 'Alice'\n"
   ]
  },
  {
   "cell_type": "code",
   "execution_count": 23,
   "metadata": {},
   "outputs": [
    {
     "name": "stdout",
     "output_type": "stream",
     "text": [
      "      Name  Age\n",
      "A    Alice   25\n",
      "B      Bob   30\n",
      "C  Charlie   35\n"
     ]
    }
   ],
   "source": [
    "# Select columns based on a list of column names\n",
    "print(df[['Name', 'Age']])  # Select 'Name' and 'Age' columns\n"
   ]
  },
  {
   "cell_type": "code",
   "execution_count": 24,
   "metadata": {},
   "outputs": [
    {
     "name": "stdout",
     "output_type": "stream",
     "text": [
      "      Name  Age         City\n",
      "C  Charlie   35  Los Angeles\n"
     ]
    }
   ],
   "source": [
    "# Query rows where Age > 30\n",
    "print(df.query('Age > 30'))\n"
   ]
  },
  {
   "cell_type": "code",
   "execution_count": 25,
   "metadata": {},
   "outputs": [
    {
     "name": "stdout",
     "output_type": "stream",
     "text": [
      "A    26\n",
      "B    32\n",
      "C    38\n",
      "dtype: int64\n"
     ]
    }
   ],
   "source": [
    "# Automatic alignment by labels\n",
    "s = pd.Series([1, 2, 3], index=['A', 'B', 'C'])\n",
    "print(df['Age'] + s)  # Adds corresponding values by index labels\n"
   ]
  },
  {
   "cell_type": "code",
   "execution_count": 26,
   "metadata": {},
   "outputs": [
    {
     "name": "stdout",
     "output_type": "stream",
     "text": [
      "a    10\n",
      "b    20\n",
      "c    30\n",
      "dtype: int64\n"
     ]
    }
   ],
   "source": [
    "data = {'a': 10, 'b': 20, 'c': 30}\n",
    "s = pd.Series(data)\n",
    "print(s)\n"
   ]
  },
  {
   "cell_type": "code",
   "execution_count": 30,
   "metadata": {},
   "outputs": [
    {
     "name": "stdout",
     "output_type": "stream",
     "text": [
      "c    30\n",
      "d    40\n",
      "dtype: int64\n"
     ]
    }
   ],
   "source": [
    "s = pd.Series([10, 20, 30, 40], index=['a', 'b', 'c', 'd'])\n",
    "print(s[s > 20])  # Output: c    30, d    40\n"
   ]
  },
  {
   "cell_type": "code",
   "execution_count": 31,
   "metadata": {},
   "outputs": [
    {
     "name": "stdout",
     "output_type": "stream",
     "text": [
      "a     10\n",
      "b    500\n",
      "c     30\n",
      "d     40\n",
      "dtype: int64\n"
     ]
    }
   ],
   "source": [
    "s['b'] = 500\n",
    "print(s)\n"
   ]
  },
  {
   "cell_type": "code",
   "execution_count": 32,
   "metadata": {},
   "outputs": [
    {
     "name": "stdout",
     "output_type": "stream",
     "text": [
      "a       10\n",
      "b      500\n",
      "c       30\n",
      "d       40\n",
      "new    600\n",
      "dtype: int64\n",
      "a     10\n",
      "b    500\n",
      "c     30\n",
      "d     40\n",
      "dtype: int64\n"
     ]
    }
   ],
   "source": [
    "s['new'] = 600  # Adding a new element\n",
    "print(s)\n",
    "\n",
    "s = s.drop('new')  # Removing an element\n",
    "print(s)\n"
   ]
  },
  {
   "cell_type": "code",
   "execution_count": 33,
   "metadata": {},
   "outputs": [
    {
     "name": "stdout",
     "output_type": "stream",
     "text": [
      "a    NaN\n",
      "b    6.0\n",
      "c    8.0\n",
      "d    NaN\n",
      "dtype: float64\n"
     ]
    }
   ],
   "source": [
    "s1 = pd.Series([1, 2, 3], index=['a', 'b', 'c'])\n",
    "s2 = pd.Series([4, 5, 6], index=['b', 'c', 'd'])\n",
    "print(s1 + s2)\n"
   ]
  },
  {
   "cell_type": "code",
   "execution_count": 34,
   "metadata": {},
   "outputs": [
    {
     "name": "stdout",
     "output_type": "stream",
     "text": [
      "0    10\n",
      "1    20\n",
      "2    30\n",
      "dtype: int64\n"
     ]
    }
   ],
   "source": [
    "s = pd.Series([1, 2, 3])\n",
    "print(s * 10)  # Each element will be multiplied by 10\n"
   ]
  },
  {
   "cell_type": "code",
   "execution_count": 35,
   "metadata": {},
   "outputs": [
    {
     "name": "stdout",
     "output_type": "stream",
     "text": [
      "x    10\n",
      "y    20\n",
      "z    30\n",
      "dtype: int64\n"
     ]
    }
   ],
   "source": [
    "s = pd.Series([10, 20, 30], index=['x', 'y', 'z'])\n",
    "print(s)\n"
   ]
  },
  {
   "cell_type": "code",
   "execution_count": 36,
   "metadata": {},
   "outputs": [
    {
     "name": "stdout",
     "output_type": "stream",
     "text": [
      "0    10\n",
      "1    20\n",
      "2    30\n",
      "dtype: int64\n"
     ]
    }
   ],
   "source": [
    "s_reset = s.reset_index(drop=True)\n",
    "print(s_reset)\n"
   ]
  },
  {
   "cell_type": "code",
   "execution_count": 37,
   "metadata": {},
   "outputs": [
    {
     "name": "stdout",
     "output_type": "stream",
     "text": [
      "a   NaN\n",
      "b   NaN\n",
      "c   NaN\n",
      "d   NaN\n",
      "dtype: float64\n"
     ]
    }
   ],
   "source": [
    "new_index = ['a', 'b', 'c', 'd']\n",
    "s_reindexed = s.reindex(new_index)\n",
    "print(s_reindexed)\n"
   ]
  },
  {
   "cell_type": "code",
   "execution_count": 38,
   "metadata": {},
   "outputs": [
    {
     "name": "stdout",
     "output_type": "stream",
     "text": [
      "a    0.0\n",
      "b    0.0\n",
      "c    0.0\n",
      "d    0.0\n",
      "dtype: float64\n"
     ]
    }
   ],
   "source": [
    "s_filled = s_reindexed.fillna(0)\n",
    "print(s_filled)\n"
   ]
  },
  {
   "cell_type": "code",
   "execution_count": 39,
   "metadata": {},
   "outputs": [
    {
     "name": "stdout",
     "output_type": "stream",
     "text": [
      "Series([], dtype: float64)\n"
     ]
    }
   ],
   "source": [
    "s_dropped = s_reindexed.dropna()\n",
    "print(s_dropped)\n"
   ]
  },
  {
   "cell_type": "code",
   "execution_count": 42,
   "metadata": {},
   "outputs": [
    {
     "name": "stdout",
     "output_type": "stream",
     "text": [
      "0    1\n",
      "1    2\n",
      "2    3\n",
      "0    4\n",
      "1    5\n",
      "2    6\n",
      "dtype: int64\n"
     ]
    }
   ],
   "source": [
    "s1 = pd.Series([1, 2, 3])\n",
    "s2 = pd.Series([4, 5, 6])\n",
    "combined = pd.concat([s1, s2])\n",
    "print(combined)\n"
   ]
  },
  {
   "cell_type": "code",
   "execution_count": 44,
   "metadata": {},
   "outputs": [
    {
     "name": "stdout",
     "output_type": "stream",
     "text": [
      "0    1\n",
      "1    2\n",
      "2    3\n",
      "0    4\n",
      "1    5\n",
      "2    6\n",
      "dtype: int64\n"
     ]
    }
   ],
   "source": [
    "s_combined = s1._append(s2)\n",
    "print(s_combined)\n"
   ]
  },
  {
   "cell_type": "code",
   "execution_count": 45,
   "metadata": {},
   "outputs": [
    {
     "name": "stdout",
     "output_type": "stream",
     "text": [
      "count    5.000000\n",
      "mean     3.000000\n",
      "std      1.581139\n",
      "min      1.000000\n",
      "25%      2.000000\n",
      "50%      3.000000\n",
      "75%      4.000000\n",
      "max      5.000000\n",
      "dtype: float64\n"
     ]
    }
   ],
   "source": [
    "s = pd.Series([1, 2, 3, 4, 5])\n",
    "print(s.describe())\n"
   ]
  },
  {
   "cell_type": "code",
   "execution_count": 46,
   "metadata": {},
   "outputs": [
    {
     "name": "stdout",
     "output_type": "stream",
     "text": [
      "1.0\n"
     ]
    }
   ],
   "source": [
    "s1 = pd.Series([1, 2, 3])\n",
    "s2 = pd.Series([4, 5, 6])\n",
    "print(s1.corr(s2))  # Output: 1.0 (perfect correlation)\n"
   ]
  },
  {
   "cell_type": "code",
   "execution_count": 47,
   "metadata": {},
   "outputs": [
    {
     "name": "stdout",
     "output_type": "stream",
     "text": [
      "0    1\n",
      "1    4\n",
      "2    9\n",
      "dtype: int64\n"
     ]
    }
   ],
   "source": [
    "s = pd.Series([1, 2, 3])\n",
    "print(s.apply(lambda x: x**2))\n"
   ]
  },
  {
   "cell_type": "code",
   "execution_count": 50,
   "metadata": {},
   "outputs": [
    {
     "name": "stdout",
     "output_type": "stream",
     "text": [
      "[1 2 3]\n"
     ]
    }
   ],
   "source": [
    "s = pd.Series([1, 2, 3])\n",
    "print(s.values)  # Output: [1 2 3]\n"
   ]
  },
  {
   "cell_type": "code",
   "execution_count": 51,
   "metadata": {},
   "outputs": [
    {
     "name": "stdout",
     "output_type": "stream",
     "text": [
      "RangeIndex(start=0, stop=3, step=1)\n"
     ]
    }
   ],
   "source": [
    "print(s.index)\n"
   ]
  },
  {
   "cell_type": "markdown",
   "metadata": {},
   "source": [
    "Here’s a list of topics in Python Pandas:\n",
    "\n",
    "1. Introduction to Pandas\n",
    "2. Series and DataFrames\n",
    "3. Indexing and Selecting Data\n",
    "4. Data Types in Pandas\n",
    "5. Reading and Writing Data (CSV, Excel, SQL, etc.)\n",
    "6. Data Cleaning and Preprocessing\n",
    "7. Handling Missing Data\n",
    "8. Filtering and Sorting Data\n",
    "9. Merging, Joining, and Concatenating Data\n",
    "10. GroupBy Operations\n",
    "11. Aggregation and Descriptive Statistics\n",
    "12. Pivot Tables and Cross Tabulation\n",
    "13. Reshaping Data (Melt, Stack, Unstack)\n",
    "14. Time Series Data\n",
    "15. Working with Dates and Times\n",
    "16. Window Functions (Rolling, Expanding)\n",
    "17. Handling Text Data\n",
    "18. Advanced Indexing and MultiIndex\n",
    "19. Data Visualization with Pandas\n",
    "20. Performance Optimization (Vectorization, Memory Usage)\n",
    "21. Exporting and Importing Data\n",
    "22. Handling Duplicates\n",
    "23. Applying Functions (Apply, Map)\n",
    "24. Categorical Data\n",
    "25. Working with JSON and HTML data\n",
    "26. Working with Large Datasets\n",
    "27. DataFrame Transformations\n",
    "28. Handling Outliers\n",
    "29. Pivot and Unpivot Data\n",
    "30. Time Zone Handling\n",
    "31. String Operations\n",
    "32. Sparse Data Structures\n",
    "33. Advanced Input/Output Functions"
   ]
  }
 ],
 "metadata": {
  "kernelspec": {
   "display_name": "base",
   "language": "python",
   "name": "python3"
  },
  "language_info": {
   "codemirror_mode": {
    "name": "ipython",
    "version": 3
   },
   "file_extension": ".py",
   "mimetype": "text/x-python",
   "name": "python",
   "nbconvert_exporter": "python",
   "pygments_lexer": "ipython3",
   "version": "3.12.4"
  }
 },
 "nbformat": 4,
 "nbformat_minor": 2
}
