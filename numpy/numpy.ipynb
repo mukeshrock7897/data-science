{
 "cells": [
  {
   "cell_type": "markdown",
   "metadata": {},
   "source": [
    "### Airthmatic Operations"
   ]
  },
  {
   "cell_type": "code",
   "execution_count": 7,
   "metadata": {},
   "outputs": [
    {
     "name": "stdout",
     "output_type": "stream",
     "text": [
      "addtion :  [110 220 330]\n",
      "addition  [110 220 330]\n"
     ]
    }
   ],
   "source": [
    "import numpy as np\n",
    "\n",
    "# addition\n",
    "arr1=np.array([100, 200 , 300])\n",
    "arr2=np.array([10,20,30])\n",
    "\n",
    "print(\"addtion : \", arr1+arr2)\n",
    "\n",
    "print(\"addition \", np.add(arr1 , arr2))"
   ]
  },
  {
   "cell_type": "code",
   "execution_count": 8,
   "metadata": {},
   "outputs": [
    {
     "name": "stdout",
     "output_type": "stream",
     "text": [
      "substraction :  [ 90 180 270]\n",
      "substraction  [ 90 180 270]\n"
     ]
    }
   ],
   "source": [
    "import numpy as np\n",
    "\n",
    "# substraction\n",
    "arr1=np.array([100, 200 , 300])\n",
    "arr2=np.array([10,20,30])\n",
    "\n",
    "print(\"substraction : \", arr1-arr2)\n",
    "\n",
    "print(\"substraction \", np.subtract(arr1 , arr2))"
   ]
  },
  {
   "cell_type": "code",
   "execution_count": 9,
   "metadata": {},
   "outputs": [
    {
     "name": "stdout",
     "output_type": "stream",
     "text": [
      "multiplication :  [1000 4000 9000]\n",
      "multiplication  [1000 4000 9000]\n"
     ]
    }
   ],
   "source": [
    "import numpy as np\n",
    "\n",
    "# multiplication\n",
    "arr1=np.array([100, 200 , 300])\n",
    "arr2=np.array([10,20,30])\n",
    "\n",
    "print(\"multiplication : \", arr1*arr2)\n",
    "\n",
    "print(\"multiplication \", np.multiply(arr1 , arr2))"
   ]
  },
  {
   "cell_type": "code",
   "execution_count": 10,
   "metadata": {},
   "outputs": [
    {
     "name": "stdout",
     "output_type": "stream",
     "text": [
      "divide :  [10. 10. 10.]\n",
      "divide  [10. 10. 10.]\n"
     ]
    }
   ],
   "source": [
    "import numpy as np\n",
    "\n",
    "# divide\n",
    "arr1=np.array([100, 200 , 300])\n",
    "arr2=np.array([10,20,30])\n",
    "\n",
    "print(\"divide : \", arr1/arr2)\n",
    "\n",
    "print(\"divide \", np.divide(arr1 , arr2))"
   ]
  },
  {
   "cell_type": "code",
   "execution_count": 11,
   "metadata": {},
   "outputs": [
    {
     "name": "stdout",
     "output_type": "stream",
     "text": [
      "floor division :  [10 10 10]\n",
      "floor division  [10 10 10]\n"
     ]
    }
   ],
   "source": [
    "import numpy as np\n",
    "\n",
    "# floor division\n",
    "arr1=np.array([100, 200 , 300])\n",
    "arr2=np.array([10,20,30])\n",
    "\n",
    "print(\"floor division : \", arr1//arr2)\n",
    "\n",
    "print(\"floor division \", np.floor_divide(arr1 , arr2))"
   ]
  },
  {
   "cell_type": "code",
   "execution_count": 12,
   "metadata": {},
   "outputs": [
    {
     "name": "stdout",
     "output_type": "stream",
     "text": [
      "mod :  [0 0 0]\n",
      "mod  [0 0 0]\n"
     ]
    }
   ],
   "source": [
    "import numpy as np\n",
    "\n",
    "# modulas\n",
    "arr1=np.array([100, 200 , 300])\n",
    "arr2=np.array([10,20,30])\n",
    "\n",
    "print(\"mod : \", arr1%arr2)\n",
    "\n",
    "print(\"mod \", np.mod(arr1 , arr2))"
   ]
  },
  {
   "cell_type": "code",
   "execution_count": 13,
   "metadata": {},
   "outputs": [
    {
     "name": "stdout",
     "output_type": "stream",
     "text": [
      "power :  [ 7766279631452241920  1152921504606846976 -8070450532247928832]\n",
      "power  [ 7766279631452241920  1152921504606846976 -8070450532247928832]\n"
     ]
    }
   ],
   "source": [
    "import numpy as np\n",
    "\n",
    "# power\n",
    "arr1=np.array([100, 200 , 300])\n",
    "arr2=np.array([10,20,30])\n",
    "\n",
    "print(\"power : \", arr1**arr2)\n",
    "\n",
    "print(\"power \", np.power(arr1 , arr2))"
   ]
  },
  {
   "cell_type": "code",
   "execution_count": 14,
   "metadata": {},
   "outputs": [
    {
     "name": "stdout",
     "output_type": "stream",
     "text": [
      "absolute  [100 200 300]\n",
      "absolute  [100 200 300]\n"
     ]
    }
   ],
   "source": [
    "import numpy as np\n",
    "\n",
    "# absolute\n",
    "arr=np.array([-100, -200 , -300])\n",
    "\n",
    "print(\"absolute \", np.abs(arr1 , arr2))\n",
    "print(\"absolute \", np.absolute(arr1 , arr2))"
   ]
  },
  {
   "cell_type": "markdown",
   "metadata": {},
   "source": [
    "###  Trignometric Functions"
   ]
  },
  {
   "cell_type": "code",
   "execution_count": 16,
   "metadata": {},
   "outputs": [
    {
     "name": "stdout",
     "output_type": "stream",
     "text": [
      "sin  [-0.98803162  0.85090352  0.89399666]\n",
      "cos  [ 0.15425145  0.52532199 -0.44807362]\n",
      "tan  [-6.4053312   1.61977519 -1.99520041]\n"
     ]
    }
   ],
   "source": [
    "arr = np.array([30, 45 , 90])\n",
    "print(\"sin \", np.sin(arr))\n",
    "print(\"cos \", np.cos(arr))\n",
    "print(\"tan \", np.tan(arr))"
   ]
  },
  {
   "cell_type": "code",
   "execution_count": 19,
   "metadata": {},
   "outputs": [
    {
     "name": "stdout",
     "output_type": "stream",
     "text": [
      "arcsin  [ 0.         -1.57079633  1.57079633]\n",
      "arccos  [1.57079633 3.14159265 0.        ]\n",
      "arctan  [ 0.         -0.78539816  0.78539816]\n"
     ]
    }
   ],
   "source": [
    "arr = np.array([0, -1 , 1])\n",
    "print(\"arcsin \", np.arcsin(arr))\n",
    "print(\"arccos \", np.arccos(arr))\n",
    "print(\"arctan \", np.arctan(arr))\n",
    "\n",
    "## Note The input should be in the range [-1, 1]"
   ]
  },
  {
   "cell_type": "code",
   "execution_count": 24,
   "metadata": {},
   "outputs": [
    {
     "name": "stdout",
     "output_type": "stream",
     "text": [
      "hypot  5.0\n"
     ]
    }
   ],
   "source": [
    "print(\"hypot \", np.hypot(3, 4))"
   ]
  },
  {
   "cell_type": "code",
   "execution_count": 28,
   "metadata": {},
   "outputs": [
    {
     "name": "stdout",
     "output_type": "stream",
     "text": [
      "radians  3.141592653589793\n"
     ]
    }
   ],
   "source": [
    "\n",
    "print(\"radians \", np.radians(180))"
   ]
  },
  {
   "cell_type": "code",
   "execution_count": 34,
   "metadata": {},
   "outputs": [
    {
     "name": "stdout",
     "output_type": "stream",
     "text": [
      "radians  180.0\n"
     ]
    }
   ],
   "source": [
    "import math\n",
    "print(\"radians \", np.degrees(math.pi))"
   ]
  },
  {
   "cell_type": "markdown",
   "metadata": {},
   "source": [
    "### hyperbolic functions"
   ]
  },
  {
   "cell_type": "code",
   "execution_count": 38,
   "metadata": {},
   "outputs": [
    {
     "name": "stdout",
     "output_type": "stream",
     "text": [
      "sinh 1.1752011936438014\n",
      "cosh 1.5430806348152437\n",
      "tanh 0.7615941559557649\n",
      "arcsinh 0.881373587019543\n",
      "arccosh nan\n",
      "arctanh -inf\n"
     ]
    },
    {
     "name": "stderr",
     "output_type": "stream",
     "text": [
      "/var/folders/5l/hhtzrw4n6kl1cymh7srrsy1c0000gn/T/ipykernel_15910/3682507911.py:9: RuntimeWarning: invalid value encountered in arccosh\n",
      "  print(\"arccosh\", np.arccosh(0))\n",
      "/var/folders/5l/hhtzrw4n6kl1cymh7srrsy1c0000gn/T/ipykernel_15910/3682507911.py:10: RuntimeWarning: divide by zero encountered in arctanh\n",
      "  print(\"arctanh\", np.arctanh(-1))\n"
     ]
    }
   ],
   "source": [
    "# hyperbolic functions\n",
    "\n",
    "print(\"sinh\", np.sinh(1))\n",
    "print(\"cosh\", np.cosh(1))\n",
    "print(\"tanh\", np.tanh(1))\n",
    "\n",
    "\n",
    "print(\"arcsinh\", np.arcsinh(1))\n",
    "print(\"arccosh\", np.arccosh(0))\n",
    "print(\"arctanh\", np.arctanh(-1))"
   ]
  },
  {
   "cell_type": "markdown",
   "metadata": {},
   "source": [
    "### Exponential and Logarithmic Functions"
   ]
  },
  {
   "cell_type": "code",
   "execution_count": 40,
   "metadata": {},
   "outputs": [
    {
     "name": "stdout",
     "output_type": "stream",
     "text": [
      "exp  [2.20264658e+04 4.85165195e+08]\n",
      "exp2  [1.024000e+03 1.048576e+06]\n",
      "expm1  [2.20254658e+04 4.85165194e+08]\n",
      "\n",
      "\n",
      "\n",
      "log  [2.30258509 2.99573227]\n",
      "log2  [3.32192809 4.32192809]\n",
      "log10  [1.      1.30103]\n",
      "log1p  [2.39789527 3.04452244]\n"
     ]
    }
   ],
   "source": [
    "arr=np.array([10,20])\n",
    "# exp \n",
    "print(\"exp \", np.exp(arr))\n",
    "print(\"exp2 \", np.exp2(arr))\n",
    "print(\"expm1 \", np.expm1(arr))\n",
    "\n",
    "print(\"\\n\\n\")\n",
    "# logs\n",
    "print(\"log \", np.log(arr))\n",
    "print(\"log2 \", np.log2(arr))\n",
    "print(\"log10 \", np.log10(arr))\n",
    "print(\"log1p \", np.log1p(arr))\n",
    "\n",
    "\n"
   ]
  },
  {
   "cell_type": "markdown",
   "metadata": {},
   "source": [
    "## rounding functions\n"
   ]
  },
  {
   "cell_type": "code",
   "execution_count": 41,
   "metadata": {},
   "outputs": [
    {
     "name": "stdout",
     "output_type": "stream",
     "text": [
      "round  [2. 2. 4.]\n",
      "around  [2. 2. 4.]\n",
      "rint  [2. 2. 4.]\n",
      "floor  [1. 2. 4.]\n",
      "ceil  [2. 3. 5.]\n",
      "fix  [1. 2. 4.]\n",
      "trunc  [1. 2. 4.]\n"
     ]
    }
   ],
   "source": [
    "arr=np.array([1.72 , 2.439 , 4.123])\n",
    "print(\"round \", np.round(arr))\n",
    "print(\"around \", np.around(arr))\n",
    "print(\"rint \", np.rint(arr))\n",
    "print(\"floor \", np.floor(arr))\n",
    "print(\"ceil \", np.ceil(arr))\n",
    "print(\"fix \", np.fix(arr))\n",
    "print(\"trunc \", np.trunc(arr))\n",
    "\n",
    "\n"
   ]
  },
  {
   "cell_type": "markdown",
   "metadata": {},
   "source": [
    "### Statiscal Functions"
   ]
  },
  {
   "cell_type": "code",
   "execution_count": 46,
   "metadata": {},
   "outputs": [
    {
     "name": "stdout",
     "output_type": "stream",
     "text": [
      "mean  5.5\n",
      "median  5.5\n",
      "mode  ModeResult(mode=1, count=1)\n",
      "stdandard deviation  2.8722813232690143\n",
      "min  1\n",
      "arg min  0\n",
      "max  10\n",
      "arg max  9\n",
      "sum  55\n",
      "product  3628800\n",
      "cumulative sum  [ 1  3  6 10 15 21 28 36 45 55]\n",
      "cumulative prod  [      1       2       6      24     120     720    5040   40320  362880\n",
      " 3628800]\n",
      "percentile  5.5\n"
     ]
    }
   ],
   "source": [
    "from scipy import stats\n",
    "\n",
    "arr=np.array([1,2,3,4,5,6,7,8,9,10])\n",
    "\n",
    "print(\"mean \",np.mean(arr))\n",
    "print(\"median \",np.median(arr))\n",
    "print(\"mode \", stats.mode(arr))\n",
    "print(\"stdandard deviation \",np.std(arr))\n",
    "print(\"min \",np.min(arr))\n",
    "print(\"arg min \",np.argmin(arr))\n",
    "print(\"max \",np.max(arr))\n",
    "print(\"arg max \",np.argmax(arr))\n",
    "print(\"sum \",np.sum(arr))\n",
    "print(\"product \",np.prod(arr))\n",
    "print(\"cumulative sum \",np.cumsum(arr))\n",
    "print(\"cumulative prod \",np.cumprod(arr))\n",
    "print(\"percentile \",np.percentile(arr, 50))\n"
   ]
  },
  {
   "cell_type": "markdown",
   "metadata": {},
   "source": [
    "### Array Manipulations"
   ]
  },
  {
   "cell_type": "code",
   "execution_count": 88,
   "metadata": {},
   "outputs": [
    {
     "name": "stdout",
     "output_type": "stream",
     "text": [
      "orginal array  [1 2 3 4 5 6]\n",
      "reshape of array [[1 2 3]\n",
      " [4 5 6]]\n",
      "resize of array [[1 2]\n",
      " [3 4]\n",
      " [5 6]]\n",
      "ravel of array [1 2 3 4 5 6]\n",
      "flatten of array [1 2 3 4 5 6]\n",
      "transpose of array [1 2 3 4 5 6]\n",
      "swap indexes  [[1]\n",
      " [2]\n",
      " [3]]\n",
      "roll axis  [[1]\n",
      " [2]\n",
      " [3]]\n",
      "concatenate array  [[10 20]\n",
      " [30 40]\n",
      " [ 1  2]\n",
      " [ 3  4]]\n",
      "\n",
      "\n",
      "\n",
      "vstack  [[10 20]\n",
      " [30 40]\n",
      " [ 1  2]\n",
      " [ 3  4]]\n",
      "\n",
      "\n",
      "\n",
      "hstack  [[10 20  1  2]\n",
      " [30 40  3  4]]\n",
      "\n",
      "\n",
      "\n",
      "dstack  [[[10  1]\n",
      "  [20  2]]\n",
      "\n",
      " [[30  3]\n",
      "  [40  4]]]\n",
      "\n",
      "\n",
      "\n",
      "dstack  [[[10  1]\n",
      "  [20  2]]\n",
      "\n",
      " [[30  3]\n",
      "  [40  4]]]\n",
      "\n",
      "\n",
      "\n",
      "columns stack  [[10 20  1  2]\n",
      " [30 40  3  4]]\n"
     ]
    }
   ],
   "source": [
    "arr= np.array([1,2,3,4,5,6])\n",
    "# changing the array shape\n",
    "print(\"orginal array \", arr)\n",
    "print(\"reshape of array\", arr.reshape(2, 3))\n",
    "print(\"resize of array\", np.resize(arr ,(3, 2)))\n",
    "print(\"ravel of array\", np.ravel(arr)) # make the changes in original array\n",
    "print(\"flatten of array\", arr.flatten()) # make the changes in copy array\n",
    "\n",
    "new_arr = np.array([[1,2,3], [4,5,6]])\n",
    "print(\"transpose of array\", np.transpose(arr)) # make the changes in copy array\n",
    "\n",
    "arr = np.array([[1, 2, 3]])\n",
    "swapped = np.swapaxes(arr, 0, 1)\n",
    "print(\"swap indexes \" , swapped)\n",
    "\n",
    "print(\"roll axis \", np.rollaxis(arr, 1))\n",
    "\n",
    "\n",
    "# join the array\n",
    "\n",
    "arr1=np.array([[10,20],[30,40]])\n",
    "arr2=np.array([[1,2],[3,4]])\n",
    "print(\"concatenate array \",np.concatenate((arr1 , arr2), axis=0))\n",
    "\n",
    "print(\"\\n\\n\")\n",
    "print(\"vstack \",np.vstack((arr1, arr2)))\n",
    "\n",
    "print(\"\\n\\n\")\n",
    "print(\"hstack \",np.hstack((arr1, arr2)))\n",
    "\n",
    "\n",
    "print(\"\\n\\n\")\n",
    "print(\"dstack \",np.dstack((arr1, arr2)))\n",
    "\n",
    "\n",
    "print(\"\\n\\n\")\n",
    "print(\"dstack \",np.dstack((arr1, arr2)))\n",
    "\n",
    "print(\"\\n\\n\")\n",
    "print(\"columns stack \",np.column_stack((arr1, arr2)))"
   ]
  },
  {
   "cell_type": "code",
   "execution_count": 103,
   "metadata": {},
   "outputs": [
    {
     "name": "stdout",
     "output_type": "stream",
     "text": [
      "splitting array  [array([1, 2, 3]), array([4, 5, 6])]\n",
      "array split  [array([1, 2]), array([3, 4]), array([5]), array([6])]\n",
      "hsplit  [array([1, 2]), array([3, 4]), array([5, 6])]\n",
      "vsplit   [array([[1, 2]]), array([[3, 4]]), array([[5, 6]])]\n"
     ]
    }
   ],
   "source": [
    "#splitting the array\n",
    "\n",
    "arr=np.array([1,2,3,4,5,6])\n",
    "print(\"splitting array \", np.split(arr,2))\n",
    "\n",
    "print(\"array split \", np.array_split(arr,4))\n",
    "\n",
    "print(\"hsplit \", np.hsplit(arr,3))\n",
    "\n",
    "arr=np.array([[1,2],[3,4],[5,6]])\n",
    "print(\"vsplit  \", np.vsplit(arr,3))\n"
   ]
  },
  {
   "cell_type": "code",
   "execution_count": 118,
   "metadata": {},
   "outputs": [
    {
     "name": "stdout",
     "output_type": "stream",
     "text": [
      "append  [1 2 3 4 5 6]\n",
      "insert  [1 2 3 4 7 8]\n",
      "delete   [1 2 3]\n",
      "original array  [1 2 3 4]\n",
      "resize array [1 2 3]\n"
     ]
    }
   ],
   "source": [
    "# adding and removing the elements \n",
    "arr=np.array([1,2,3,4])\n",
    "print(\"append \", np.append(arr, [5,6]))\n",
    "\n",
    "print(\"insert \", np.insert(arr, 4, [7,8]))\n",
    "\n",
    "print(\"delete  \", np.delete(arr,[3])) # delete the element using its index\n",
    "\n",
    "print(\"original array \", arr)\n",
    "print(\"resize array\", np.resize(arr, 3))\n",
    "\n",
    "\n",
    "\n"
   ]
  },
  {
   "cell_type": "code",
   "execution_count": 137,
   "metadata": {},
   "outputs": [
    {
     "name": "stdout",
     "output_type": "stream",
     "text": [
      "orginal array  [[1 2]\n",
      " [3 4]]\n",
      "copied array  [[1 2]\n",
      " [3 4]]\n",
      "orginal array  [[[1 2 3]]\n",
      "\n",
      " [[4 5 6]]]\n",
      "orginal array shape (2, 1, 3)\n",
      "squeeue the array  [[1 2 3]\n",
      " [4 5 6]]\n",
      "squeeue the array shape (2, 3)\n",
      "flip array  [[4 3]\n",
      " [2 1]]\n",
      "\n",
      "\n",
      "\n",
      "fliplr array  [[2 1]\n",
      " [4 3]]\n",
      "\n",
      "\n",
      "\n",
      "flipud array  [[3 4]\n",
      " [1 2]]\n",
      "\n",
      "\n",
      "\n",
      "rot90 array  [[2 4]\n",
      " [1 3]]\n",
      "\n",
      "\n",
      "\n"
     ]
    }
   ],
   "source": [
    "# other functions\n",
    "\n",
    "arr=np.array([[1,2],[3,4]])\n",
    "print(\"orginal array \", arr)\n",
    "copied_array = np.copy(arr)\n",
    "print(\"copied array \", copied_array)\n",
    "\n",
    "\n",
    "arr = np.array([[[1, 2, 3]], [[4, 5, 6]]])\n",
    "print(\"orginal array \", arr)\n",
    "print(\"orginal array shape\", arr.shape)\n",
    "print(\"squeeue the array \", np.squeeze(arr, axis=1))\n",
    "print(\"squeeue the array shape\", np.squeeze(arr, axis=1).shape)\n",
    "\n",
    "#rotating the array\n",
    "arr=np.array([[1,2],[3,4]])\n",
    "print(\"flip array \", np.flip(arr))\n",
    "print(\"\\n\\n\")\n",
    "\n",
    "arr=np.array([[1,2],[3,4]])\n",
    "\n",
    "print(\"fliplr array \", np.fliplr(arr))\n",
    "print(\"\\n\\n\")\n",
    "\n",
    "\n",
    "arr=np.array([[1,2],[3,4]])\n",
    "\n",
    "print(\"flipud array \", np.flipud(arr))\n",
    "print(\"\\n\\n\")\n",
    "\n",
    "arr=np.array([[1,2],[3,4]])\n",
    "\n",
    "print(\"rot90 array \", np.rot90(arr))\n",
    "print(\"\\n\\n\")\n",
    "\n",
    "\n",
    "\n"
   ]
  },
  {
   "cell_type": "markdown",
   "metadata": {},
   "source": [
    "# Array Indexing and sorting\n",
    "\n",
    "## Indexing\n"
   ]
  },
  {
   "cell_type": "code",
   "execution_count": 147,
   "metadata": {},
   "outputs": [
    {
     "name": "stdout",
     "output_type": "stream",
     "text": [
      "slicing 1 the array :  [2 4]\n",
      "slicing 2 the array :  [1 2]\n",
      "\n",
      "\n",
      "\n",
      "\n",
      "integer indexing :  2\n",
      "boolean indexing  [3 4 5]\n"
     ]
    }
   ],
   "source": [
    "arr = np.array([1,2,3,4,5])\n",
    "print(\"slicing 1 the array : \", arr[1:4:2])\n",
    "print(\"slicing 2 the array : \", arr[:2])\n",
    "\n",
    "print(\"\\n\\n\\n\")\n",
    "\n",
    "print(\"integer indexing : \", arr[1])\n",
    "\n",
    "boolean = arr>2\n",
    "\n",
    "print(\"boolean indexing \", arr[boolean])\n",
    "\n"
   ]
  },
  {
   "cell_type": "markdown",
   "metadata": {},
   "source": [
    "## Distributions \n",
    "arr = np.array([1,2,3,4,5])\n",
    "\n",
    "# normal distribution\n"
   ]
  },
  {
   "cell_type": "code",
   "execution_count": 149,
   "metadata": {},
   "outputs": [
    {
     "data": {
      "image/png": "[encoded data removed]",
      "text/plain": [
       "<Figure size 800x600 with 1 Axes>"
      ]
     },
     "metadata": {},
     "output_type": "display_data"
    }
   ],
   "source": [
    "import numpy as np\n",
    "import matplotlib.pyplot as plt\n",
    "\n",
    "# Generate random data from a normal distribution\n",
    "mean = 0.0  # mean of the distribution\n",
    "stddev = 1.0  # standard deviation of the distribution\n",
    "data = np.random.normal(loc=mean, scale=stddev, size=1000)  # 1000 random values\n",
    "\n",
    "# Create a histogram to visualize the distribution\n",
    "plt.figure(figsize=(8, 6))\n",
    "plt.hist(data, bins=30, density=True, alpha=0.6, color='b')\n",
    "\n",
    "# Add labels and a title\n",
    "plt.title('Histogram of Normal Distribution (mean=0, stddev=1)')\n",
    "plt.xlabel('Value')\n",
    "plt.ylabel('Density')\n",
    "\n",
    "# Plot the theoretical normal distribution curve for reference\n",
    "xmin, xmax = plt.xlim()\n",
    "x = np.linspace(xmin, xmax, 100)\n",
    "p = (1 / (np.sqrt(2 * np.pi) * stddev)) * np.exp(-0.5 * ((x - mean) / stddev) ** 2)\n",
    "plt.plot(x, p, 'k', linewidth=2)\n",
    "\n",
    "# Show the plot\n",
    "plt.show()"
   ]
  },
  {
   "cell_type": "markdown",
   "metadata": {},
   "source": [
    "## **Explanation:**\n",
    "* **Generating data:** We generate 1000 random values from a normal distribution with mean 0 and standard deviation 1.\n",
    "* **Histogram:** We plot the histogram of the data to visualize the distribution. The bins=30 argument specifies the number of bins in the histogram.\n",
    "* **Density=True:** This argument normalizes the histogram to display the probability density.\n",
    "* **Overlaying the theoretical distribution:** We also plot the theoretical curve of the normal distribution using the formula for the probability density function (PDF) of the normal distribution."
   ]
  },
  {
   "cell_type": "code",
   "execution_count": 151,
   "metadata": {},
   "outputs": [
    {
     "name": "stdout",
     "output_type": "stream",
     "text": [
      "lognormal_dist  [[0.84232267 2.72118925 4.88552378]\n",
      " [1.41987394 0.81279997 1.57943016]]\n",
      "\n",
      "\n",
      "\n",
      "exponential_dist [[5.09982875 1.64257434 0.57955187]\n",
      " [1.63281455 1.63129258 0.24328361]]\n",
      "\n",
      "\n",
      "\n",
      "gamma_dist [[2.64374888 5.27174886 0.69536777]\n",
      " [4.73570869 0.92370184 1.51127611]]\n",
      "\n",
      "\n",
      "\n",
      "beta_dist [[0.78146666 0.80876401 0.49845993]\n",
      " [0.18981661 0.48355486 0.15973342]]\n",
      "\n",
      "\n",
      "\n",
      "binomial_dist [[6 6 7]\n",
      " [3 6 5]]\n",
      "\n",
      "\n",
      "\n",
      "poisson_dist [[1 1 2]\n",
      " [2 3 1]]\n",
      "\n",
      "\n",
      "\n"
     ]
    }
   ],
   "source": [
    "lognormal_dist = np.random.lognormal(mean=0.0, sigma=1.0, size=(2, 3))\n",
    "print(\"lognormal_dist \",lognormal_dist)\n",
    "\n",
    "print(\"\\n\\n\")\n",
    "\n",
    "exponential_dist = np.random.exponential(scale=1.0, size=(2, 3))\n",
    "print(\"exponential_dist\",exponential_dist)\n",
    "\n",
    "print(\"\\n\\n\")\n",
    "\n",
    "gamma_dist = np.random.gamma(shape=2.0, scale=1.0, size=(2, 3))\n",
    "print(\"gamma_dist\",gamma_dist)\n",
    "\n",
    "print(\"\\n\\n\")\n",
    "\n",
    "beta_dist = np.random.beta(a=0.5, b=0.5, size=(2, 3))\n",
    "print(\"beta_dist\",beta_dist)\n",
    "\n",
    "print(\"\\n\\n\")\n",
    "\n",
    "binomial_dist = np.random.binomial(n=10, p=0.5, size=(2, 3))\n",
    "print(\"binomial_dist\",binomial_dist)\n",
    "\n",
    "print(\"\\n\\n\")\n",
    "\n",
    "poisson_dist = np.random.poisson(lam=3.0, size=(2, 3))\n",
    "print(\"poisson_dist\",poisson_dist)\n",
    "\n",
    "print(\"\\n\\n\")\n",
    "\n"
   ]
  },
  {
   "cell_type": "markdown",
   "metadata": {},
   "source": [
    "# Searching and Sorting "
   ]
  },
  {
   "cell_type": "code",
   "execution_count": 178,
   "metadata": {},
   "outputs": [
    {
     "name": "stdout",
     "output_type": "stream",
     "text": [
      "sorting the array  [[1 2 3]\n",
      " [4 5 6]]\n",
      "arg sorting the array  [[2 1 0]\n",
      " [2 1 0]]\n",
      "lex sorting the array  [2 1 0]\n",
      "partition array  [2 1 3 4 5]\n",
      "arg partition array  [1 2 0 3 4]\n",
      "indices to insert the new data [2]\n",
      "[1 2 3 4 5]\n"
     ]
    }
   ],
   "source": [
    "# sorting \n",
    "\n",
    "arr = np.array([[3, 2, 1], [6, 5, 4]])\n",
    "\n",
    "print(\"sorting the array \", np.sort(arr , axis=1)) # it sorting the same array with same dimension \n",
    "\n",
    "arr = np.array([[3, 2, 1], [6, 5, 4]])\n",
    "print(\"arg sorting the array \", np.argsort(arr , axis=1)) # it sorting the same array and give the sorted index location of element\n",
    "\n",
    "arr = np.array([[3, 2, 1]])\n",
    "print(\"lex sorting the array \", np.lexsort(arr)) # it lex sorting the same array and give the sorted sequence of index location of element\n",
    "\n",
    "\n",
    "arr = np.array([3, 2, 1, 4 , 5])\n",
    "print(\"partition array \", np.partition(arr, 3))\n",
    "\n",
    "arr = np.array([3, 2, 1, 4 , 5])\n",
    "print(\"arg partition array \", np.argpartition(arr, 3))\n",
    "\n",
    "arr = np.array([1, 2, 4, 5])\n",
    "indices = np.searchsorted(arr, [3])\n",
    "print(\"indices to insert the new data\",indices) # tells you the place to keep new data in sorting \n",
    "\n",
    "# now if you insert the data at index 2 you will git it\n",
    "ins = np.insert(arr , 2 , [3])\n",
    "print(ins)"
   ]
  },
  {
   "cell_type": "code",
   "execution_count": 182,
   "metadata": {},
   "outputs": [
    {
     "name": "stdout",
     "output_type": "stream",
     "text": [
      "minimum value of array  1\n",
      "maximum value of array  5\n",
      "arg minimum value of array  4\n",
      "arg maximum value of array  4\n",
      "arg minimum nan value of array  6\n",
      "arg maximum nan value of array  4\n",
      "conditional searching of array  (array([3, 4]),)\n"
     ]
    }
   ],
   "source": [
    "# searching \n",
    "arr = np.array([3, 2, 1, 4 , 5 ])\n",
    "print(\"minimum value of array \", np.min(arr))\n",
    "\n",
    "print(\"maximum value of array \", np.max(arr))\n",
    "\n",
    "print(\"arg minimum value of array \", np.argmax(arr))\n",
    "\n",
    "print(\"arg maximum value of array \", np.argmax(arr))\n",
    "\n",
    "# defining the nan values into array\n",
    "arr = np.array([3, 2, 1, 4 , 5 , np.nan , 0])\n",
    "print(\"arg minimum nan value of array \", np.nanargmin(arr))\n",
    "\n",
    "print(\"arg maximum nan value of array \", np.nanargmax(arr))\n",
    "\n",
    "print(\"conditional searching of array \", np.where(arr>3))\n"
   ]
  },
  {
   "cell_type": "code",
   "execution_count": 185,
   "metadata": {},
   "outputs": [
    {
     "name": "stdout",
     "output_type": "stream",
     "text": [
      "[[10 10 10 10 10 10]\n",
      " [10 10 10 10 10 10]\n",
      " [10 10  1  2 10 10]\n",
      " [10 10  3  4 10 10]\n",
      " [10 10 10 10 10 10]\n",
      " [10 10 10 10 10 10]]\n"
     ]
    }
   ],
   "source": [
    "\n",
    "arr = np.array([[1, 2], [3, 4]])\n",
    "padded = np.pad(arr, pad_width=2, mode='constant', constant_values=0)\n",
    "print(padded)"
   ]
  },
  {
   "cell_type": "code",
   "execution_count": 188,
   "metadata": {},
   "outputs": [
    {
     "name": "stdout",
     "output_type": "stream",
     "text": [
      "int64\n"
     ]
    }
   ],
   "source": [
    "arr = np.array([[1, 2], [3, 4]])\n",
    "print(arr.dtype)"
   ]
  },
  {
   "cell_type": "code",
   "execution_count": 189,
   "metadata": {},
   "outputs": [
    {
     "name": "stdout",
     "output_type": "stream",
     "text": [
      "[1. 2. 3. 4.]\n"
     ]
    }
   ],
   "source": [
    "dtype =np.dtype(float)\n",
    "arr=np.array([1,2,3,4], dtype=dtype)\n",
    "print(arr)"
   ]
  },
  {
   "cell_type": "code",
   "execution_count": 190,
   "metadata": {},
   "outputs": [
    {
     "name": "stdout",
     "output_type": "stream",
     "text": [
      "float64\n"
     ]
    },
    {
     "name": "stderr",
     "output_type": "stream",
     "text": [
      "/var/folders/5l/hhtzrw4n6kl1cymh7srrsy1c0000gn/T/ipykernel_15910/369733943.py:10: DeprecationWarning: np.find_common_type is deprecated.  Please use `np.result_type` or `np.promote_types`.\n",
      "See https://numpy.org/devdocs/release/1.25.0-notes.html and the docs for more information.  (Deprecated NumPy 1.25)\n",
      "  common_type = np.find_common_type([arr1.dtype, arr2.dtype, arr3.dtype], [])\n"
     ]
    }
   ],
   "source": [
    "import numpy as np\n",
    "\n",
    "# Define arrays of different types\n",
    "arr1 = np.array([1, 2, 3], dtype=np.int32)\n",
    "arr2 = np.array([1.5, 2.5, 3.5], dtype=np.float64)\n",
    "arr3 = np.array([1, 2, 3], dtype=np.int64)\n",
    "\n",
    "\n",
    "# Find the common type\n",
    "common_type = np.find_common_type([arr1.dtype, arr2.dtype, arr3.dtype], [])\n",
    "print(common_type)  # Output: float64\n"
   ]
  },
  {
   "cell_type": "code",
   "execution_count": 191,
   "metadata": {},
   "outputs": [
    {
     "name": "stdout",
     "output_type": "stream",
     "text": [
      "Collecting numpy_financial\n",
      "  Downloading numpy_financial-1.0.0-py3-none-any.whl.metadata (2.2 kB)\n",
      "Requirement already satisfied: numpy>=1.15 in /opt/anaconda3/lib/python3.12/site-packages (from numpy_financial) (1.26.4)\n",
      "Downloading numpy_financial-1.0.0-py3-none-any.whl (14 kB)\n",
      "Installing collected packages: numpy_financial\n",
      "Successfully installed numpy_financial-1.0.0\n",
      "28866.83880332326\n"
     ]
    }
   ],
   "source": [
    "!pip install numpy_financial\n",
    "import numpy_financial as npf\n",
    "\n",
    "# Future value\n",
    "fv = npf.fv(rate=0.05, nper=10, pmt=-1000, pv=-10000)\n",
    "print(fv)  # Output: 16288.946267774414"
   ]
  },
  {
   "cell_type": "code",
   "execution_count": 199,
   "metadata": {},
   "outputs": [
    {
     "name": "stdout",
     "output_type": "stream",
     "text": [
      "a    10\n",
      "b    20\n",
      "c    30\n",
      "d    40\n",
      "dtype: int64\n"
     ]
    }
   ],
   "source": [
    "import pandas as pd\n",
    "s = pd.Series((10, 20, 30, 40), index=['a', 'b', 'c', 'd'])\n",
    "print(s)"
   ]
  },
  {
   "cell_type": "code",
   "execution_count": 194,
   "metadata": {},
   "outputs": [
    {
     "name": "stdout",
     "output_type": "stream",
     "text": [
      "a    100\n",
      "b     20\n",
      "c     30\n",
      "d     40\n",
      "dtype: int64\n"
     ]
    }
   ],
   "source": [
    "s['a']=100\n",
    "print(s)"
   ]
  },
  {
   "cell_type": "code",
   "execution_count": 195,
   "metadata": {},
   "outputs": [
    {
     "name": "stdout",
     "output_type": "stream",
     "text": [
      "a       100\n",
      "b        20\n",
      "c        30\n",
      "d        40\n",
      "new    1000\n",
      "dtype: int64\n"
     ]
    }
   ],
   "source": [
    "s['new']=1000\n",
    "print(s)"
   ]
  },
  {
   "cell_type": "code",
   "execution_count": 196,
   "metadata": {},
   "outputs": [
    {
     "data": {
      "text/plain": [
       "a    100\n",
       "b     20\n",
       "c     30\n",
       "d     40\n",
       "dtype: int64"
      ]
     },
     "execution_count": 196,
     "metadata": {},
     "output_type": "execute_result"
    }
   ],
   "source": [
    "s.drop('new')"
   ]
  },
  {
   "cell_type": "code",
   "execution_count": 198,
   "metadata": {},
   "outputs": [
    {
     "name": "stdout",
     "output_type": "stream",
     "text": [
      "a    m\n",
      "b    u\n",
      "c    k\n",
      "d    e\n",
      "e    s\n",
      "f    h\n",
      "dtype: object\n"
     ]
    }
   ],
   "source": [
    "input = \"mukesh\"\n",
    "s = pd.Series(list(input), index=['a', 'b', 'c', 'd', 'e', 'f'])\n",
    "print(s)\n"
   ]
  },
  {
   "cell_type": "code",
   "execution_count": 201,
   "metadata": {},
   "outputs": [
    {
     "ename": "AttributeError",
     "evalue": "'Series' object has no attribute 'set_index'",
     "output_type": "error",
     "traceback": [
      "\u001b[0;31m---------------------------------------------------------------------------\u001b[0m",
      "\u001b[0;31mAttributeError\u001b[0m                            Traceback (most recent call last)",
      "\u001b[0;32m/var/folders/5l/hhtzrw4n6kl1cymh7srrsy1c0000gn/T/ipykernel_15910/2362301848.py\u001b[0m in \u001b[0;36m?\u001b[0;34m()\u001b[0m\n\u001b[1;32m      1\u001b[0m \u001b[0ms\u001b[0m \u001b[0;34m=\u001b[0m \u001b[0mpd\u001b[0m\u001b[0;34m.\u001b[0m\u001b[0mSeries\u001b[0m\u001b[0;34m(\u001b[0m\u001b[0;34m[\u001b[0m\u001b[0;36m10\u001b[0m\u001b[0;34m,\u001b[0m \u001b[0;36m20\u001b[0m\u001b[0;34m,\u001b[0m \u001b[0;36m30\u001b[0m\u001b[0;34m]\u001b[0m\u001b[0;34m)\u001b[0m\u001b[0;34m\u001b[0m\u001b[0;34m\u001b[0m\u001b[0m\n\u001b[0;32m----> 2\u001b[0;31m \u001b[0ms\u001b[0m\u001b[0;34m.\u001b[0m\u001b[0mset_index\u001b[0m\u001b[0;34m(\u001b[0m\u001b[0;34m[\u001b[0m\u001b[0;34m'a'\u001b[0m\u001b[0;34m,\u001b[0m \u001b[0;34m'b'\u001b[0m\u001b[0;34m,\u001b[0m \u001b[0;34m'c'\u001b[0m\u001b[0;34m,\u001b[0m \u001b[0;34m'd'\u001b[0m\u001b[0;34m]\u001b[0m\u001b[0;34m)\u001b[0m\u001b[0;34m\u001b[0m\u001b[0;34m\u001b[0m\u001b[0m\n\u001b[0m\u001b[1;32m      3\u001b[0m \u001b[0mprint\u001b[0m\u001b[0;34m(\u001b[0m\u001b[0ms\u001b[0m\u001b[0;34m)\u001b[0m\u001b[0;34m\u001b[0m\u001b[0;34m\u001b[0m\u001b[0m\n",
      "\u001b[0;32m/opt/anaconda3/lib/python3.12/site-packages/pandas/core/generic.py\u001b[0m in \u001b[0;36m?\u001b[0;34m(self, name)\u001b[0m\n\u001b[1;32m   6295\u001b[0m             \u001b[0;32mand\u001b[0m \u001b[0mname\u001b[0m \u001b[0;32mnot\u001b[0m \u001b[0;32min\u001b[0m \u001b[0mself\u001b[0m\u001b[0;34m.\u001b[0m\u001b[0m_accessors\u001b[0m\u001b[0;34m\u001b[0m\u001b[0;34m\u001b[0m\u001b[0m\n\u001b[1;32m   6296\u001b[0m             \u001b[0;32mand\u001b[0m \u001b[0mself\u001b[0m\u001b[0;34m.\u001b[0m\u001b[0m_info_axis\u001b[0m\u001b[0;34m.\u001b[0m\u001b[0m_can_hold_identifiers_and_holds_name\u001b[0m\u001b[0;34m(\u001b[0m\u001b[0mname\u001b[0m\u001b[0;34m)\u001b[0m\u001b[0;34m\u001b[0m\u001b[0;34m\u001b[0m\u001b[0m\n\u001b[1;32m   6297\u001b[0m         \u001b[0;34m)\u001b[0m\u001b[0;34m:\u001b[0m\u001b[0;34m\u001b[0m\u001b[0;34m\u001b[0m\u001b[0m\n\u001b[1;32m   6298\u001b[0m             \u001b[0;32mreturn\u001b[0m \u001b[0mself\u001b[0m\u001b[0;34m[\u001b[0m\u001b[0mname\u001b[0m\u001b[0;34m]\u001b[0m\u001b[0;34m\u001b[0m\u001b[0;34m\u001b[0m\u001b[0m\n\u001b[0;32m-> 6299\u001b[0;31m         \u001b[0;32mreturn\u001b[0m \u001b[0mobject\u001b[0m\u001b[0;34m.\u001b[0m\u001b[0m__getattribute__\u001b[0m\u001b[0;34m(\u001b[0m\u001b[0mself\u001b[0m\u001b[0;34m,\u001b[0m \u001b[0mname\u001b[0m\u001b[0;34m)\u001b[0m\u001b[0;34m\u001b[0m\u001b[0;34m\u001b[0m\u001b[0m\n\u001b[0m",
      "\u001b[0;31mAttributeError\u001b[0m: 'Series' object has no attribute 'set_index'"
     ]
    }
   ],
   "source": [
    "s = pd.Series([10, 20, 30])\n",
    "s.set_index(['a', 'b', 'c', 'd'])\n",
    "print(s)"
   ]
  },
  {
   "cell_type": "code",
   "execution_count": 202,
   "metadata": {},
   "outputs": [
    {
     "name": "stdout",
     "output_type": "stream",
     "text": [
      "0    1\n",
      "1    2\n",
      "2    3\n",
      "0    4\n",
      "1    5\n",
      "2    6\n",
      "dtype: int64\n"
     ]
    }
   ],
   "source": [
    "s1 = pd.Series([1, 2, 3])\n",
    "s2 = pd.Series([4, 5, 6])\n",
    "combined = pd.concat([s1, s2])\n",
    "print(combined)"
   ]
  },
  {
   "cell_type": "code",
   "execution_count": 204,
   "metadata": {},
   "outputs": [
    {
     "name": "stdout",
     "output_type": "stream",
     "text": [
      "0    1\n",
      "1    2\n",
      "2    3\n",
      "0    4\n",
      "1    5\n",
      "2    6\n",
      "dtype: int64\n"
     ]
    }
   ],
   "source": [
    "s_combined = s1._append(s2)\n",
    "print(s_combined)"
   ]
  },
  {
   "cell_type": "code",
   "execution_count": 205,
   "metadata": {},
   "outputs": [
    {
     "name": "stdout",
     "output_type": "stream",
     "text": [
      "[1 2 3]\n"
     ]
    }
   ],
   "source": [
    "s = pd.Series([1, 2, 3])\n",
    "print(s.values)  # Output: [1 2 3]\n"
   ]
  },
  {
   "cell_type": "code",
   "execution_count": 206,
   "metadata": {},
   "outputs": [
    {
     "name": "stdout",
     "output_type": "stream",
     "text": [
      "RangeIndex(start=0, stop=3, step=1)\n"
     ]
    }
   ],
   "source": [
    "print(s.index)"
   ]
  },
  {
   "cell_type": "code",
   "execution_count": 210,
   "metadata": {},
   "outputs": [
    {
     "ename": "ValueError",
     "evalue": "No tables found",
     "output_type": "error",
     "traceback": [
      "\u001b[0;31m---------------------------------------------------------------------------\u001b[0m",
      "\u001b[0;31mValueError\u001b[0m                                Traceback (most recent call last)",
      "Cell \u001b[0;32mIn[210], line 3\u001b[0m\n\u001b[1;32m      1\u001b[0m \u001b[38;5;66;03m# !pip install html5lib\u001b[39;00m\n\u001b[1;32m      2\u001b[0m \u001b[38;5;28;01mimport\u001b[39;00m \u001b[38;5;21;01mpandas\u001b[39;00m \u001b[38;5;28;01mas\u001b[39;00m \u001b[38;5;21;01mpd\u001b[39;00m\n\u001b[0;32m----> 3\u001b[0m df\u001b[38;5;241m=\u001b[39mpd\u001b[38;5;241m.\u001b[39mread_html(\u001b[38;5;124m'\u001b[39m\u001b[38;5;124m/Users/apple/abc.html\u001b[39m\u001b[38;5;124m'\u001b[39m)\n\u001b[1;32m      4\u001b[0m \u001b[38;5;28mprint\u001b[39m(df)\n",
      "File \u001b[0;32m/opt/anaconda3/lib/python3.12/site-packages/pandas/io/html.py:1240\u001b[0m, in \u001b[0;36mread_html\u001b[0;34m(io, match, flavor, header, index_col, skiprows, attrs, parse_dates, thousands, encoding, decimal, converters, na_values, keep_default_na, displayed_only, extract_links, dtype_backend, storage_options)\u001b[0m\n\u001b[1;32m   1224\u001b[0m \u001b[38;5;28;01mif\u001b[39;00m \u001b[38;5;28misinstance\u001b[39m(io, \u001b[38;5;28mstr\u001b[39m) \u001b[38;5;129;01mand\u001b[39;00m \u001b[38;5;129;01mnot\u001b[39;00m \u001b[38;5;28many\u001b[39m(\n\u001b[1;32m   1225\u001b[0m     [\n\u001b[1;32m   1226\u001b[0m         is_file_like(io),\n\u001b[0;32m   (...)\u001b[0m\n\u001b[1;32m   1230\u001b[0m     ]\n\u001b[1;32m   1231\u001b[0m ):\n\u001b[1;32m   1232\u001b[0m     warnings\u001b[38;5;241m.\u001b[39mwarn(\n\u001b[1;32m   1233\u001b[0m         \u001b[38;5;124m\"\u001b[39m\u001b[38;5;124mPassing literal html to \u001b[39m\u001b[38;5;124m'\u001b[39m\u001b[38;5;124mread_html\u001b[39m\u001b[38;5;124m'\u001b[39m\u001b[38;5;124m is deprecated and \u001b[39m\u001b[38;5;124m\"\u001b[39m\n\u001b[1;32m   1234\u001b[0m         \u001b[38;5;124m\"\u001b[39m\u001b[38;5;124mwill be removed in a future version. To read from a \u001b[39m\u001b[38;5;124m\"\u001b[39m\n\u001b[0;32m   (...)\u001b[0m\n\u001b[1;32m   1237\u001b[0m         stacklevel\u001b[38;5;241m=\u001b[39mfind_stack_level(),\n\u001b[1;32m   1238\u001b[0m     )\n\u001b[0;32m-> 1240\u001b[0m \u001b[38;5;28;01mreturn\u001b[39;00m _parse(\n\u001b[1;32m   1241\u001b[0m     flavor\u001b[38;5;241m=\u001b[39mflavor,\n\u001b[1;32m   1242\u001b[0m     io\u001b[38;5;241m=\u001b[39mio,\n\u001b[1;32m   1243\u001b[0m     match\u001b[38;5;241m=\u001b[39mmatch,\n\u001b[1;32m   1244\u001b[0m     header\u001b[38;5;241m=\u001b[39mheader,\n\u001b[1;32m   1245\u001b[0m     index_col\u001b[38;5;241m=\u001b[39mindex_col,\n\u001b[1;32m   1246\u001b[0m     skiprows\u001b[38;5;241m=\u001b[39mskiprows,\n\u001b[1;32m   1247\u001b[0m     parse_dates\u001b[38;5;241m=\u001b[39mparse_dates,\n\u001b[1;32m   1248\u001b[0m     thousands\u001b[38;5;241m=\u001b[39mthousands,\n\u001b[1;32m   1249\u001b[0m     attrs\u001b[38;5;241m=\u001b[39mattrs,\n\u001b[1;32m   1250\u001b[0m     encoding\u001b[38;5;241m=\u001b[39mencoding,\n\u001b[1;32m   1251\u001b[0m     decimal\u001b[38;5;241m=\u001b[39mdecimal,\n\u001b[1;32m   1252\u001b[0m     converters\u001b[38;5;241m=\u001b[39mconverters,\n\u001b[1;32m   1253\u001b[0m     na_values\u001b[38;5;241m=\u001b[39mna_values,\n\u001b[1;32m   1254\u001b[0m     keep_default_na\u001b[38;5;241m=\u001b[39mkeep_default_na,\n\u001b[1;32m   1255\u001b[0m     displayed_only\u001b[38;5;241m=\u001b[39mdisplayed_only,\n\u001b[1;32m   1256\u001b[0m     extract_links\u001b[38;5;241m=\u001b[39mextract_links,\n\u001b[1;32m   1257\u001b[0m     dtype_backend\u001b[38;5;241m=\u001b[39mdtype_backend,\n\u001b[1;32m   1258\u001b[0m     storage_options\u001b[38;5;241m=\u001b[39mstorage_options,\n\u001b[1;32m   1259\u001b[0m )\n",
      "File \u001b[0;32m/opt/anaconda3/lib/python3.12/site-packages/pandas/io/html.py:1003\u001b[0m, in \u001b[0;36m_parse\u001b[0;34m(flavor, io, match, attrs, encoding, displayed_only, extract_links, storage_options, **kwargs)\u001b[0m\n\u001b[1;32m   1001\u001b[0m \u001b[38;5;28;01melse\u001b[39;00m:\n\u001b[1;32m   1002\u001b[0m     \u001b[38;5;28;01massert\u001b[39;00m retained \u001b[38;5;129;01mis\u001b[39;00m \u001b[38;5;129;01mnot\u001b[39;00m \u001b[38;5;28;01mNone\u001b[39;00m  \u001b[38;5;66;03m# for mypy\u001b[39;00m\n\u001b[0;32m-> 1003\u001b[0m     \u001b[38;5;28;01mraise\u001b[39;00m retained\n\u001b[1;32m   1005\u001b[0m ret \u001b[38;5;241m=\u001b[39m []\n\u001b[1;32m   1006\u001b[0m \u001b[38;5;28;01mfor\u001b[39;00m table \u001b[38;5;129;01min\u001b[39;00m tables:\n",
      "File \u001b[0;32m/opt/anaconda3/lib/python3.12/site-packages/pandas/io/html.py:983\u001b[0m, in \u001b[0;36m_parse\u001b[0;34m(flavor, io, match, attrs, encoding, displayed_only, extract_links, storage_options, **kwargs)\u001b[0m\n\u001b[1;32m    972\u001b[0m p \u001b[38;5;241m=\u001b[39m parser(\n\u001b[1;32m    973\u001b[0m     io,\n\u001b[1;32m    974\u001b[0m     compiled_match,\n\u001b[0;32m   (...)\u001b[0m\n\u001b[1;32m    979\u001b[0m     storage_options,\n\u001b[1;32m    980\u001b[0m )\n\u001b[1;32m    982\u001b[0m \u001b[38;5;28;01mtry\u001b[39;00m:\n\u001b[0;32m--> 983\u001b[0m     tables \u001b[38;5;241m=\u001b[39m p\u001b[38;5;241m.\u001b[39mparse_tables()\n\u001b[1;32m    984\u001b[0m \u001b[38;5;28;01mexcept\u001b[39;00m \u001b[38;5;167;01mValueError\u001b[39;00m \u001b[38;5;28;01mas\u001b[39;00m caught:\n\u001b[1;32m    985\u001b[0m     \u001b[38;5;66;03m# if `io` is an io-like object, check if it's seekable\u001b[39;00m\n\u001b[1;32m    986\u001b[0m     \u001b[38;5;66;03m# and try to rewind it before trying the next parser\u001b[39;00m\n\u001b[1;32m    987\u001b[0m     \u001b[38;5;28;01mif\u001b[39;00m \u001b[38;5;28mhasattr\u001b[39m(io, \u001b[38;5;124m\"\u001b[39m\u001b[38;5;124mseekable\u001b[39m\u001b[38;5;124m\"\u001b[39m) \u001b[38;5;129;01mand\u001b[39;00m io\u001b[38;5;241m.\u001b[39mseekable():\n",
      "File \u001b[0;32m/opt/anaconda3/lib/python3.12/site-packages/pandas/io/html.py:249\u001b[0m, in \u001b[0;36m_HtmlFrameParser.parse_tables\u001b[0;34m(self)\u001b[0m\n\u001b[1;32m    241\u001b[0m \u001b[38;5;28;01mdef\u001b[39;00m \u001b[38;5;21mparse_tables\u001b[39m(\u001b[38;5;28mself\u001b[39m):\n\u001b[1;32m    242\u001b[0m \u001b[38;5;250m    \u001b[39m\u001b[38;5;124;03m\"\"\"\u001b[39;00m\n\u001b[1;32m    243\u001b[0m \u001b[38;5;124;03m    Parse and return all tables from the DOM.\u001b[39;00m\n\u001b[1;32m    244\u001b[0m \n\u001b[0;32m   (...)\u001b[0m\n\u001b[1;32m    247\u001b[0m \u001b[38;5;124;03m    list of parsed (header, body, footer) tuples from tables.\u001b[39;00m\n\u001b[1;32m    248\u001b[0m \u001b[38;5;124;03m    \"\"\"\u001b[39;00m\n\u001b[0;32m--> 249\u001b[0m     tables \u001b[38;5;241m=\u001b[39m \u001b[38;5;28mself\u001b[39m\u001b[38;5;241m.\u001b[39m_parse_tables(\u001b[38;5;28mself\u001b[39m\u001b[38;5;241m.\u001b[39m_build_doc(), \u001b[38;5;28mself\u001b[39m\u001b[38;5;241m.\u001b[39mmatch, \u001b[38;5;28mself\u001b[39m\u001b[38;5;241m.\u001b[39mattrs)\n\u001b[1;32m    250\u001b[0m     \u001b[38;5;28;01mreturn\u001b[39;00m (\u001b[38;5;28mself\u001b[39m\u001b[38;5;241m.\u001b[39m_parse_thead_tbody_tfoot(table) \u001b[38;5;28;01mfor\u001b[39;00m table \u001b[38;5;129;01min\u001b[39;00m tables)\n",
      "File \u001b[0;32m/opt/anaconda3/lib/python3.12/site-packages/pandas/io/html.py:598\u001b[0m, in \u001b[0;36m_BeautifulSoupHtml5LibFrameParser._parse_tables\u001b[0;34m(self, document, match, attrs)\u001b[0m\n\u001b[1;32m    596\u001b[0m tables \u001b[38;5;241m=\u001b[39m document\u001b[38;5;241m.\u001b[39mfind_all(element_name, attrs\u001b[38;5;241m=\u001b[39mattrs)\n\u001b[1;32m    597\u001b[0m \u001b[38;5;28;01mif\u001b[39;00m \u001b[38;5;129;01mnot\u001b[39;00m tables:\n\u001b[0;32m--> 598\u001b[0m     \u001b[38;5;28;01mraise\u001b[39;00m \u001b[38;5;167;01mValueError\u001b[39;00m(\u001b[38;5;124m\"\u001b[39m\u001b[38;5;124mNo tables found\u001b[39m\u001b[38;5;124m\"\u001b[39m)\n\u001b[1;32m    600\u001b[0m result \u001b[38;5;241m=\u001b[39m []\n\u001b[1;32m    601\u001b[0m unique_tables \u001b[38;5;241m=\u001b[39m \u001b[38;5;28mset\u001b[39m()\n",
      "\u001b[0;31mValueError\u001b[0m: No tables found"
     ]
    }
   ],
   "source": [
    "# !pip install html5lib\n",
    "import pandas as pd\n",
    "df=pd.read_html('/Users/apple/abc.html')\n",
    "print(df)"
   ]
  },
  {
   "cell_type": "code",
   "execution_count": 213,
   "metadata": {},
   "outputs": [
    {
     "name": "stdout",
     "output_type": "stream",
     "text": [
      "Empty DataFrame\n",
      "Columns: [Lorem, Ipsum, is, simply, dummy, text, of, the, printing, and, typesetting, industry., Lorem.1, Ipsum.1, has, been, the.1, industry's, standard, dummy.1, text.1, ever, since, the.2, 1500s,, when, an, unknown, printer, took, a, galley, of.1, type, and.1, scrambled, it, to, make, a.1, type.1, specimen, book., It, has.1, survived, not, only, five, centuries,, but, also, the.3, leap, into, electronic, typesetting,, remaining, essentially, unchanged., It.1, was, popularised, in, the.4, 1960s, with, the.5, release, of.2, Letraset, sheets, containing, Lorem.2, Ipsum.2, passages,, and.2, more, recently, with.1, desktop, publishing, software, like, Aldus, PageMaker, including, versions, of.3, Lorem.3, Ipsum.]\n",
      "Index: []\n",
      "\n",
      "[0 rows x 91 columns]\n"
     ]
    }
   ],
   "source": [
    "DF=pd.read_clipboard()\n",
    "print(DF)"
   ]
  },
  {
   "cell_type": "code",
   "execution_count": 9,
   "metadata": {},
   "outputs": [
    {
     "name": "stdout",
     "output_type": "stream",
     "text": [
      "my_array -- memery locations  4461297552\n",
      "[[1 2]\n",
      " [3 4]\n",
      " [5 6]]\n",
      "\n",
      "\n",
      "\n",
      "[[1 2]\n",
      " [3 4]\n",
      " [5 6]]\n",
      "reshaped -- memery locations  4468147664\n",
      "False\n"
     ]
    }
   ],
   "source": [
    "import numpy as np\n",
    "\n",
    "my_array = np.array([1,2,3,4,5,6])\n",
    "my_array.shape=(3,2)\n",
    "print(\"my_array -- memery locations \", id(my_array))\n",
    "print(my_array)\n",
    "print(\"\\n\\n\")\n",
    "reshaped = np.reshape(my_array,(3,2))\n",
    "print(np.reshape(my_array,(3,2)))\n",
    "print(\"reshaped -- memery locations \", id(reshaped))\n",
    "print(id(my_array)==id(reshaped))\n",
    "\n",
    "\n",
    "#Output\n",
    "# [[1 2]\n",
    "# [3 4]\n",
    "# [5 6]]"
   ]
  },
  {
   "cell_type": "code",
   "execution_count": null,
   "metadata": {},
   "outputs": [],
   "source": []
  }
 ],
 "metadata": {
  "kernelspec": {
   "display_name": "base",
   "language": "python",
   "name": "python3"
  },
  "language_info": {
   "codemirror_mode": {
    "name": "ipython",
    "version": 3
   },
   "file_extension": ".py",
   "mimetype": "text/x-python",
   "name": "python",
   "nbconvert_exporter": "python",
   "pygments_lexer": "ipython3",
   "version": "3.12.4"
  }
 },
 "nbformat": 4,
 "nbformat_minor": 2
}
