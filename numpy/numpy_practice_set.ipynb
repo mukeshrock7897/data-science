{
 "cells": [
  {
   "cell_type": "code",
   "execution_count": 6,
   "metadata": {},
   "outputs": [
    {
     "name": "stdout",
     "output_type": "stream",
     "text": [
      "Numpy installed version :  1.26.4\n"
     ]
    }
   ],
   "source": [
    "# 1. Write a Numpy program to get the Numpy version and show the Numpy build configuration.\n",
    "\n",
    "import numpy as np\n",
    "\n",
    "print(\"Numpy installed version : \", np.__version__)"
   ]
  },
  {
   "cell_type": "code",
   "execution_count": 8,
   "metadata": {},
   "outputs": [
    {
     "name": "stdout",
     "output_type": "stream",
     "text": [
      "add(x1, x2, /, out=None, *, where=True, casting='same_kind', order='K', dtype=None, subok=True[, signature, extobj])\n",
      "\n",
      "Add arguments element-wise.\n",
      "\n",
      "Parameters\n",
      "----------\n",
      "x1, x2 : array_like\n",
      "    The arrays to be added.\n",
      "    If ``x1.shape != x2.shape``, they must be broadcastable to a common\n",
      "    shape (which becomes the shape of the output).\n",
      "out : ndarray, None, or tuple of ndarray and None, optional\n",
      "    A location into which the result is stored. If provided, it must have\n",
      "    a shape that the inputs broadcast to. If not provided or None,\n",
      "    a freshly-allocated array is returned. A tuple (possible only as a\n",
      "    keyword argument) must have length equal to the number of outputs.\n",
      "where : array_like, optional\n",
      "    This condition is broadcast over the input. At locations where the\n",
      "    condition is True, the `out` array will be set to the ufunc result.\n",
      "    Elsewhere, the `out` array will retain its original value.\n",
      "    Note that if an uninitialized `out` array is created via the default\n",
      "    ``out=None``, locations within it where the condition is False will\n",
      "    remain uninitialized.\n",
      "**kwargs\n",
      "    For other keyword-only arguments, see the\n",
      "    :ref:`ufunc docs <ufuncs.kwargs>`.\n",
      "\n",
      "Returns\n",
      "-------\n",
      "add : ndarray or scalar\n",
      "    The sum of `x1` and `x2`, element-wise.\n",
      "    This is a scalar if both `x1` and `x2` are scalars.\n",
      "\n",
      "Notes\n",
      "-----\n",
      "Equivalent to `x1` + `x2` in terms of array broadcasting.\n",
      "\n",
      "Examples\n",
      "--------\n",
      ">>> np.add(1.0, 4.0)\n",
      "5.0\n",
      ">>> x1 = np.arange(9.0).reshape((3, 3))\n",
      ">>> x2 = np.arange(3.0)\n",
      ">>> np.add(x1, x2)\n",
      "array([[  0.,   2.,   4.],\n",
      "       [  3.,   5.,   7.],\n",
      "       [  6.,   8.,  10.]])\n",
      "\n",
      "The ``+`` operator can be used as a shorthand for ``np.add`` on ndarrays.\n",
      "\n",
      ">>> x1 = np.arange(9.0).reshape((3, 3))\n",
      ">>> x2 = np.arange(3.0)\n",
      ">>> x1 + x2\n",
      "array([[ 0.,  2.,  4.],\n",
      "       [ 3.,  5.,  7.],\n",
      "       [ 6.,  8., 10.]])\n",
      "None\n"
     ]
    }
   ],
   "source": [
    "# 2. Write a NumPy program to get help with the add function.\n",
    "\n",
    "# Printing information about the np.add function using the np.info() method\n",
    "print(np.info(np.add))"
   ]
  },
  {
   "cell_type": "code",
   "execution_count": 10,
   "metadata": {},
   "outputs": [
    {
     "name": "stdout",
     "output_type": "stream",
     "text": [
      "True\n",
      "False\n"
     ]
    }
   ],
   "source": [
    "# 3. Write a NumPy program to test whether none of the elements of a given array are zero. \n",
    "\n",
    "arr1=np.array([1,2,3,4,5])\n",
    "#checking the none of elements are zero if True then it have if False then it not have zero elements\n",
    "\n",
    "print(arr1.all())\n",
    "\n",
    "\n",
    "arr2=np.array([0,1,2,3,4,5])\n",
    "print(arr2.all())"
   ]
  },
  {
   "cell_type": "code",
   "execution_count": 11,
   "metadata": {},
   "outputs": [
    {
     "name": "stdout",
     "output_type": "stream",
     "text": [
      "True\n",
      "False\n",
      "True\n"
     ]
    }
   ],
   "source": [
    "# 4. Write a NumPy program to test if any of the elements of a given array are non-zero. \n",
    "\n",
    "arr1=np.array([1,2,3,4,5])\n",
    "#checking the given array have any non-zero elements \n",
    "print(arr1.any())\n",
    "\n",
    "\n",
    "arr2=np.array([0,0,0,0,0])\n",
    "#checking the given array have non-zero elements \n",
    "print(arr2.any())\n",
    "\n",
    "\n",
    "arr3=np.array([1,0,0,0,0,0])\n",
    "#checking the given array have non-zero elements \n",
    "print(arr3.any())"
   ]
  },
  {
   "cell_type": "code",
   "execution_count": 14,
   "metadata": {},
   "outputs": [
    {
     "name": "stdout",
     "output_type": "stream",
     "text": [
      "[ True  True False False]\n"
     ]
    }
   ],
   "source": [
    "# 5. Write a NumPy program to test a given array element-wise for finiteness (not infinity or not a number).\n",
    "\n",
    "arr1=np.array([1,0,np.nan , np.inf])\n",
    "# checking the elements are finite or infinite\n",
    "print(np.isfinite(arr1))\n",
    "\n"
   ]
  },
  {
   "cell_type": "code",
   "execution_count": 16,
   "metadata": {},
   "outputs": [
    {
     "name": "stdout",
     "output_type": "stream",
     "text": [
      "positive infinite -->  [False False False  True False]\n",
      "negative infinite -->  [False False False False  True]\n"
     ]
    }
   ],
   "source": [
    "# 6. Write a NumPy program to test elements-wise for positive or negative infinity. \n",
    "arr1=np.array([1, 0, np.nan , np.inf , -np.inf])\n",
    "# checking the elements are +ve and -ve infinity\n",
    "print(\"positive infinite --> \", np.isposinf(arr1))\n",
    "print(\"negative infinite --> \", np.isneginf(arr1))"
   ]
  },
  {
   "cell_type": "code",
   "execution_count": 17,
   "metadata": {},
   "outputs": [
    {
     "name": "stdout",
     "output_type": "stream",
     "text": [
      "checking the nan --> [False False  True False]\n"
     ]
    }
   ],
   "source": [
    "# 7. Write a NumPy program to test element-wise for NaN of a given array.\n",
    "arr1=np.array([1, 0, np.nan , np.inf ])\n",
    "#checking the nan elements \n",
    "print(\"checking the nan -->\", np.isnan(arr1))"
   ]
  },
  {
   "cell_type": "code",
   "execution_count": 21,
   "metadata": {},
   "outputs": [
    {
     "name": "stdout",
     "output_type": "stream",
     "text": [
      "checking if contains scaler  False\n",
      "checking if contains scaler  True\n",
      "checking if contains real  [ True  True False]\n",
      "checking if contains iscomplex  [False False  True]\n"
     ]
    }
   ],
   "source": [
    "# 8. Write a NumPy program to test element-wise for complex numbers, real numbers in a given array. Also test if a given number is of a scalar type or not. \n",
    "\n",
    "arr1=np.array([5,2.0,0+2j])\n",
    "\n",
    "print(\"checking if contains scaler \",np.isscalar(arr1))\n",
    "print(\"checking if contains scaler \",np.isscalar(2.5))\n",
    "print(\"checking if contains real \",np.isreal(arr1))\n",
    "print(\"checking if contains iscomplex \",np.iscomplex(arr1))"
   ]
  },
  {
   "cell_type": "code",
   "execution_count": 23,
   "metadata": {},
   "outputs": [
    {
     "name": "stdout",
     "output_type": "stream",
     "text": [
      "check if both are equal  [ True  True  True]\n"
     ]
    }
   ],
   "source": [
    "# 9. Write a NumPy program to test whether two arrays are element-wise equal.\n",
    "arr1=np.array([1,2,3])\n",
    "arr2=np.array([1,2,3])\n",
    "print(\"check if both are equal \", arr1==arr2)"
   ]
  },
  {
   "cell_type": "code",
   "execution_count": 26,
   "metadata": {},
   "outputs": [
    {
     "name": "stdout",
     "output_type": "stream",
     "text": [
      "check if both are equal  [ True  True False False]\n",
      "check greater  [False False False  True]\n",
      "check greater than and equal  [ True  True False  True]\n",
      "check less than   [False False  True False]\n",
      "check less than and equal  [ True  True  True False]\n",
      "\n",
      "\n",
      "\n",
      "check if both are equal  [ True  True False False]\n",
      "check greater  [False False False  True]\n",
      "check greater than and equal  [ True  True False  True]\n",
      "check less than   [False False  True False]\n",
      "check less than and equal  [ True  True  True False]\n"
     ]
    }
   ],
   "source": [
    "# 10. Write a NumPy program to create an element-wise comparison (greater, greater_equal, less and less_equal) of two given arrays.\n",
    "\n",
    "arr1=np.array([1,2,3,4])\n",
    "arr2=np.array([1,2,5,2])\n",
    "\n",
    "# using mathematical operations comparisons\n",
    "print(\"check if both are equal \", arr1==arr2)\n",
    "print(\"check greater \", arr1>arr2)\n",
    "print(\"check greater than and equal \", arr1>=arr2)\n",
    "print(\"check less than  \", arr1<arr2)\n",
    "print(\"check less than and equal \", arr1<=arr2)\n",
    "\n",
    "print(\"\\n\\n\")\n",
    "# using built-in functions \n",
    "print(\"check if both are equal \", np.equal(arr1,arr2))\n",
    "print(\"check greater \", np.greater(arr1, arr2))\n",
    "print(\"check greater than and equal \", np.greater_equal(arr1, arr2))\n",
    "print(\"check less than  \", np.less(arr1, arr2))\n",
    "print(\"check less than and equal \", np.less_equal(arr1, arr2))"
   ]
  },
  {
   "cell_type": "code",
   "execution_count": 30,
   "metadata": {},
   "outputs": [
    {
     "name": "stdout",
     "output_type": "stream",
     "text": [
      "checking equality of both arrays elements :  [ True  True  True  True  True False  True  True  True False]\n",
      "checking equality of both arrays elements are near to equal :  True\n"
     ]
    }
   ],
   "source": [
    "# 11. Write a NumPy program to create an element-wise comparison (equal, equal within a tolerance) of two given arrays.\n",
    "\n",
    "# Creating NumPy arrays 'x' and 'y' containing numbers for comparison\n",
    "arr1 = np.array([72, 79, 85, 90, 150, -135, 120, -10, 60, 100])\n",
    "arr2 = np.array([72, 79, 85, 90, 150, -135.00002, 120, -10, 60, 100.000001])\n",
    "\n",
    "print(\"checking equality of both arrays elements : \", np.equal(arr1 , arr2))\n",
    "print(\"checking equality of both arrays elements are near to equal : \",np.allclose(arr1, arr2))"
   ]
  },
  {
   "cell_type": "code",
   "execution_count": 36,
   "metadata": {},
   "outputs": [
    {
     "name": "stdout",
     "output_type": "stream",
     "text": [
      "checking the size of memory in bytes:  40\n"
     ]
    }
   ],
   "source": [
    "# 12. Write a NumPy program to create an array with the values 1, 7, 13, 105 and determine the size of the memory occupied by the array.\n",
    "\n",
    "arr1 = np.array([72, 79, 85, 90, 100])\n",
    "\n",
    "# Calculating the size of the memory occupied by the array 'arr1' (number of elements multiplied by the size of each element in bytes) and printing the result\n",
    "\n",
    "print(\"checking the size of memory in bytes: \" , arr1.size*arr1.itemsize)"
   ]
  },
  {
   "cell_type": "code",
   "execution_count": 43,
   "metadata": {},
   "outputs": [
    {
     "name": "stdout",
     "output_type": "stream",
     "text": [
      "arr_zeros : [0. 0. 0. 0. 0. 0. 0. 0. 0. 0.]\n",
      "arr_ones :  [1. 1. 1. 1. 1. 1. 1. 1. 1. 1.]\n",
      "arr_scalar :  [5. 5. 5. 5. 5. 5. 5. 5. 5. 5.]\n"
     ]
    }
   ],
   "source": [
    "# 13. Write a NumPy program to create an array of 10 zeros, 10 ones, and 10 fives. \n",
    "\n",
    "arr_zeros=np.zeros(10)\n",
    "arr_ones=np.ones(10)\n",
    "arr_scalar=np.ones(10)*5\n",
    "print(\"arr_zeros :\", arr_zeros)\n",
    "print(\"arr_ones : \", arr_ones)\n",
    "print(\"arr_scalar : \", arr_scalar)"
   ]
  },
  {
   "cell_type": "code",
   "execution_count": 44,
   "metadata": {},
   "outputs": [
    {
     "name": "stdout",
     "output_type": "stream",
     "text": [
      "[30 31 32 33 34 35 36 37 38 39 40 41 42 43 44 45 46 47 48 49 50 51 52 53\n",
      " 54 55 56 57 58 59 60 61 62 63 64 65 66 67 68 69]\n"
     ]
    }
   ],
   "source": [
    "# 14. Write a NumPy program to create an array of integers from 30 to 70.\n",
    "\n",
    "print(np.arange(30,70))"
   ]
  },
  {
   "cell_type": "code",
   "execution_count": 46,
   "metadata": {},
   "outputs": [
    {
     "name": "stdout",
     "output_type": "stream",
     "text": [
      "[30 32 34 36 38 40 42 44 46 48 50 52 54 56 58 60 62 64 66 68]\n"
     ]
    }
   ],
   "source": [
    "# 15.Write a NumPy program to create an array of all even integers from 30 to 70.\n",
    "print(np.arange(30,70, 2))"
   ]
  },
  {
   "cell_type": "code",
   "execution_count": 48,
   "metadata": {},
   "outputs": [
    {
     "name": "stdout",
     "output_type": "stream",
     "text": [
      "[[1. 0. 0.]\n",
      " [0. 1. 0.]\n",
      " [0. 0. 1.]]\n"
     ]
    }
   ],
   "source": [
    "# 16. Write a NumPy program to create a 3x3 identity matrix.\n",
    "print(np.eye(3,3))"
   ]
  },
  {
   "cell_type": "code",
   "execution_count": 51,
   "metadata": {},
   "outputs": [
    {
     "name": "stdout",
     "output_type": "stream",
     "text": [
      "[0.88915461]\n"
     ]
    }
   ],
   "source": [
    "# 17. Write a NumPy program to generate a random number between 0 and 1.\n",
    "print(np.random.normal(0,1,1))"
   ]
  },
  {
   "cell_type": "code",
   "execution_count": 53,
   "metadata": {},
   "outputs": [
    {
     "name": "stdout",
     "output_type": "stream",
     "text": [
      "[-0.66623934 -0.38003604 -0.09750604 -0.14503745  1.84165895  1.55597654\n",
      " -0.85484145  0.90645585  0.50996202  0.6706909  -0.90344672 -0.6085796\n",
      "  0.31043145  1.66911079 -1.1405254 ]\n"
     ]
    }
   ],
   "source": [
    "# 18. Write a NumPy program to generate an array of 15 random numbers from a standard normal distribution.\n",
    "print(np.random.normal(0,1,15))"
   ]
  },
  {
   "cell_type": "code",
   "execution_count": 54,
   "metadata": {},
   "outputs": [
    {
     "name": "stdout",
     "output_type": "stream",
     "text": [
      "[16 17 18 19 20 21 22 23 24 25 26 27 28 29 30 31 32 33 34 35 36 37 38 39\n",
      " 40 41 42 43 44 45 46 47 48 49 50 51 52 53]\n"
     ]
    }
   ],
   "source": [
    "# 19. Write a NumPy program to create a vector with values ranging from 15 to 55 and print all values except the first and last.\n",
    "\n",
    "print(np.arange(15, 55)[1:-1])"
   ]
  },
  {
   "cell_type": "code",
   "execution_count": 56,
   "metadata": {},
   "outputs": [
    {
     "name": "stdout",
     "output_type": "stream",
     "text": [
      "Each element of the array is:\n",
      "10 11 12 13 14 15 16 17 18 19 20 21 "
     ]
    }
   ],
   "source": [
    "# 20. Write a NumPy program to create a 3X4 array and iterate over it.\n",
    "\n",
    "a = np.arange(10, 22).reshape((3, 4))\n",
    "\n",
    "print(\"Each element of the array is:\")\n",
    "for x in np.nditer(a):\n",
    "    print(x, end=\" \") "
   ]
  },
  {
   "cell_type": "code",
   "execution_count": 58,
   "metadata": {},
   "outputs": [
    {
     "name": "stdout",
     "output_type": "stream",
     "text": [
      "Length 10 with values evenly distributed between 5 and 50:\n",
      "[10.   19.75 29.5  39.25 49.  ]\n"
     ]
    }
   ],
   "source": [
    "# 21. Write a NumPy program to create a vector of length 10 with values evenly distributed between 5 and 50.\n",
    "\n",
    "print(\"Length 10 with values evenly distributed between 5 and 50:\")\n",
    "\n",
    "print(np.linspace(10, 49, 5))"
   ]
  },
  {
   "cell_type": "code",
   "execution_count": 59,
   "metadata": {},
   "outputs": [],
   "source": [
    "# 22. Write a NumPy program to create a vector with values from 0 to 20 and change the sign of the numbers in the range from 9 to 15."
   ]
  },
  {
   "cell_type": "code",
   "execution_count": 64,
   "metadata": {},
   "outputs": [
    {
     "name": "stdout",
     "output_type": "stream",
     "text": [
      "[[5. 5. 5. 5. 5.]]\n"
     ]
    }
   ],
   "source": [
    "# 23. Write a NumPy program to create a vector of length 5 filled with arbitrary integers from 0 to 10.\n",
    "print(np.ones((1,5))*5)"
   ]
  },
  {
   "cell_type": "code",
   "execution_count": 65,
   "metadata": {},
   "outputs": [
    {
     "name": "stdout",
     "output_type": "stream",
     "text": [
      "[10 40 90]\n"
     ]
    }
   ],
   "source": [
    "# 24. Write a  NumPy program to multiply the values of two given vectors.\n",
    "arr1=np.array([1,2,3])\n",
    "arr2=np.array([10,20,30])\n",
    "print(arr1*arr2)"
   ]
  },
  {
   "cell_type": "code",
   "execution_count": 70,
   "metadata": {},
   "outputs": [
    {
     "name": "stdout",
     "output_type": "stream",
     "text": [
      "[[10 11 12 13]\n",
      " [14 15 16 17]\n",
      " [18 19 20 21]]\n"
     ]
    }
   ],
   "source": [
    "# 25. Write a NumPy program to create a 3x4 matrix filled with values from 10 to 21.\n",
    "print(np.arange(10,22).reshape(3,4))\n"
   ]
  },
  {
   "cell_type": "code",
   "execution_count": 72,
   "metadata": {},
   "outputs": [
    {
     "name": "stdout",
     "output_type": "stream",
     "text": [
      "(2, 2)\n"
     ]
    }
   ],
   "source": [
    "# 26. Write a NumPy program to find the number of rows and columns in a given matrix.\n",
    "arr1=np.array([[1,2],[3,4]])\n",
    "arr2=np.array([10,20,30])\n",
    "print(arr1.shape)"
   ]
  },
  {
   "cell_type": "code",
   "execution_count": 76,
   "metadata": {},
   "outputs": [
    {
     "name": "stdout",
     "output_type": "stream",
     "text": [
      "[[1. 0. 0.]\n",
      " [0. 1. 0.]\n",
      " [0. 0. 1.]]\n"
     ]
    }
   ],
   "source": [
    "# 27. Write a NumPy program to create a 3x3 identity matrix, i.e. the diagonal elements are 1, the rest are 0.\n",
    "print(np.eye(3,3))"
   ]
  },
  {
   "cell_type": "code",
   "execution_count": 80,
   "metadata": {},
   "outputs": [
    {
     "name": "stdout",
     "output_type": "stream",
     "text": [
      "Orginal Array :  [[1. 1. 1. 1. 1. 1. 1. 1. 1. 1.]\n",
      " [1. 1. 1. 1. 1. 1. 1. 1. 1. 1.]\n",
      " [1. 1. 1. 1. 1. 1. 1. 1. 1. 1.]\n",
      " [1. 1. 1. 1. 1. 1. 1. 1. 1. 1.]\n",
      " [1. 1. 1. 1. 1. 1. 1. 1. 1. 1.]\n",
      " [1. 1. 1. 1. 1. 1. 1. 1. 1. 1.]\n",
      " [1. 1. 1. 1. 1. 1. 1. 1. 1. 1.]\n",
      " [1. 1. 1. 1. 1. 1. 1. 1. 1. 1.]\n",
      " [1. 1. 1. 1. 1. 1. 1. 1. 1. 1.]\n",
      " [1. 1. 1. 1. 1. 1. 1. 1. 1. 1.]]\n",
      "\n",
      "\n",
      "\n",
      "[[1. 1. 1. 1. 1. 1. 1. 1. 1. 1.]\n",
      " [1. 0. 0. 0. 0. 0. 0. 0. 0. 1.]\n",
      " [1. 0. 0. 0. 0. 0. 0. 0. 0. 1.]\n",
      " [1. 0. 0. 0. 0. 0. 0. 0. 0. 1.]\n",
      " [1. 0. 0. 0. 0. 0. 0. 0. 0. 1.]\n",
      " [1. 0. 0. 0. 0. 0. 0. 0. 0. 1.]\n",
      " [1. 0. 0. 0. 0. 0. 0. 0. 0. 1.]\n",
      " [1. 0. 0. 0. 0. 0. 0. 0. 0. 1.]\n",
      " [1. 0. 0. 0. 0. 0. 0. 0. 0. 1.]\n",
      " [1. 1. 1. 1. 1. 1. 1. 1. 1. 1.]]\n"
     ]
    }
   ],
   "source": [
    "# 28. Write a NumPy program to create a 10x10 matrix, in which the elements on the borders will be equal to 1, and inside 0\n",
    "\n",
    "\n",
    "# Creating a 10x10 matrix filled with ones using np.ones()\n",
    "x = np.ones((10, 10))\n",
    "\n",
    "print('Orginal Array : ',x)\n",
    "\n",
    "print(\"\\n\\n\")\n",
    "# Setting the inner values of the matrix 'x' (excluding the borders) to 0 using slicing\n",
    "x[1:-1, 1:-1] = 0\n",
    "\n",
    "# Printing the modified matrix 'x'\n",
    "print(x)\n"
   ]
  },
  {
   "cell_type": "code",
   "execution_count": 82,
   "metadata": {},
   "outputs": [
    {
     "name": "stdout",
     "output_type": "stream",
     "text": [
      "[[1 0 0 0 0]\n",
      " [0 2 0 0 0]\n",
      " [0 0 3 0 0]\n",
      " [0 0 0 4 0]\n",
      " [0 0 0 0 5]]\n"
     ]
    }
   ],
   "source": [
    "# 29. Write a NumPy program to create a 5x5 zero matrix with elements on the main diagonal equal to 1, 2, 3, 4, 5.\n",
    "print(np.diag([1,2,3,4,5]))"
   ]
  },
  {
   "cell_type": "code",
   "execution_count": 88,
   "metadata": {},
   "outputs": [
    {
     "name": "stdout",
     "output_type": "stream",
     "text": [
      "[[0. 1. 0. 1.]\n",
      " [1. 0. 1. 0.]\n",
      " [0. 1. 0. 1.]\n",
      " [1. 0. 1. 0.]]\n"
     ]
    }
   ],
   "source": [
    "# 30. Write a NumPy program to create a 4x4 matrix in which 0 and 1 are staggered, with zeros on the main diagonal\n",
    "\n",
    "# Creating a 4x4 matrix filled with zeros using np.zeros()\n",
    "x = np.zeros((4, 4))\n",
    "\n",
    "# Setting elements in alternate rows and columns to 1\n",
    "# Setting elements in even rows (0-based indexing) and odd columns to 1\n",
    "x[::2, 1::2] = 1\n",
    "\n",
    "# Setting elements in odd rows and even columns to 1\n",
    "x[1::2, ::2] = 1\n",
    "\n",
    "# Printing the modified matrix 'x'\n",
    "print(x)"
   ]
  },
  {
   "cell_type": "code",
   "execution_count": 91,
   "metadata": {},
   "outputs": [
    {
     "name": "stdout",
     "output_type": "stream",
     "text": [
      "[[[0.33893005 0.20853109 0.22866081]\n",
      "  [0.00322861 0.7975332  0.51385764]\n",
      "  [0.28287194 0.90318879 0.5769419 ]]\n",
      "\n",
      " [[0.60961282 0.97553365 0.05274012]\n",
      "  [0.41218501 0.37853985 0.73809673]\n",
      "  [0.97431076 0.42427933 0.40968909]]\n",
      "\n",
      " [[0.15404197 0.66117938 0.25790632]\n",
      "  [0.74330459 0.43519926 0.96643739]\n",
      "  [0.95485473 0.0037256  0.45100872]]]\n"
     ]
    }
   ],
   "source": [
    "# 31. Write a NumPy program to create a 3x3x3 array filled with arbitrary values.\n",
    "# Creating a 3x3x3 array filled with random numbers between 0 and 1 using np.random.random()\n",
    "x = np.random.random((3, 3, 3))\n",
    "\n",
    "# Printing the randomly generated 3x3x3 array 'x'\n",
    "print(x) "
   ]
  },
  {
   "cell_type": "code",
   "execution_count": 98,
   "metadata": {},
   "outputs": [
    {
     "name": "stdout",
     "output_type": "stream",
     "text": [
      "sum of array : 10\n",
      "sum of each rows : [4 6]\n",
      "sum of each columns : [3 7]\n"
     ]
    }
   ],
   "source": [
    "# 32. Write a NumPy program to compute the sum of all elements, the sum of each column and the sum of each row in a given array.\n",
    "\n",
    "arr=np.array([[1,2],[3,4]])\n",
    "print(\"sum of array :\", np.sum(arr1))\n",
    "print(\"sum of each rows :\", np.sum(arr1 ,axis=0))\n",
    "print(\"sum of each columns :\", np.sum(arr1, axis=1))\n"
   ]
  },
  {
   "cell_type": "code",
   "execution_count": 105,
   "metadata": {},
   "outputs": [
    {
     "name": "stdout",
     "output_type": "stream",
     "text": [
      "Original vectors:\n",
      "[4 5]\n",
      "[ 7 10]\n",
      "Inner product of said vectors:\n",
      "78\n"
     ]
    }
   ],
   "source": [
    "# 33. Write a NumPy program to compute the inner product of two given vectors.\n",
    "\n",
    "# Creating NumPy arrays 'x' and 'y' with respective values [4, 5] and [7, 10]\n",
    "x = np.array([4, 5])\n",
    "y = np.array([7, 10])\n",
    "\n",
    "# Printing a message indicating the original vectors 'x' and 'y'\n",
    "print(\"Original vectors:\")\n",
    "print(x)\n",
    "print(y)\n",
    "\n",
    "# Calculating and printing the inner product of the vectors 'x' and 'y' using np.dot()\n",
    "print(\"Inner product of said vectors:\")\n",
    "print(np.dot(x, y))"
   ]
  },
  {
   "cell_type": "code",
   "execution_count": 114,
   "metadata": {},
   "outputs": [],
   "source": [
    "# 34. Write a NumPy program to add a vector to each row of a given matrix.\n"
   ]
  },
  {
   "cell_type": "code",
   "execution_count": 116,
   "metadata": {},
   "outputs": [
    {
     "name": "stdout",
     "output_type": "stream",
     "text": [
      "[[1 2]\n",
      " [3 4]]\n"
     ]
    }
   ],
   "source": [
    "# 35. Write a NumPy program to save a given array to a binary file .\n",
    "arr=np.array([[1,2],[3,4]])\n",
    "np.save(\"tmp_numpy_binary_file.npy\",arr)\n",
    "\n",
    "#opening the numpy binary file\n",
    "print(np.load(\"tmp_numpy_binary_file.npy\"))"
   ]
  },
  {
   "cell_type": "code",
   "execution_count": 117,
   "metadata": {},
   "outputs": [],
   "source": [
    "# 36. Write a NumPy program to save a given array to a binary file.\n"
   ]
  },
  {
   "cell_type": "code",
   "execution_count": 123,
   "metadata": {},
   "outputs": [
    {
     "name": "stdout",
     "output_type": "stream",
     "text": [
      "[[1. 2.]\n",
      " [3. 4.]]\n"
     ]
    }
   ],
   "source": [
    "# 37. Write a NumPy program to save a given array to a text file and load it.\n",
    "arr=np.array([[1,2],[3,4]])\n",
    "header=\"A B\"\n",
    "np.savetxt(\"tmp_numpy_binary_file.txt\",arr , header=header)\n",
    "\n",
    "#opening the numpy binary file\n",
    "print(np.loadtxt(\"tmp_numpy_binary_file.txt\"))\n"
   ]
  },
  {
   "cell_type": "code",
   "execution_count": 125,
   "metadata": {},
   "outputs": [
    {
     "name": "stdout",
     "output_type": "stream",
     "text": [
      "[1 2 3 4]\n"
     ]
    }
   ],
   "source": [
    "# 38. Write a NumPy program to convert a given array into bytes, and load it as an array.\n",
    "arr=np.array([[1,2],[3,4]])\n",
    "\n",
    "#converting the array into bytes\n",
    "arr_bytes = arr.tobytes()\n",
    "\n",
    "# Creating a new NumPy array 'a2' by reading from 'a_bytes' using np.frombuffer()\n",
    "a2=np.frombuffer(arr_bytes , dtype=arr.dtype)\n",
    "\n",
    "#reading the data \n",
    "print(a2)\n"
   ]
  },
  {
   "cell_type": "code",
   "execution_count": 127,
   "metadata": {},
   "outputs": [
    {
     "name": "stdout",
     "output_type": "stream",
     "text": [
      "Checking the equality of both :  [ True  True  True  True]\n"
     ]
    }
   ],
   "source": [
    "# 39. Write a NumPy program to convert a given list into an array, then again convert it into a list. Check initial list and final list are equal or not.\n",
    "\n",
    "arr=np.array([1,2,3,4])\n",
    "list=arr.tolist()\n",
    "print(\"Checking the equality of both : \", arr==list)"
   ]
  },
  {
   "cell_type": "code",
   "execution_count": 131,
   "metadata": {},
   "outputs": [
    {
     "data": {
      "text/plain": [
       "[<matplotlib.lines.Line2D at 0x109c85790>]"
      ]
     },
     "execution_count": 131,
     "metadata": {},
     "output_type": "execute_result"
    },
    {
     "data": {
      "image/png": "[encoded data removed]",
      "text/plain": [
       "<Figure size 640x480 with 1 Axes>"
      ]
     },
     "metadata": {},
     "output_type": "display_data"
    }
   ],
   "source": [
    "# 40. Write a NumPy program to compute the x and y coordinates for points on a sine curve and plot the points using matplotlib.\n",
    "import matplotlib.pyplot as plt\n",
    "\n",
    "x=np.array([0.2,1.2,1.6,1.8,1.9,2.2 , 2.5,2.8])\n",
    "y=np.sin(x)\n",
    "\n",
    "plt.plot(x,y)\n"
   ]
  },
  {
   "cell_type": "code",
   "execution_count": 138,
   "metadata": {},
   "outputs": [
    {
     "name": "stdout",
     "output_type": "stream",
     "text": [
      "Numpy data type :  <class 'numpy.dtypes.Float64DType'>\n",
      "Python data type :  <class 'float'>\n"
     ]
    }
   ],
   "source": [
    "# 41. Write a NumPy program to convert  numpy dtypes to native Python types\n",
    "x=np.float64(0)\n",
    "numpy_dtype = x.dtype\n",
    "python_dtype = x.item()\n",
    "\n",
    "print(\"Numpy data type : \",type(numpy_dtype))\n",
    "print(\"Python data type : \",type(python_dtype))"
   ]
  },
  {
   "cell_type": "code",
   "execution_count": 140,
   "metadata": {},
   "outputs": [
    {
     "name": "stdout",
     "output_type": "stream",
     "text": [
      "[[1 2]\n",
      " [3 4]]\n"
     ]
    }
   ],
   "source": [
    "# 42. Write a NumPy program to add elements to a matrix. If an element in the matrix is 0, we will not add the element below this element.\n",
    "arr=np.array([[1,2],[3,4]])\n",
    "print(arr)\n",
    "\n",
    "# rest code will see later\n"
   ]
  },
  {
   "cell_type": "code",
   "execution_count": 146,
   "metadata": {},
   "outputs": [
    {
     "name": "stdout",
     "output_type": "stream",
     "text": [
      "checking the missing elements if any in array [[False False]\n",
      " [False False]\n",
      " [ True False]]\n"
     ]
    }
   ],
   "source": [
    "# 43. Write a NumPy program to find missing data in a given array\n",
    "arr=np.array([[1,2],[3,4],[np.nan , 5]])\n",
    "print(\"checking the missing elements if any in array\",np.isnan(arr))"
   ]
  },
  {
   "cell_type": "code",
   "execution_count": 149,
   "metadata": {},
   "outputs": [
    {
     "name": "stdout",
     "output_type": "stream",
     "text": [
      "checking the arr1 and arr2 array equal or not :  [ True  True  True  True]\n",
      "checking the arr1 and arr3 array equal or not :  [False False False  True]\n"
     ]
    }
   ],
   "source": [
    "# 44. Write a NumPy program to check whether two arrays are equal (element wise) or not.\n",
    "arr1=np.array([1,2,3,4])\n",
    "arr2=np.array([1,2,3,4])\n",
    "arr3=np.array([10,20,30,4])\n",
    "\n",
    "print(\"checking the arr1 and arr2 array equal or not : \" , arr1==arr2)\n",
    "print(\"checking the arr1 and arr3 array equal or not : \" , arr1==arr3)\n",
    "\n"
   ]
  },
  {
   "cell_type": "code",
   "execution_count": 150,
   "metadata": {},
   "outputs": [
    {
     "name": "stdout",
     "output_type": "stream",
     "text": [
      "[  1  22 333]\n"
     ]
    }
   ],
   "source": [
    "# 45. Write a NumPy program to create a one-dimensional array of single, two and three-digit numbers.\n",
    "arr=np.array([1,22, 333])\n",
    "print(arr)"
   ]
  },
  {
   "cell_type": "code",
   "execution_count": 155,
   "metadata": {},
   "outputs": [
    {
     "name": "stdout",
     "output_type": "stream",
     "text": [
      "changing the shapes into 2D [[1. 2.]\n",
      " [3. 4.]]\n",
      "after changingn the shapre into 1D  [1. 2. 3. 4.]\n"
     ]
    }
   ],
   "source": [
    "# 46. Write a NumPy program to create a two-dimensional array of a specified format.\n",
    "arr=np.array([[1,2],[3,4]], dtype=float)\n",
    "print(\"changing the shapes into 2D\",arr)\n",
    "\n",
    "#changing the share of it\n",
    "print(\"after changingn the shapre into 1D \",arr.flatten())\n"
   ]
  },
  {
   "cell_type": "code",
   "execution_count": 166,
   "metadata": {},
   "outputs": [
    {
     "data": {
      "text/plain": [
       "array([0.36133487, 0.88284812, 0.19536874, 0.00793285, 0.22873666,\n",
       "       0.60198377, 0.16949211, 0.35494655, 0.98626872, 0.00698351,\n",
       "       0.09046821, 0.64477524, 0.03325024, 0.8679996 , 0.90670393,\n",
       "       0.32382012, 0.50519355, 0.1270519 , 0.74224765, 0.12402021,\n",
       "       0.27563461, 0.01736324, 0.03833824, 0.98244017, 0.51573728,\n",
       "       0.88111553, 0.83740556, 0.65565531, 0.69507969, 0.24173165,\n",
       "       0.15105766, 0.94685853, 0.01394796, 0.53959206, 0.75844904,\n",
       "       0.15202758, 0.62784371, 0.16486642, 0.36517961, 0.79011445])"
      ]
     },
     "execution_count": 166,
     "metadata": {},
     "output_type": "execute_result"
    }
   ],
   "source": [
    "# 47. Write a NumPy program to create a one-dimensional array of forty pseudo-randomly generated values. Select random numbers from a uniform distribution between 0 and 1. \n",
    "\n",
    "arr=np.random.rand(40)\n",
    "arr"
   ]
  },
  {
   "cell_type": "code",
   "execution_count": 167,
   "metadata": {},
   "outputs": [
    {
     "data": {
      "text/plain": [
       "array([[0.86811224, 0.87213947, 0.34884077, 0.50797994, 0.6633671 ],\n",
       "       [0.36159746, 0.30728309, 0.59099052, 0.04235669, 0.91971221],\n",
       "       [0.33153479, 0.43401386, 0.15532632, 0.81797065, 0.52053264],\n",
       "       [0.69362804, 0.91518952, 0.15308525, 0.04152327, 0.91370695],\n",
       "       [0.26919633, 0.19098686, 0.90178171, 0.86749217, 0.39725604],\n",
       "       [0.35921194, 0.31286853, 0.53521059, 0.62588438, 0.09493409],\n",
       "       [0.26994398, 0.37089439, 0.01585299, 0.58636937, 0.29548061],\n",
       "       [0.95389486, 0.43086215, 0.90809015, 0.61617033, 0.13655294]])"
      ]
     },
     "execution_count": 167,
     "metadata": {},
     "output_type": "execute_result"
    }
   ],
   "source": [
    "# 48. Write a NumPy program to create a two-dimensional array with shape (8,5) of random numbers. Select random numbers from a normal distribution (200,7).\n",
    "\n",
    "arr=np.random.rand(40).reshape(8,5)\n",
    "arr\n"
   ]
  },
  {
   "cell_type": "code",
   "execution_count": 168,
   "metadata": {},
   "outputs": [],
   "source": [
    "# 49. Write a NumPy program to generate a uniform, non-uniform random sample from a given 1-D array with and without replacement."
   ]
  },
  {
   "cell_type": "code",
   "execution_count": 174,
   "metadata": {},
   "outputs": [
    {
     "name": "stdout",
     "output_type": "stream",
     "text": [
      "orginal array :\n",
      " [[0.39792413 0.32208076]\n",
      " [0.5527889  0.64921899]\n",
      " [0.62808749 0.53092712]\n",
      " [0.75601996 0.24255478]\n",
      " [0.82547434 0.72708836]]\n",
      "\n",
      "\n",
      "swappped arrays with 1 to last , last to 1 \n",
      " [[0.82547434 0.72708836]\n",
      " [0.5527889  0.64921899]\n",
      " [0.62808749 0.53092712]\n",
      " [0.75601996 0.24255478]\n",
      " [0.39792413 0.32208076]]\n"
     ]
    }
   ],
   "source": [
    "# 50. Write a  NumPy program to create a 4x4 array with random values. Create an array from the said array swapping first and last rows\n",
    "arr=np.random.rand(10).reshape(5,2)\n",
    "\n",
    "print(\"orginal array :\\n\", arr)\n",
    "# arr[[0,-1],:] accesses the first and last rows, and then swaps them using advanced indexing\n",
    "arr[[0,-1],:] = arr[[-1,0],:]\n",
    "print(\"\\n\\nswappped arrays with 1 to last , last to 1 \\n\", arr)\n"
   ]
  },
  {
   "cell_type": "code",
   "execution_count": 179,
   "metadata": {},
   "outputs": [
    {
     "name": "stdout",
     "output_type": "stream",
     "text": [
      "original arrays : \n",
      " [[0. 0. 0. 0. 0. 0.]\n",
      " [0. 0. 0. 0. 0. 0.]\n",
      " [0. 0. 0. 0. 0. 0.]\n",
      " [0. 0. 0. 0. 0. 0.]\n",
      " [0. 0. 0. 0. 0. 0.]]\n",
      "\n",
      "\n",
      "modified array :\n",
      " [[3. 0. 3. 0. 3. 0.]\n",
      " [0. 0. 0. 0. 0. 0.]\n",
      " [3. 0. 3. 0. 3. 0.]\n",
      " [0. 0. 0. 0. 0. 0.]\n",
      " [3. 0. 3. 0. 3. 0.]]\n"
     ]
    }
   ],
   "source": [
    "# 51. Write a NumPy program to create a new array of given shape (5,6) and type, filled with zeros.\n",
    "arr=np.zeros((5,6))\n",
    "print(\"original arrays : \\n\", arr)\n",
    "\n",
    "# Assigning value 3 to every alternate row and column starting from index 0\n",
    "arr[::2, ::2] = 3\n",
    "\n",
    "print(\"\\n\\nmodified array :\\n\", arr)"
   ]
  },
  {
   "cell_type": "code",
   "execution_count": 185,
   "metadata": {},
   "outputs": [
    {
     "name": "stdout",
     "output_type": "stream",
     "text": [
      "\n",
      "Sort the said array by row in ascending order:\n",
      "[[1 2]\n",
      " [4 6]]\n",
      "\n",
      "Sort the said array by column in ascending order:\n",
      "[[2 1]\n",
      " [6 4]]\n"
     ]
    }
   ],
   "source": [
    "# 52. Write a NumPy program to sort a given array by row and column in ascending order.\n",
    "arr=np.array([[2,1],[6,4]])\n",
    "print(\"\\nSort the said array by row in ascending order:\")\n",
    "print(np.sort(arr))\n",
    "\n",
    "print(\"\\nSort the said array by column in ascending order:\")\n",
    "print(np.sort(arr, axis=0))"
   ]
  },
  {
   "cell_type": "code",
   "execution_count": 190,
   "metadata": {},
   "outputs": [
    {
     "name": "stdout",
     "output_type": "stream",
     "text": [
      "[1]\n",
      "[6]\n"
     ]
    }
   ],
   "source": [
    "# 53. Write a NumPy program to extract all numbers from a given array less and greater than a specified number.\n",
    "\n",
    "arr=np.array([[2,1],[6,4]])\n",
    "print(arr[arr<2]) # 1\n",
    "print(arr[arr>4]) # 6"
   ]
  },
  {
   "cell_type": "code",
   "execution_count": 200,
   "metadata": {},
   "outputs": [
    {
     "name": "stdout",
     "output_type": "stream",
     "text": [
      "orginal array : \n",
      " [[2 1]\n",
      " [6 4]]\n",
      "\n",
      "\n",
      " [[10  1]\n",
      " [10 10]]\n",
      "\n",
      " [[60 60]\n",
      " [ 6 60]]\n"
     ]
    }
   ],
   "source": [
    "# 54. Write a NumPy program to replace all numbers in a given array equal, less and greater than a given number.\n",
    "\n",
    "arr=np.array([[2,1],[6,4]])\n",
    "\n",
    "print(\"orginal array : \\n\", arr)\n",
    "print(\"\\n\\n\",np.where(arr<2, arr , 10)) \n",
    "\n",
    "print(\"\\n\",np.where(arr>4 , arr, 60)) "
   ]
  },
  {
   "cell_type": "code",
   "execution_count": 201,
   "metadata": {},
   "outputs": [],
   "source": [
    "# 55. Write a NumPy program to create an array of equal shape and data type for a given array.\n"
   ]
  },
  {
   "cell_type": "code",
   "execution_count": 203,
   "metadata": {},
   "outputs": [],
   "source": [
    "# 56. Write a NumPy program to create a three-dimensional array with the shape (3,5,4) and set it to a variable."
   ]
  },
  {
   "cell_type": "code",
   "execution_count": 219,
   "metadata": {},
   "outputs": [
    {
     "ename": "ValueError",
     "evalue": "could not broadcast input array from shape (1,4) into shape (4,1)",
     "output_type": "error",
     "traceback": [
      "\u001b[0;31m---------------------------------------------------------------------------\u001b[0m",
      "\u001b[0;31mValueError\u001b[0m                                Traceback (most recent call last)",
      "Cell \u001b[0;32mIn[219], line 5\u001b[0m\n\u001b[1;32m      3\u001b[0m arr\u001b[38;5;241m=\u001b[39mnp\u001b[38;5;241m.\u001b[39mrandom\u001b[38;5;241m.\u001b[39mrand(\u001b[38;5;241m16\u001b[39m)\u001b[38;5;241m.\u001b[39mreshape(\u001b[38;5;241m4\u001b[39m,\u001b[38;5;241m4\u001b[39m)\n\u001b[1;32m      4\u001b[0m \u001b[38;5;66;03m# print(\"original arrays : \", arr)\u001b[39;00m\n\u001b[0;32m----> 5\u001b[0m arr[:,\u001b[38;5;241m-\u001b[39m\u001b[38;5;241m1\u001b[39m::]\u001b[38;5;241m=\u001b[39marr[\u001b[38;5;241m-\u001b[39m\u001b[38;5;241m1\u001b[39m::,:]\n\u001b[1;32m      6\u001b[0m arr\n",
      "\u001b[0;31mValueError\u001b[0m: could not broadcast input array from shape (1,4) into shape (4,1)"
     ]
    }
   ],
   "source": [
    "# 57. Write a NumPy program to create a 4x4 array. Create an array from said array by swapping first and last, second and third columns\n",
    "\n",
    "arr=np.random.rand(16).reshape(4,4)\n",
    "# print(\"original arrays : \", arr)\n",
    "arr[:,-1::]=arr[-1::,:]\n",
    "arr"
   ]
  },
  {
   "cell_type": "code",
   "execution_count": 228,
   "metadata": {},
   "outputs": [
    {
     "name": "stdout",
     "output_type": "stream",
     "text": [
      "orginal array :  [[3 1]\n",
      " [4 2]\n",
      " [5 1]]\n",
      "reversed array [[1 5]\n",
      " [2 4]\n",
      " [1 3]]\n"
     ]
    }
   ],
   "source": [
    "# 58. Write a NumPy program to swap rows and columns of a given array in reverse order.\n",
    "arr=np.array([[3,1],[4,2],[5,1]])\n",
    "print(\"orginal array : \", arr)\n",
    "\n",
    "print(\"reversed array\", arr[::-1, ::-1])"
   ]
  },
  {
   "cell_type": "code",
   "execution_count": 230,
   "metadata": {},
   "outputs": [
    {
     "name": "stdout",
     "output_type": "stream",
     "text": [
      "multiplying the arrays :  [10 40 90]\n",
      "second ways to multiplying :  [10 40 90]\n"
     ]
    }
   ],
   "source": [
    "# 59. Write a NumPy program to multiply two given arrays of the same size element-by-element.\n",
    "x=np.array([1,2,3])\n",
    "y=np.array([10,20,30])\n",
    "print(\"multiplying the arrays : \", x*y)\n",
    "print(\"second ways to multiplying : \", np.multiply(x,y))"
   ]
  },
  {
   "cell_type": "code",
   "execution_count": null,
   "metadata": {},
   "outputs": [],
   "source": []
  }
 ],
 "metadata": {
  "kernelspec": {
   "display_name": "base",
   "language": "python",
   "name": "python3"
  },
  "language_info": {
   "codemirror_mode": {
    "name": "ipython",
    "version": 3
   },
   "file_extension": ".py",
   "mimetype": "text/x-python",
   "name": "python",
   "nbconvert_exporter": "python",
   "pygments_lexer": "ipython3",
   "version": "3.12.4"
  }
 },
 "nbformat": 4,
 "nbformat_minor": 2
}
