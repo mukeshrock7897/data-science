{
 "cells": [
  {
   "cell_type": "code",
   "execution_count": 1,
   "metadata": {},
   "outputs": [
    {
     "name": "stdout",
     "output_type": "stream",
     "text": [
      "Advanced topics implemented successfully.\n"
     ]
    },
    {
     "name": "stderr",
     "output_type": "stream",
     "text": [
      "/opt/anaconda3/lib/python3.12/site-packages/sklearn/utils/deprecation.py:151: FutureWarning: 'force_all_finite' was renamed to 'ensure_all_finite' in 1.6 and will be removed in 1.8.\n",
      "  warnings.warn(\n",
      "/opt/anaconda3/lib/python3.12/site-packages/sklearn/base.py:484: FutureWarning: `BaseEstimator._check_n_features` is deprecated in 1.6 and will be removed in 1.7. Use `sklearn.utils.validation._check_n_features` instead.\n",
      "  warnings.warn(\n",
      "/opt/anaconda3/lib/python3.12/site-packages/sklearn/base.py:493: FutureWarning: `BaseEstimator._check_feature_names` is deprecated in 1.6 and will be removed in 1.7. Use `sklearn.utils.validation._check_feature_names` instead.\n",
      "  warnings.warn(\n",
      "/opt/anaconda3/lib/python3.12/site-packages/sklearn/base.py:474: FutureWarning: `BaseEstimator._validate_data` is deprecated in 1.6 and will be removed in 1.7. Use `sklearn.utils.validation.validate_data` instead. This function becomes public and is part of the scikit-learn developer API.\n",
      "  warnings.warn(\n"
     ]
    }
   ],
   "source": [
    "import numpy as np\n",
    "from sklearn.feature_extraction.text import CountVectorizer, TfidfVectorizer\n",
    "from sklearn.decomposition import LatentDirichletAllocation\n",
    "from sklearn.model_selection import TimeSeriesSplit\n",
    "from imblearn.over_sampling import RandomOverSampler, SMOTE\n",
    "from sklearn.utils.class_weight import compute_class_weight\n",
    "from sklearn.base import BaseEstimator, TransformerMixin\n",
    "\n",
    "# 7.1. Text/NLP\n",
    "# Convert text data to numerical features using CountVectorizer and TfidfVectorizer\n",
    "text_data = [\"Machine learning is fun\", \"AI is the future\", \"NLP is a subset of AI\"]\n",
    "count_vectorizer = CountVectorizer()\n",
    "tfidf_vectorizer = TfidfVectorizer()\n",
    "X_count = count_vectorizer.fit_transform(text_data)\n",
    "X_tfidf = tfidf_vectorizer.fit_transform(text_data)\n",
    "\n",
    "# Topic Modeling using Latent Dirichlet Allocation (LDA)\n",
    "lda = LatentDirichletAllocation(n_components=2, random_state=42)\n",
    "topics = lda.fit_transform(X_tfidf)\n",
    "\n",
    "# 7.2. Time Series\n",
    "# TimeSeriesSplit for time series cross-validation\n",
    "tscv = TimeSeriesSplit(n_splits=5)\n",
    "\n",
    "# 7.3. Imbalanced Data\n",
    "# Resampling using RandomOverSampler and SMOTE\n",
    "X_imbalance = np.array([[1], [2], [3], [4], [5], [6]])\n",
    "y_imbalance = np.array([0, 0, 0, 1, 1, 1])\n",
    "ros = RandomOverSampler(random_state=42)\n",
    "smote = SMOTE(random_state=42)\n",
    "X_resampled, y_resampled = ros.fit_resample(X_imbalance, y_imbalance)\n",
    "X_smote, y_smote = smote.fit_resample(X_imbalance, y_imbalance)\n",
    "\n",
    "# Class weighting\n",
    "class_weights = compute_class_weight('balanced', classes=np.unique(y_imbalance), y=y_imbalance)\n",
    "\n",
    "# 7.4. Custom Estimator\n",
    "# Creating a scikit-learn compatible custom transformer\n",
    "class CustomTransformer(BaseEstimator, TransformerMixin):\n",
    "    def fit(self, X, y=None):\n",
    "        return self\n",
    "    def transform(self, X):\n",
    "        return X * 2  # Example transformation\n",
    "\n",
    "custom_transformer = CustomTransformer()\n",
    "X_transformed = custom_transformer.fit_transform(X_imbalance)\n",
    "\n",
    "print(\"Advanced topics implemented successfully.\")\n"
   ]
  },
  {
   "cell_type": "code",
   "execution_count": 6,
   "metadata": {},
   "outputs": [
    {
     "name": "stdout",
     "output_type": "stream",
     "text": [
      "Advanced topics implemented successfully.\n"
     ]
    },
    {
     "name": "stderr",
     "output_type": "stream",
     "text": [
      "/opt/anaconda3/lib/python3.12/site-packages/sklearn/utils/deprecation.py:151: FutureWarning: 'force_all_finite' was renamed to 'ensure_all_finite' in 1.6 and will be removed in 1.8.\n",
      "  warnings.warn(\n",
      "/opt/anaconda3/lib/python3.12/site-packages/sklearn/base.py:484: FutureWarning: `BaseEstimator._check_n_features` is deprecated in 1.6 and will be removed in 1.7. Use `sklearn.utils.validation._check_n_features` instead.\n",
      "  warnings.warn(\n",
      "/opt/anaconda3/lib/python3.12/site-packages/sklearn/base.py:493: FutureWarning: `BaseEstimator._check_feature_names` is deprecated in 1.6 and will be removed in 1.7. Use `sklearn.utils.validation._check_feature_names` instead.\n",
      "  warnings.warn(\n",
      "/opt/anaconda3/lib/python3.12/site-packages/sklearn/base.py:474: FutureWarning: `BaseEstimator._validate_data` is deprecated in 1.6 and will be removed in 1.7. Use `sklearn.utils.validation.validate_data` instead. This function becomes public and is part of the scikit-learn developer API.\n",
      "  warnings.warn(\n"
     ]
    }
   ],
   "source": [
    "import numpy as np\n",
    "from sklearn.feature_extraction.text import CountVectorizer, TfidfVectorizer\n",
    "from sklearn.decomposition import LatentDirichletAllocation\n",
    "from sklearn.model_selection import TimeSeriesSplit\n",
    "from imblearn.over_sampling import RandomOverSampler, SMOTE\n",
    "from sklearn.utils.class_weight import compute_class_weight\n",
    "from sklearn.base import BaseEstimator, TransformerMixin\n",
    "from xgboost import XGBClassifier\n",
    "from lightgbm import LGBMClassifier\n",
    "from catboost import CatBoostClassifier\n",
    "from sklearn.neural_network import MLPClassifier\n",
    "\n",
    "# 7.1. Text/NLP\n",
    "# Convert text data to numerical features using CountVectorizer and TfidfVectorizer\n",
    "text_data = [\"Machine learning is fun\", \"AI is the future\", \"NLP is a subset of AI\"]\n",
    "count_vectorizer = CountVectorizer()\n",
    "tfidf_vectorizer = TfidfVectorizer()\n",
    "X_count = count_vectorizer.fit_transform(text_data)\n",
    "X_tfidf = tfidf_vectorizer.fit_transform(text_data)\n",
    "\n",
    "# Topic Modeling using Latent Dirichlet Allocation (LDA)\n",
    "lda = LatentDirichletAllocation(n_components=2, random_state=42)\n",
    "topics = lda.fit_transform(X_tfidf)\n",
    "\n",
    "# 7.2. Time Series\n",
    "# TimeSeriesSplit for time series cross-validation\n",
    "tscv = TimeSeriesSplit(n_splits=5)\n",
    "\n",
    "# 7.3. Imbalanced Data\n",
    "# Resampling using RandomOverSampler and SMOTE\n",
    "X_imbalance = np.array([[1], [2], [3], [4], [5], [6]])\n",
    "y_imbalance = np.array([0, 0, 0, 1, 1, 1])\n",
    "ros = RandomOverSampler(random_state=42)\n",
    "smote = SMOTE(random_state=42)\n",
    "X_resampled, y_resampled = ros.fit_resample(X_imbalance, y_imbalance)\n",
    "X_smote, y_smote = smote.fit_resample(X_imbalance, y_imbalance)\n",
    "\n",
    "# Class weighting\n",
    "class_weights = compute_class_weight('balanced', classes=np.unique(y_imbalance), y=y_imbalance)\n",
    "\n",
    "# 7.4. Custom Estimator\n",
    "# Creating a scikit-learn compatible custom transformer\n",
    "class CustomTransformer(BaseEstimator, TransformerMixin):\n",
    "    def fit(self, X, y=None):\n",
    "        return self\n",
    "    def transform(self, X):\n",
    "        return X * 2  # Example transformation\n",
    "\n",
    "custom_transformer = CustomTransformer()\n",
    "X_transformed = custom_transformer.fit_transform(X_imbalance)\n",
    "\n",
    "# 7.5. Gradient Boosting\n",
    "xgb = XGBClassifier()\n",
    "lgbm = LGBMClassifier()\n",
    "catboost = CatBoostClassifier(verbose=0)\n",
    "\n",
    "# 7.6. Deep Learning\n",
    "mlp = MLPClassifier(hidden_layer_sizes=(50, 25), max_iter=500, random_state=42)\n",
    "\n",
    "print(\"Advanced topics implemented successfully.\")\n"
   ]
  },
  {
   "cell_type": "code",
   "execution_count": null,
   "metadata": {},
   "outputs": [],
   "source": []
  }
 ],
 "metadata": {
  "kernelspec": {
   "display_name": "base",
   "language": "python",
   "name": "python3"
  },
  "language_info": {
   "codemirror_mode": {
    "name": "ipython",
    "version": 3
   },
   "file_extension": ".py",
   "mimetype": "text/x-python",
   "name": "python",
   "nbconvert_exporter": "python",
   "pygments_lexer": "ipython3",
   "version": "3.12.4"
  }
 },
 "nbformat": 4,
 "nbformat_minor": 2
}
