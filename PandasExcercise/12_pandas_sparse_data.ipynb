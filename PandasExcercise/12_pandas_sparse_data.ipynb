{
 "cells": [
  {
   "cell_type": "code",
   "execution_count": 3,
   "metadata": {},
   "outputs": [
    {
     "name": "stdout",
     "output_type": "stream",
     "text": [
      "\n",
      "9.1 Sparse matrix (scipy.sparse):\n",
      " <Compressed Sparse Row sparse matrix of dtype 'int64'\n",
      "\twith 4 stored elements and shape (3, 4)>\n",
      "  Coords\tValues\n",
      "  (0, 0)\t1\n",
      "  (0, 3)\t4\n",
      "  (1, 2)\t3\n",
      "  (2, 1)\t2\n",
      "\n",
      "9.2 Sparse DataFrame from sparse matrix:\n",
      "    A  B  C  D\n",
      "0  1  0  0  4\n",
      "1  0  0  3  0\n",
      "2  0  2  0  0\n",
      "\n",
      "9.3 Sparse DataFrame from sparse matrix (inferred columns):\n",
      "    0  1  2  3\n",
      "0  1  0  0  4\n",
      "1  0  0  3  0\n",
      "2  0  2  0  0\n",
      "\n",
      "10.1 Size of the sparse matrix: 48 bytes\n",
      "\n",
      "10.2 Size of the sparse dataframe: 212 bytes\n"
     ]
    }
   ],
   "source": [
    "import pandas as pd\n",
    "import numpy as np\n",
    "from scipy.sparse import csr_matrix\n",
    "import sys\n",
    "\n",
    "# ... (Previous examples of creating Sparse DataFrames and Series)\n",
    "\n",
    "# 9. Sparse Arrays (Another way to represent sparse data)\n",
    "\n",
    "sparse_matrix = csr_matrix([[1, 0, 0, 4], [0, 0, 3, 0], [0, 2, 0, 0]])\n",
    "print(\"\\n9.1 Sparse matrix (scipy.sparse):\\n\", sparse_matrix)\n",
    "\n",
    "# Correct the number of columns here:\n",
    "df_from_sparse = pd.DataFrame.sparse.from_spmatrix(sparse_matrix, columns=['A', 'B', 'C', 'D'])  # Added 'D'\n",
    "print(\"\\n9.2 Sparse DataFrame from sparse matrix:\\n\", df_from_sparse)\n",
    "\n",
    "# Or, if you don't want to specify columns manually, you can let pandas infer them:\n",
    "df_from_sparse_inferred = pd.DataFrame.sparse.from_spmatrix(sparse_matrix)  # Let pandas infer\n",
    "print(\"\\n9.3 Sparse DataFrame from sparse matrix (inferred columns):\\n\", df_from_sparse_inferred)\n",
    "\n",
    "# 10. Memory usage comparison between sparse matrix and sparse dataframe\n",
    "\n",
    "sparse_matrix_size = sys.getsizeof(sparse_matrix)\n",
    "sparse_dataframe_size = sys.getsizeof(df_from_sparse)\n",
    "\n",
    "print(f\"\\n10.1 Size of the sparse matrix: {sparse_matrix_size} bytes\")\n",
    "print(f\"\\n10.2 Size of the sparse dataframe: {sparse_dataframe_size} bytes\")"
   ]
  },
  {
   "cell_type": "code",
   "execution_count": null,
   "metadata": {},
   "outputs": [],
   "source": []
  }
 ],
 "metadata": {
  "kernelspec": {
   "display_name": "base",
   "language": "python",
   "name": "python3"
  },
  "language_info": {
   "codemirror_mode": {
    "name": "ipython",
    "version": 3
   },
   "file_extension": ".py",
   "mimetype": "text/x-python",
   "name": "python",
   "nbconvert_exporter": "python",
   "pygments_lexer": "ipython3",
   "version": "3.12.4"
  }
 },
 "nbformat": 4,
 "nbformat_minor": 2
}
